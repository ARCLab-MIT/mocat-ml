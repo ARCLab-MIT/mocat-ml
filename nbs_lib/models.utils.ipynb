{
 "cells": [
  {
   "cell_type": "code",
   "execution_count": 1,
   "metadata": {},
   "outputs": [],
   "source": [
    "#|default_exp models.utils"
   ]
  },
  {
   "cell_type": "markdown",
   "metadata": {},
   "source": [
    "# Model utils"
   ]
  },
  {
   "cell_type": "code",
   "execution_count": 2,
   "metadata": {},
   "outputs": [],
   "source": [
    "import sys\n",
    "sys.path.append('..')\n",
    "from tsai.basics import *\n",
    "from mocatml.data import *"
   ]
  },
  {
   "cell_type": "code",
   "execution_count": 3,
   "metadata": {},
   "outputs": [],
   "source": [
    "#|export\n",
    "from mocatml.models.conv_rnn import *\n",
    "from fastcore.all import *\n",
    "from fastai.vision.all import Learner"
   ]
  },
  {
   "cell_type": "code",
   "execution_count": 54,
   "metadata": {},
   "outputs": [],
   "source": [
    "#|export\n",
    "@patch\n",
    "@delegates(Learner.get_preds)\n",
    "def get_preds_iterative(self:Learner, dl, n_iter=1, track_losses=False, **kwargs):\n",
    "    \"\"\"\n",
    "        Call get preds iteratively on a dataloader with a `DensityTupleTransform`\n",
    "        TODO: Crashes if inner=True (kwargs), so it will produce invisible progress\n",
    "        bars \n",
    "    \"\"\"\n",
    "    p, t = self.get_preds(dl=dl, **kwargs)\n",
    "    ds_copy = copy(dl.ds) # Useful to move the gap without changing the original ds\n",
    "    if track_losses:\n",
    "        losses = [self.loss_func(p,t).item()]\n",
    "    for _ in range(n_iter-1):\n",
    "        ds_copy.data = ds_copy.data[:,ds_copy.h:] # Move h steps forward\n",
    "        dl_new = dl.new(TfmdLists(range(len(ds_copy)), \n",
    "                                    DensityTupleTransform(ds_copy)))\n",
    "        p,t = self.get_preds(dl=dl_new, **kwargs)\n",
    "        if track_losses:\n",
    "            losses.append(self.loss_func(p,t).item())\n",
    "    if track_losses:\n",
    "        return p, t, losses\n",
    "    else:\n",
    "        return p, t"
   ]
  },
  {
   "cell_type": "code",
   "execution_count": 5,
   "metadata": {},
   "outputs": [
    {
     "data": {
      "text/html": [
       "\n",
       "<style>\n",
       "    /* Turns off some styling */\n",
       "    progress {\n",
       "        /* gets rid of default border in Firefox and Opera. */\n",
       "        border: none;\n",
       "        /* Needs to be in here for Safari polyfill so background images work as expected. */\n",
       "        background-size: auto;\n",
       "    }\n",
       "    progress:not([value]), progress:not([value])::-webkit-progress-bar {\n",
       "        background: repeating-linear-gradient(45deg, #7e7e7e, #7e7e7e 10px, #5c5c5c 10px, #5c5c5c 20px);\n",
       "    }\n",
       "    .progress-bar-interrupted, .progress-bar-interrupted::-webkit-progress-bar {\n",
       "        background: #F44336;\n",
       "    }\n",
       "</style>\n"
      ],
      "text/plain": [
       "<IPython.core.display.HTML object>"
      ]
     },
     "metadata": {},
     "output_type": "display_data"
    },
    {
     "data": {
      "text/html": [],
      "text/plain": [
       "<IPython.core.display.HTML object>"
      ]
     },
     "metadata": {},
     "output_type": "display_data"
    },
    {
     "data": {
      "text/html": [
       "\n",
       "<style>\n",
       "    /* Turns off some styling */\n",
       "    progress {\n",
       "        /* gets rid of default border in Firefox and Opera. */\n",
       "        border: none;\n",
       "        /* Needs to be in here for Safari polyfill so background images work as expected. */\n",
       "        background-size: auto;\n",
       "    }\n",
       "    progress:not([value]), progress:not([value])::-webkit-progress-bar {\n",
       "        background: repeating-linear-gradient(45deg, #7e7e7e, #7e7e7e 10px, #5c5c5c 10px, #5c5c5c 20px);\n",
       "    }\n",
       "    .progress-bar-interrupted, .progress-bar-interrupted::-webkit-progress-bar {\n",
       "        background: #F44336;\n",
       "    }\n",
       "</style>\n"
      ],
      "text/plain": [
       "<IPython.core.display.HTML object>"
      ]
     },
     "metadata": {},
     "output_type": "display_data"
    },
    {
     "data": {
      "text/html": [],
      "text/plain": [
       "<IPython.core.display.HTML object>"
      ]
     },
     "metadata": {},
     "output_type": "display_data"
    },
    {
     "data": {
      "text/html": [
       "\n",
       "<style>\n",
       "    /* Turns off some styling */\n",
       "    progress {\n",
       "        /* gets rid of default border in Firefox and Opera. */\n",
       "        border: none;\n",
       "        /* Needs to be in here for Safari polyfill so background images work as expected. */\n",
       "        background-size: auto;\n",
       "    }\n",
       "    progress:not([value]), progress:not([value])::-webkit-progress-bar {\n",
       "        background: repeating-linear-gradient(45deg, #7e7e7e, #7e7e7e 10px, #5c5c5c 10px, #5c5c5c 20px);\n",
       "    }\n",
       "    .progress-bar-interrupted, .progress-bar-interrupted::-webkit-progress-bar {\n",
       "        background: #F44336;\n",
       "    }\n",
       "</style>\n"
      ],
      "text/plain": [
       "<IPython.core.display.HTML object>"
      ]
     },
     "metadata": {},
     "output_type": "display_data"
    },
    {
     "data": {
      "text/html": [],
      "text/plain": [
       "<IPython.core.display.HTML object>"
      ]
     },
     "metadata": {},
     "output_type": "display_data"
    },
    {
     "data": {
      "text/html": [
       "\n",
       "<style>\n",
       "    /* Turns off some styling */\n",
       "    progress {\n",
       "        /* gets rid of default border in Firefox and Opera. */\n",
       "        border: none;\n",
       "        /* Needs to be in here for Safari polyfill so background images work as expected. */\n",
       "        background-size: auto;\n",
       "    }\n",
       "    progress:not([value]), progress:not([value])::-webkit-progress-bar {\n",
       "        background: repeating-linear-gradient(45deg, #7e7e7e, #7e7e7e 10px, #5c5c5c 10px, #5c5c5c 20px);\n",
       "    }\n",
       "    .progress-bar-interrupted, .progress-bar-interrupted::-webkit-progress-bar {\n",
       "        background: #F44336;\n",
       "    }\n",
       "</style>\n"
      ],
      "text/plain": [
       "<IPython.core.display.HTML object>"
      ]
     },
     "metadata": {},
     "output_type": "display_data"
    },
    {
     "data": {
      "text/html": [],
      "text/plain": [
       "<IPython.core.display.HTML object>"
      ]
     },
     "metadata": {},
     "output_type": "display_data"
    },
    {
     "data": {
      "text/html": [
       "\n",
       "<style>\n",
       "    /* Turns off some styling */\n",
       "    progress {\n",
       "        /* gets rid of default border in Firefox and Opera. */\n",
       "        border: none;\n",
       "        /* Needs to be in here for Safari polyfill so background images work as expected. */\n",
       "        background-size: auto;\n",
       "    }\n",
       "    progress:not([value]), progress:not([value])::-webkit-progress-bar {\n",
       "        background: repeating-linear-gradient(45deg, #7e7e7e, #7e7e7e 10px, #5c5c5c 10px, #5c5c5c 20px);\n",
       "    }\n",
       "    .progress-bar-interrupted, .progress-bar-interrupted::-webkit-progress-bar {\n",
       "        background: #F44336;\n",
       "    }\n",
       "</style>\n"
      ],
      "text/plain": [
       "<IPython.core.display.HTML object>"
      ]
     },
     "metadata": {},
     "output_type": "display_data"
    },
    {
     "data": {
      "text/html": [],
      "text/plain": [
       "<IPython.core.display.HTML object>"
      ]
     },
     "metadata": {},
     "output_type": "display_data"
    }
   ],
   "source": [
    "# test\n",
    "default_device(0)\n",
    "lbk = 4\n",
    "h = 4\n",
    "n_iter = 4\n",
    "data = np_load_compressed('TLE_density_10_15x15.npy.gz', \n",
    "                          path='../example_data')\n",
    "ds = DensityData(data, lbk=lbk, h=h)\n",
    "tl = TfmdLists(range(len(ds)), DensityTupleTransform(ds))\n",
    "dls = tl.dataloaders(bs=32, shuffle=False, num_workers=0)\n",
    "learn = Learner(dls=dls, \n",
    "                model=StackUnstack(SimpleModel()).to(default_device()),\n",
    "                loss_func=StackLoss())\n",
    "p,t,losses = learn.get_preds_iterative(dl=dls[0], n_iter=n_iter, track_losses=True);\n",
    "test_eq(len(p), h)\n",
    "test_eq(p[0].shape, [10, 1, 36, 99])\n",
    "# Compare with the direct prediction made with a gap\n",
    "ds_gap = copy(ds)\n",
    "ds_gap.gap += (n_iter-1)*h\n",
    "dl_gap = dls.new(TfmdLists(range(len(ds_gap)), DensityTupleTransform(ds_gap)))\n",
    "p2,t2 = learn.get_preds(dl=dl_gap)\n",
    "loss2 = learn.loss_func(p2,t2).item()\n",
    "test_ne(p, p2)\n",
    "test_eq(t, t2)"
   ]
  },
  {
   "cell_type": "code",
   "execution_count": 82,
   "metadata": {},
   "outputs": [],
   "source": [
    "#|export\n",
    "@patch\n",
    "def get_individual_losses(self:Learner, p, t):\n",
    "    \"\"\"\n",
    "        Get the loss for each element given predictions and targets computed\n",
    "        in learn.get_preds\n",
    "    \"\"\"\n",
    "    individual_losses = []\n",
    "    for i in range(p[0].shape[0]):\n",
    "        p_element = tuple(p_horizon[i] for p_horizon in p) \n",
    "        t_element = tuple(t_horizon[i] for t_horizon in t)\n",
    "        loss = self.loss_func(p_element, t_element)\n",
    "        individual_losses.append(loss)\n",
    "    return tensor(individual_losses)"
   ]
  },
  {
   "cell_type": "code",
   "execution_count": 84,
   "metadata": {},
   "outputs": [],
   "source": [
    "# test\n",
    "individual_losses = learn.get_individual_losses(p,t)\n",
    "test_eq(len(individual_losses), len(ds))\n",
    "test_close(individual_losses.mean(), learn.loss_func(p,t), eps=1e-2)"
   ]
  },
  {
   "cell_type": "code",
   "execution_count": 85,
   "metadata": {},
   "outputs": [],
   "source": [
    "foo = Interpretation(learn, dls, tensor(individual_losses))"
   ]
  },
  {
   "cell_type": "code",
   "execution_count": 87,
   "metadata": {},
   "outputs": [
    {
     "data": {
      "text/plain": [
       "tensor([38370.7695, 38361.1016, 37989.8320, 38242.4609, 38417.0742, 38220.0078,\n",
       "        38228.2930, 38430.6680, 38634.5781, 38359.8867])"
      ]
     },
     "execution_count": 87,
     "metadata": {},
     "output_type": "execute_result"
    }
   ],
   "source": [
    "individual_losses"
   ]
  }
 ],
 "metadata": {
  "kernelspec": {
   "display_name": "Python 3",
   "language": "python",
   "name": "python3"
  },
  "language_info": {
   "codemirror_mode": {
    "name": "ipython",
    "version": 3
   },
   "file_extension": ".py",
   "mimetype": "text/x-python",
   "name": "python",
   "nbconvert_exporter": "python",
   "pygments_lexer": "ipython3",
   "version": "3.9.17"
  }
 },
 "nbformat": 4,
 "nbformat_minor": 2
}
