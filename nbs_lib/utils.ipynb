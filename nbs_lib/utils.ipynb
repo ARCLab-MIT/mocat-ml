{
 "cells": [
  {
   "cell_type": "code",
   "execution_count": null,
   "metadata": {},
   "outputs": [],
   "source": [
    "#|default_exp utils"
   ]
  },
  {
   "cell_type": "markdown",
   "metadata": {},
   "source": [
    "# Utils"
   ]
  },
  {
   "cell_type": "code",
   "execution_count": null,
   "metadata": {},
   "outputs": [],
   "source": [
    "#|export\n",
    "import os\n",
    "import re\n",
    "import numpy as np\n",
    "from fastcore.all import *"
   ]
  },
  {
   "cell_type": "code",
   "execution_count": null,
   "metadata": {},
   "outputs": [],
   "source": [
    "#|export\n",
    "def convert_uuids_to_indices():\n",
    "    cuda_visible_devices = os.environ.get(\"CUDA_VISIBLE_DEVICES\", \"\")\n",
    "    uuids = re.findall(r\"\\b[0-9a-fA-F]{8}(?:-[0-9a-fA-F]{4}){3}-[0-9a-fA-F]{12}\\b\", cuda_visible_devices)\n",
    "\n",
    "    if uuids:\n",
    "        indices = [str(i) for i in range(len(uuids))]\n",
    "        os.environ[\"CUDA_VISIBLE_DEVICES\"] = \",\".join(indices)"
   ]
  },
  {
   "cell_type": "code",
   "execution_count": null,
   "metadata": {},
   "outputs": [],
   "source": [
    "#|export\n",
    "def percent_rel_error_(N, N_mc, N_mc_t0):\n",
    "    \"\"\"\n",
    "    Return the percentage relative error with respect to the MC simulation\n",
    "    See Eq. 23 of the paper by Giudici et al. (2023), 'Space debris density \n",
    "    propagation through a vinite volume method'\n",
    "    Input:\n",
    "        N: Predicted number of in-orbit elements over time\n",
    "        N_mc: Number of in-orbit elements from the MC simulation over time\n",
    "        N_mc_t0: Number of in-orbit elements from the MC simulation at t0\n",
    "    Output:\n",
    "        The percentage relative error (float)\n",
    "    \"\"\"\n",
    "    return 100 * np.abs(N_mc - N) / N_mc_t0"
   ]
  },
  {
   "cell_type": "code",
   "execution_count": null,
   "metadata": {},
   "outputs": [],
   "source": [
    "# Test\n",
    "N = np.array([1, 2, 3, 4, 5])\n",
    "N_mc = np.array([1, 2, 3, 4, 5])\n",
    "N_mc_t0 = N_mc[0]\n",
    "res = percent_rel_error_(N, N_mc, N_mc_t0)\n",
    "test_eq(res, np.zeros_like(res))\n",
    "\n",
    "# Test 2\n",
    "N = np.array([1, 2, 3, 4, 5])\n",
    "N_mc = np.array([2, 4, 6, 8, 10])\n",
    "N_mc_t0 = N_mc[0]\n",
    "res = percent_rel_error_(N, N_mc, N_mc_t0)\n",
    "test_eq(res, np.array([ 50., 100., 150., 200., 250.]))\n",
    "\n"
   ]
  },
  {
   "cell_type": "code",
   "execution_count": null,
   "metadata": {},
   "outputs": [],
   "source": [
    "#|eval: false\n",
    "#|hide\n",
    "from nbdev import *\n",
    "nbdev_export()"
   ]
  }
 ],
 "metadata": {
  "kernelspec": {
   "display_name": "python3",
   "language": "python",
   "name": "python3"
  }
 },
 "nbformat": 4,
 "nbformat_minor": 4
}
