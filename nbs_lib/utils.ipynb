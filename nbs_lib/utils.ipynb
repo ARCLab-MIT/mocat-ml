{
 "cells": [
  {
   "cell_type": "code",
   "execution_count": 1,
   "metadata": {},
   "outputs": [],
   "source": [
    "#|default_exp utils"
   ]
  },
  {
   "cell_type": "markdown",
   "metadata": {},
   "source": [
    "# Utils"
   ]
  },
  {
   "cell_type": "code",
   "execution_count": 2,
   "metadata": {},
   "outputs": [],
   "source": [
    "#|export\n",
    "import os\n",
    "import re\n",
    "import numpy as np\n",
    "from fastcore.all import *"
   ]
  },
  {
   "cell_type": "code",
   "execution_count": 3,
   "metadata": {},
   "outputs": [],
   "source": [
    "#|export\n",
    "def convert_uuids_to_indices():\n",
    "    cuda_visible_devices = os.environ.get(\"CUDA_VISIBLE_DEVICES\", \"\")\n",
    "    uuids = re.findall(r\"\\b[0-9a-fA-F]{8}(?:-[0-9a-fA-F]{4}){3}-[0-9a-fA-F]{12}\\b\", cuda_visible_devices)\n",
    "\n",
    "    if uuids:\n",
    "        indices = [str(i) for i in range(len(uuids))]\n",
    "        os.environ[\"CUDA_VISIBLE_DEVICES\"] = \",\".join(indices)"
   ]
  },
  {
   "cell_type": "code",
   "execution_count": 4,
   "metadata": {},
   "outputs": [],
   "source": [
    "#|export\n",
    "def percent_rel_error_(N, N_mc, N_mc_t0):\n",
    "    \"\"\"\n",
    "    Return the percentage relative error with respect to the MC simulation\n",
    "    See Eq. 23 of the paper by Giudici et al. (2023), 'Space debris density \n",
    "    propagation through a vinite volume method'\n",
    "    Input:\n",
    "        N: Predicted number of in-orbit elements over time\n",
    "        N_mc: Number of in-orbit elements from the MC simulation over time\n",
    "        N_mc_t0: Number of in-orbit elements from the MC simulation at t0\n",
    "    Output:\n",
    "        The percentage relative error (float)\n",
    "    \"\"\"\n",
    "    return 100 * np.abs(N_mc - N) / N_mc_t0"
   ]
  },
  {
   "cell_type": "code",
   "execution_count": 5,
   "metadata": {},
   "outputs": [],
   "source": [
    "# Test\n",
    "N = np.array([1, 2, 3, 4, 5])\n",
    "N_mc = np.array([1, 2, 3, 4, 5])\n",
    "N_mc_t0 = N_mc[0]\n",
    "res = percent_rel_error_(N, N_mc, N_mc_t0)\n",
    "test_eq(res, np.zeros_like(res))\n",
    "\n",
    "# Test 2\n",
    "N = np.array([1, 2, 3, 4, 5])\n",
    "N_mc = np.array([2, 4, 6, 8, 10])\n",
    "N_mc_t0 = N_mc[0]\n",
    "res = percent_rel_error_(N, N_mc, N_mc_t0)\n",
    "test_eq(res, np.array([ 50., 100., 150., 200., 250.]))\n",
    "\n"
   ]
  },
  {
   "cell_type": "code",
   "execution_count": 6,
   "metadata": {},
   "outputs": [],
   "source": [
    "#| export\n",
    "def calculate_sample_idxs(simulation_idxs, samples_per_sim):\n",
    "    indices = []\n",
    "    for sim in simulation_idxs:\n",
    "        start_idx = sim * samples_per_sim\n",
    "        end_idx = start_idx + samples_per_sim\n",
    "        indices.extend(range(start_idx, end_idx))\n",
    "    return indices"
   ]
  },
  {
   "cell_type": "code",
   "execution_count": 11,
   "metadata": {},
   "outputs": [
    {
     "data": {
      "text/plain": [
       "[4, 5, 6, 7, 12, 13, 14, 15]"
      ]
     },
     "execution_count": 11,
     "metadata": {},
     "output_type": "execute_result"
    }
   ],
   "source": [
    "# Test\n",
    "sim_data = np.random.rand(10, 4, 36, 99) # sims x samples x h x w\n",
    "simulation_idxs = [1, 3]\n",
    "samples_per_sim = sim_data.shape[1]\n",
    "sample_idxs = calculate_sample_idxs(simulation_idxs, samples_per_sim)\n",
    "sample_idxs"
   ]
  }
 ],
 "metadata": {
  "kernelspec": {
   "display_name": "python3",
   "language": "python",
   "name": "python3"
  },
  "language_info": {
   "codemirror_mode": {
    "name": "ipython",
    "version": 3
   },
   "file_extension": ".py",
   "mimetype": "text/x-python",
   "name": "python",
   "nbconvert_exporter": "python",
   "pygments_lexer": "ipython3",
   "version": "3.9.17"
  }
 },
 "nbformat": 4,
 "nbformat_minor": 4
}
