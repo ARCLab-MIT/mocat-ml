{
 "cells": [
  {
   "cell_type": "code",
   "execution_count": 3,
   "metadata": {},
   "outputs": [],
   "source": [
    "#|default_exp utils"
   ]
  },
  {
   "attachments": {},
   "cell_type": "markdown",
   "metadata": {},
   "source": [
    "# Utils"
   ]
  },
  {
   "cell_type": "code",
   "execution_count": 10,
   "metadata": {},
   "outputs": [],
   "source": [
    "#|export\n",
    "import os\n",
    "import re\n",
    "import numpy as np\n",
    "from fastcore.all import *\n",
    "from tsai.data.preparation import SlidingWindow"
   ]
  },
  {
   "cell_type": "code",
   "execution_count": 4,
   "metadata": {},
   "outputs": [],
   "source": [
    "#|export\n",
    "def convert_uuids_to_indices():\n",
    "    cuda_visible_devices = os.environ.get(\"CUDA_VISIBLE_DEVICES\", \"\")\n",
    "    uuids = re.findall(r\"\\b[0-9a-fA-F]{8}(?:-[0-9a-fA-F]{4}){3}-[0-9a-fA-F]{12}\\b\", cuda_visible_devices)\n",
    "\n",
    "    if uuids:\n",
    "        indices = [str(i) for i in range(len(uuids))]\n",
    "        os.environ[\"CUDA_VISIBLE_DEVICES\"] = \",\".join(indices)"
   ]
  },
  {
   "cell_type": "code",
   "execution_count": 5,
   "metadata": {},
   "outputs": [],
   "source": [
    "#|export\n",
    "def percent_rel_error_(N, N_mc, N_mc_t0):\n",
    "    \"\"\"\n",
    "    Return the percentage relative error with respect to the MC simulation\n",
    "    See Eq. 23 of the paper by Giudici et al. (2023), 'Space debris density \n",
    "    propagation through a vinite volume method'\n",
    "    Input:\n",
    "        N: Predicted number of in-orbit elements over time\n",
    "        N_mc: Number of in-orbit elements from the MC simulation over time\n",
    "        N_mc_t0: Number of in-orbit elements from the MC simulation at t0\n",
    "    Output:\n",
    "        The percentage relative error (float)\n",
    "    \"\"\"\n",
    "    return 100 * np.abs(N_mc - N) / N_mc_t0"
   ]
  },
  {
   "cell_type": "code",
   "execution_count": 6,
   "metadata": {},
   "outputs": [],
   "source": [
    "# Test\n",
    "N = np.array([1, 2, 3, 4, 5])\n",
    "N_mc = np.array([1, 2, 3, 4, 5])\n",
    "N_mc_t0 = N_mc[0]\n",
    "res = percent_rel_error_(N, N_mc, N_mc_t0)\n",
    "test_eq(res, np.zeros_like(res))\n",
    "\n",
    "# Test 2\n",
    "N = np.array([1, 2, 3, 4, 5])\n",
    "N_mc = np.array([2, 4, 6, 8, 10])\n",
    "N_mc_t0 = N_mc[0]\n",
    "res = percent_rel_error_(N, N_mc, N_mc_t0)\n",
    "test_eq(res, np.array([ 50., 100., 150., 200., 250.]))\n",
    "\n"
   ]
  },
  {
   "cell_type": "code",
   "execution_count": 23,
   "metadata": {},
   "outputs": [],
   "source": [
    "#|export\n",
    "@delegates(SlidingWindow)\n",
    "def apply_sliding_window_3d(data, window_len, **kwargs):\n",
    "    \"\"\"\n",
    "        Apply sliding window to 3D data. The data is assumed to have the shape\n",
    "        (n_samples, n_features, n_time_steps).\n",
    "        Input:\n",
    "            data: 3D array\n",
    "            window_len: int, length of the sliding window\n",
    "            horizon: int, number of time steps to predict\n",
    "            kwargs: additional arguments to SlidingWindow\n",
    "        Output:\n",
    "            X: 3D array, shape (n_samples, n_features, window_len)\n",
    "            y: 3D array, shape (n_samples, n_features, horizon)\n",
    "    \"\"\"\n",
    "    sw = SlidingWindow(window_len=window_len, **kwargs)\n",
    "    # Apply the sliding window to every sample (loop on dimension 0) of the data\n",
    "    slices = [sw(x) for x in data]\n",
    "    # Concatenate the slices into single arrays (X and y)\n",
    "    X = np.concatenate([s[0] for s in slices])\n",
    "    y = np.concatenate([s[1] for s in slices])\n",
    "    # In case y is a 2D array (config.horizon = 1), add the time dimension at the end\n",
    "    if y.ndim == 2:\n",
    "        y = np.expand_dims(y, -1)\n",
    "    return X, y"
   ]
  },
  {
   "cell_type": "code",
   "execution_count": 25,
   "metadata": {},
   "outputs": [
    {
     "ename": "ValueError",
     "evalue": "zero-dimensional arrays cannot be concatenated",
     "output_type": "error",
     "traceback": [
      "\u001b[0;31m---------------------------------------------------------------------------\u001b[0m",
      "\u001b[0;31mValueError\u001b[0m                                Traceback (most recent call last)",
      "Cell \u001b[0;32mIn[25], line 3\u001b[0m\n\u001b[1;32m      1\u001b[0m \u001b[39m# Test\u001b[39;00m\n\u001b[1;32m      2\u001b[0m data \u001b[39m=\u001b[39m np\u001b[39m.\u001b[39mrandom\u001b[39m.\u001b[39mrand(\u001b[39m100\u001b[39m, \u001b[39m3\u001b[39m, \u001b[39m10\u001b[39m)\n\u001b[0;32m----> 3\u001b[0m X, y \u001b[39m=\u001b[39m apply_sliding_window_3d(data, window_len\u001b[39m=\u001b[39;49m\u001b[39m5\u001b[39;49m, horizon\u001b[39m=\u001b[39;49m\u001b[39m1\u001b[39;49m, seq_first\u001b[39m=\u001b[39;49m\u001b[39mFalse\u001b[39;49;00m)\n\u001b[1;32m      4\u001b[0m test_eq(X\u001b[39m.\u001b[39mshape, (\u001b[39m90\u001b[39m, \u001b[39m3\u001b[39m, \u001b[39m5\u001b[39m))\n",
      "Cell \u001b[0;32mIn[23], line 20\u001b[0m, in \u001b[0;36mapply_sliding_window_3d\u001b[0;34m(data, window_len, **kwargs)\u001b[0m\n\u001b[1;32m     18\u001b[0m slices \u001b[39m=\u001b[39m [sw(x) \u001b[39mfor\u001b[39;00m x \u001b[39min\u001b[39;00m data]\n\u001b[1;32m     19\u001b[0m \u001b[39m# Concatenate the slices into single arrays (X and y)\u001b[39;00m\n\u001b[0;32m---> 20\u001b[0m X \u001b[39m=\u001b[39m np\u001b[39m.\u001b[39;49mconcatenate([s[\u001b[39m0\u001b[39;49m] \u001b[39mfor\u001b[39;49;00m s \u001b[39min\u001b[39;49;00m slices])\n\u001b[1;32m     21\u001b[0m y \u001b[39m=\u001b[39m np\u001b[39m.\u001b[39mconcatenate([s[\u001b[39m1\u001b[39m] \u001b[39mfor\u001b[39;00m s \u001b[39min\u001b[39;00m slices])\n\u001b[1;32m     22\u001b[0m \u001b[39m# In case y is a 2D array (config.horizon = 1), add the time dimension at the end\u001b[39;00m\n",
      "File \u001b[0;32m<__array_function__ internals>:200\u001b[0m, in \u001b[0;36mconcatenate\u001b[0;34m(*args, **kwargs)\u001b[0m\n",
      "\u001b[0;31mValueError\u001b[0m: zero-dimensional arrays cannot be concatenated"
     ]
    }
   ],
   "source": [
    "# Test\n",
    "data = np.random.rand(100, 3, 10)\n",
    "X, y = apply_sliding_window_3d(data, window_len=5, horizon=1)\n",
    "test_eq(X.shape, (90, 3, 5))"
   ]
  },
  {
   "cell_type": "code",
   "execution_count": 11,
   "metadata": {},
   "outputs": [],
   "source": [
    "#|eval: false\n",
    "#|hide\n",
    "from nbdev import *\n",
    "nbdev_export()"
   ]
  }
 ],
 "metadata": {
  "kernelspec": {
   "display_name": "Python 3",
   "language": "python",
   "name": "python3"
  },
  "language_info": {
   "codemirror_mode": {
    "name": "ipython",
    "version": 3
   },
   "file_extension": ".py",
   "mimetype": "text/x-python",
   "name": "python",
   "nbconvert_exporter": "python",
   "pygments_lexer": "ipython3",
   "version": "3.9.16"
  },
  "orig_nbformat": 4
 },
 "nbformat": 4,
 "nbformat_minor": 2
}
