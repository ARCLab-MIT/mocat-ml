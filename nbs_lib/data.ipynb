{
 "cells": [
  {
   "cell_type": "code",
   "execution_count": 16,
   "id": "a6475ae0-774d-464c-9842-0e25d8feac1a",
   "metadata": {},
   "outputs": [],
   "source": [
    "#|default_exp data"
   ]
  },
  {
   "cell_type": "markdown",
   "id": "4d56f9c0-19fc-4d6a-a3bf-512e0f714140",
   "metadata": {},
   "source": [
    "# Data\n",
    "\n",
    "> Functions related to data processing in MOCATML"
   ]
  },
  {
   "cell_type": "code",
   "execution_count": 17,
   "id": "b9712beb-cf56-41fb-931b-ab56cc57dd28",
   "metadata": {},
   "outputs": [],
   "source": [
    "#|export\n",
    "import numpy as np\n",
    "from fastcore.all import *\n",
    "from tsai.data.preparation import SlidingWindow"
   ]
  },
  {
   "cell_type": "code",
   "execution_count": 18,
   "id": "c5731e30-9af9-4760-a4fc-a7da69ce14e2",
   "metadata": {},
   "outputs": [],
   "source": [
    "#|export\n",
    "@delegates(SlidingWindow)\n",
    "def apply_sliding_window_3d(data, window_len, **kwargs):\n",
    "    \"\"\"\n",
    "        Apply sliding window to 3D data. The data is assumed to have the shape\n",
    "        (n_samples, n_features, n_time_steps).\n",
    "        Input:\n",
    "            data: 3D array\n",
    "            window_len: int, length of the sliding window\n",
    "            horizon: int, number of time steps to predict\n",
    "            kwargs: additional arguments to SlidingWindow\n",
    "        Output:\n",
    "            X: 3D array, shape (n_samples, n_features, window_len)\n",
    "            y: 3D array, shape (n_samples, n_features, horizon)\n",
    "    \"\"\"\n",
    "    sw = SlidingWindow(window_len=window_len, **kwargs)\n",
    "    # Apply the sliding window to every sample (loop on dimension 0) of the data\n",
    "    slices = [sw(x) for x in data]\n",
    "    # Concatenate the slices into single arrays (X and y)\n",
    "    X = np.concatenate([s[0] for s in slices])\n",
    "    y = np.concatenate([s[1] for s in slices])\n",
    "    # In case y is a 2D array (config.horizon = 1), add the time dimension at the end\n",
    "    if y.ndim == 2:\n",
    "        y = np.expand_dims(y, -1)\n",
    "    return X, y"
   ]
  },
  {
   "cell_type": "code",
   "execution_count": 19,
   "id": "8ec5e091-cadc-45e5-8a43-48fe4897b688",
   "metadata": {},
   "outputs": [],
   "source": [
    "# Test\n",
    "data = np.random.rand(100, 3, 10)\n",
    "X, y = apply_sliding_window_3d(data, window_len=4, horizon=1, seq_first=False, \n",
    "                               stride=None)\n",
    "test_eq(X.shape, (200, 3, 4))\n",
    "test_eq(y.shape, (200, 3, 1))"
   ]
  },
  {
   "cell_type": "code",
   "execution_count": 20,
   "id": "546338ed-fd9b-4c1a-82ed-f1ca9dc3e433",
   "metadata": {},
   "outputs": [],
   "source": [
    "#|eval: false\n",
    "#|hide\n",
    "from nbdev import *\n",
    "nbdev_export()"
   ]
  }
 ],
 "metadata": {
  "kernelspec": {
   "display_name": "Python 3 (ipykernel)",
   "language": "python",
   "name": "python3"
  },
  "language_info": {
   "codemirror_mode": {
    "name": "ipython",
    "version": 3
   },
   "file_extension": ".py",
   "mimetype": "text/x-python",
   "name": "python",
   "nbconvert_exporter": "python",
   "pygments_lexer": "ipython3",
   "version": "3.9.15"
  }
 },
 "nbformat": 4,
 "nbformat_minor": 5
}
