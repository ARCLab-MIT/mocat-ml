{
 "cells": [
  {
   "cell_type": "code",
   "execution_count": 1,
   "id": "ce8ee337-df3a-493f-8d5a-182521e223a1",
   "metadata": {},
   "outputs": [],
   "source": [
    "import os\n",
    "import optuna\n",
    "from tsai.optuna import *\n",
    "import papermill as pm\n",
    "from tsai.optuna import run_optuna_study\n",
    "from fastcore.basics import *\n",
    "from optuna.distributions import *\n",
    "from optuna.samplers import TPESampler\n",
    "from attrdict import AttrDict"
   ]
  },
  {
   "cell_type": "code",
   "execution_count": 2,
   "id": "85598734-1c40-4adb-b5a3-139046787b37",
   "metadata": {},
   "outputs": [],
   "source": [
    "config = AttrDict(\n",
    "    study_name = 'autoencoder_hp', # name of the Optuna study\n",
    "    study_type = 'bayesian', # 'bayesian' or 'gridsearch' or 'random'\n",
    "    n_trials = 20, # number of trials\n",
    "    train_nb = f'{os.getcwd()}/train_nb.ipynb', # path to the notebook to be executed\n",
    "    search_space = {\n",
    "        \"d\": IntUniformDistribution(32, 512, 32)\n",
    "    },\n",
    "    # Add extra parameters that are fixed, but not part of the search space\n",
    "    extra_params = {\n",
    "        \"batch_size\": 8192, \n",
    "        \"split\":0.95,\n",
    "        \"n_epochs\":35\n",
    "    },\n",
    "    use_wandb = False,\n",
    "    wandb_mode = 'offline'\n",
    ")"
   ]
  },
  {
   "cell_type": "code",
   "execution_count": 5,
   "id": "afddf557-f451-47e9-8e62-cdb2f5f29eb4",
   "metadata": {},
   "outputs": [],
   "source": [
    "def create_objective(train_nb, search_space, extra_params=None, use_wandb=False):\n",
    "    \"\"\"\n",
    "        Create objective function to be minimized by Optuna.\n",
    "        Inputs:\n",
    "            trial: Optuna trial object\n",
    "            train_nb: path to the training notebook\n",
    "            search_vars: keys of the search space to be used\n",
    "            wandb_group: name of the wandb group to be used\n",
    "        Output:\n",
    "            valid_loss: validation loss\n",
    "    \"\"\"\n",
    "    def objective(trial:optuna.Trial):\n",
    "        # Define the parameters to be passed to the training nttotebook through papermill\n",
    "        pm_parameters = {}\n",
    "        for k,v in search_space.items():\n",
    "            pm_parameters[k] = trial._suggest(k, v)\n",
    "\n",
    "        # Add the extra parameters to the dictionary. The key of every parameter \n",
    "        # must be 'config.<param_name>'\n",
    "        if extra_params is not None:\n",
    "            for k,v in extra_params.items():\n",
    "                pm_parameters[k] = v\n",
    "\n",
    "        # Call the training notebook using papermill (don't print the output)\n",
    "        stdout_file = open('tmp/pm_stdout.txt', 'w')\n",
    "        stderr_file = open('tmp/pm_stderr.txt', 'w')\n",
    "\n",
    "        pm.execute_notebook(\n",
    "            train_nb,\n",
    "            './tmp/pm_output.ipynb',\n",
    "            parameters = pm_parameters,\n",
    "            stdout_file = stdout_file,\n",
    "            stderr_file = stderr_file\n",
    "        )\n",
    "\n",
    "        # Close the output files\n",
    "        stdout_file.close()\n",
    "        stderr_file.close()\n",
    "\n",
    "        # Get the output value of interest from the source notebook\n",
    "        %store -r valid_loss\n",
    "        return valid_loss\n",
    "\n",
    "    return objective"
   ]
  },
  {
   "cell_type": "code",
   "execution_count": 8,
   "id": "6dba1eed-c99d-4cf7-a0bb-c41761149877",
   "metadata": {},
   "outputs": [
    {
     "name": "stderr",
     "output_type": "stream",
     "text": [
      "[I 2023-08-03 14:31:21,290] A new study created in memory with name: autoencoder_hp\n"
     ]
    },
    {
     "data": {
      "application/vnd.jupyter.widget-view+json": {
       "model_id": "030e071769ad4552b55dac308e37314a",
       "version_major": 2,
       "version_minor": 0
      },
      "text/plain": [
       "  0%|          | 0/30 [00:00<?, ?it/s]"
      ]
     },
     "metadata": {},
     "output_type": "display_data"
    },
    {
     "name": "stderr",
     "output_type": "stream",
     "text": [
      "Black is not installed, parameters wont be formatted\n"
     ]
    },
    {
     "data": {
      "application/vnd.jupyter.widget-view+json": {
       "model_id": "726b7f1a93744a27b1b82e2b90e88299",
       "version_major": 2,
       "version_minor": 0
      },
      "text/plain": [
       "Executing:   0%|          | 0/6 [00:00<?, ?cell/s]"
      ]
     },
     "metadata": {},
     "output_type": "display_data"
    },
    {
     "name": "stderr",
     "output_type": "stream",
     "text": [
      "This version of python seems to be incorrectly compiled\n",
      "(internal generated filenames are not absolute).\n",
      "This may make the debugger miss breakpoints.\n",
      "Related bug: http://bugs.python.org/issue1666807\n",
      "Black is not installed, parameters wont be formatted\n"
     ]
    },
    {
     "name": "stdout",
     "output_type": "stream",
     "text": [
      "[I 2023-08-03 14:35:11,402] Trial 0 finished with value: 22.851160049438477 and parameters: {'d': 256}. Best is trial 0 with value: 22.851160049438477.\n"
     ]
    },
    {
     "data": {
      "application/vnd.jupyter.widget-view+json": {
       "model_id": "d5881681198148ada4a97ae81efcf6cb",
       "version_major": 2,
       "version_minor": 0
      },
      "text/plain": [
       "Executing:   0%|          | 0/6 [00:00<?, ?cell/s]"
      ]
     },
     "metadata": {},
     "output_type": "display_data"
    },
    {
     "name": "stderr",
     "output_type": "stream",
     "text": [
      "This version of python seems to be incorrectly compiled\n",
      "(internal generated filenames are not absolute).\n",
      "This may make the debugger miss breakpoints.\n",
      "Related bug: http://bugs.python.org/issue1666807\n",
      "Black is not installed, parameters wont be formatted\n"
     ]
    },
    {
     "name": "stdout",
     "output_type": "stream",
     "text": [
      "[I 2023-08-03 14:39:02,512] Trial 1 finished with value: 23.663049697875977 and parameters: {'d': 256}. Best is trial 0 with value: 22.851160049438477.\n"
     ]
    },
    {
     "data": {
      "application/vnd.jupyter.widget-view+json": {
       "model_id": "cc9f3c865bd0434b83bb30f4317d6491",
       "version_major": 2,
       "version_minor": 0
      },
      "text/plain": [
       "Executing:   0%|          | 0/6 [00:00<?, ?cell/s]"
      ]
     },
     "metadata": {},
     "output_type": "display_data"
    },
    {
     "name": "stderr",
     "output_type": "stream",
     "text": [
      "This version of python seems to be incorrectly compiled\n",
      "(internal generated filenames are not absolute).\n",
      "This may make the debugger miss breakpoints.\n",
      "Related bug: http://bugs.python.org/issue1666807\n",
      "Black is not installed, parameters wont be formatted\n"
     ]
    },
    {
     "name": "stdout",
     "output_type": "stream",
     "text": [
      "[I 2023-08-03 14:42:29,620] Trial 2 finished with value: 20.59416961669922 and parameters: {'d': 352}. Best is trial 2 with value: 20.59416961669922.\n"
     ]
    },
    {
     "data": {
      "application/vnd.jupyter.widget-view+json": {
       "model_id": "f6090c96d1cd4bcc928f8fe642566a28",
       "version_major": 2,
       "version_minor": 0
      },
      "text/plain": [
       "Executing:   0%|          | 0/6 [00:00<?, ?cell/s]"
      ]
     },
     "metadata": {},
     "output_type": "display_data"
    },
    {
     "name": "stderr",
     "output_type": "stream",
     "text": [
      "This version of python seems to be incorrectly compiled\n",
      "(internal generated filenames are not absolute).\n",
      "This may make the debugger miss breakpoints.\n",
      "Related bug: http://bugs.python.org/issue1666807\n",
      "Black is not installed, parameters wont be formatted\n"
     ]
    },
    {
     "name": "stdout",
     "output_type": "stream",
     "text": [
      "[I 2023-08-03 14:46:15,734] Trial 3 finished with value: 23.24033546447754 and parameters: {'d': 352}. Best is trial 2 with value: 20.59416961669922.\n"
     ]
    },
    {
     "data": {
      "application/vnd.jupyter.widget-view+json": {
       "model_id": "dc651b763a6c4c5ea584933591af6b6e",
       "version_major": 2,
       "version_minor": 0
      },
      "text/plain": [
       "Executing:   0%|          | 0/6 [00:00<?, ?cell/s]"
      ]
     },
     "metadata": {},
     "output_type": "display_data"
    },
    {
     "name": "stderr",
     "output_type": "stream",
     "text": [
      "This version of python seems to be incorrectly compiled\n",
      "(internal generated filenames are not absolute).\n",
      "This may make the debugger miss breakpoints.\n",
      "Related bug: http://bugs.python.org/issue1666807\n",
      "Black is not installed, parameters wont be formatted\n"
     ]
    },
    {
     "name": "stdout",
     "output_type": "stream",
     "text": [
      "[I 2023-08-03 14:50:13,848] Trial 4 finished with value: 23.852140426635742 and parameters: {'d': 448}. Best is trial 2 with value: 20.59416961669922.\n"
     ]
    },
    {
     "data": {
      "application/vnd.jupyter.widget-view+json": {
       "model_id": "1a9c747e336e46059f4e815f026d7b04",
       "version_major": 2,
       "version_minor": 0
      },
      "text/plain": [
       "Executing:   0%|          | 0/6 [00:00<?, ?cell/s]"
      ]
     },
     "metadata": {},
     "output_type": "display_data"
    },
    {
     "name": "stderr",
     "output_type": "stream",
     "text": [
      "This version of python seems to be incorrectly compiled\n",
      "(internal generated filenames are not absolute).\n",
      "This may make the debugger miss breakpoints.\n",
      "Related bug: http://bugs.python.org/issue1666807\n",
      "Black is not installed, parameters wont be formatted\n"
     ]
    },
    {
     "name": "stdout",
     "output_type": "stream",
     "text": [
      "[I 2023-08-03 14:53:57,008] Trial 5 finished with value: 21.146564483642578 and parameters: {'d': 160}. Best is trial 2 with value: 20.59416961669922.\n"
     ]
    },
    {
     "data": {
      "application/vnd.jupyter.widget-view+json": {
       "model_id": "1af306fc4f194740996820202c637d20",
       "version_major": 2,
       "version_minor": 0
      },
      "text/plain": [
       "Executing:   0%|          | 0/6 [00:00<?, ?cell/s]"
      ]
     },
     "metadata": {},
     "output_type": "display_data"
    },
    {
     "name": "stderr",
     "output_type": "stream",
     "text": [
      "This version of python seems to be incorrectly compiled\n",
      "(internal generated filenames are not absolute).\n",
      "This may make the debugger miss breakpoints.\n",
      "Related bug: http://bugs.python.org/issue1666807\n",
      "Black is not installed, parameters wont be formatted\n"
     ]
    },
    {
     "name": "stdout",
     "output_type": "stream",
     "text": [
      "[I 2023-08-03 14:57:38,361] Trial 6 finished with value: 23.806777954101562 and parameters: {'d': 96}. Best is trial 2 with value: 20.59416961669922.\n"
     ]
    },
    {
     "data": {
      "application/vnd.jupyter.widget-view+json": {
       "model_id": "bc12bc48770a4053873406b5fc7662be",
       "version_major": 2,
       "version_minor": 0
      },
      "text/plain": [
       "Executing:   0%|          | 0/6 [00:00<?, ?cell/s]"
      ]
     },
     "metadata": {},
     "output_type": "display_data"
    },
    {
     "name": "stderr",
     "output_type": "stream",
     "text": [
      "This version of python seems to be incorrectly compiled\n",
      "(internal generated filenames are not absolute).\n",
      "This may make the debugger miss breakpoints.\n",
      "Related bug: http://bugs.python.org/issue1666807\n",
      "Black is not installed, parameters wont be formatted\n"
     ]
    },
    {
     "name": "stdout",
     "output_type": "stream",
     "text": [
      "[I 2023-08-03 15:01:23,506] Trial 7 finished with value: 22.440452575683594 and parameters: {'d': 448}. Best is trial 2 with value: 20.59416961669922.\n"
     ]
    },
    {
     "data": {
      "application/vnd.jupyter.widget-view+json": {
       "model_id": "1d9bb0bfa50c43188031c626a250eb17",
       "version_major": 2,
       "version_minor": 0
      },
      "text/plain": [
       "Executing:   0%|          | 0/6 [00:00<?, ?cell/s]"
      ]
     },
     "metadata": {},
     "output_type": "display_data"
    },
    {
     "name": "stderr",
     "output_type": "stream",
     "text": [
      "This version of python seems to be incorrectly compiled\n",
      "(internal generated filenames are not absolute).\n",
      "This may make the debugger miss breakpoints.\n",
      "Related bug: http://bugs.python.org/issue1666807\n",
      "Black is not installed, parameters wont be formatted\n"
     ]
    },
    {
     "name": "stdout",
     "output_type": "stream",
     "text": [
      "[I 2023-08-03 15:05:09,524] Trial 8 finished with value: 23.08748435974121 and parameters: {'d': 480}. Best is trial 2 with value: 20.59416961669922.\n"
     ]
    },
    {
     "data": {
      "application/vnd.jupyter.widget-view+json": {
       "model_id": "e9bb7cc9a20947c18611436393ab190f",
       "version_major": 2,
       "version_minor": 0
      },
      "text/plain": [
       "Executing:   0%|          | 0/6 [00:00<?, ?cell/s]"
      ]
     },
     "metadata": {},
     "output_type": "display_data"
    },
    {
     "name": "stderr",
     "output_type": "stream",
     "text": [
      "This version of python seems to be incorrectly compiled\n",
      "(internal generated filenames are not absolute).\n",
      "This may make the debugger miss breakpoints.\n",
      "Related bug: http://bugs.python.org/issue1666807\n",
      "Black is not installed, parameters wont be formatted\n"
     ]
    },
    {
     "name": "stdout",
     "output_type": "stream",
     "text": [
      "[I 2023-08-03 15:08:49,413] Trial 9 finished with value: 21.988962173461914 and parameters: {'d': 64}. Best is trial 2 with value: 20.59416961669922.\n"
     ]
    },
    {
     "data": {
      "application/vnd.jupyter.widget-view+json": {
       "model_id": "0a2c9b8c5f0e45d6ba4c8aaf5b30fb77",
       "version_major": 2,
       "version_minor": 0
      },
      "text/plain": [
       "Executing:   0%|          | 0/6 [00:00<?, ?cell/s]"
      ]
     },
     "metadata": {},
     "output_type": "display_data"
    },
    {
     "name": "stderr",
     "output_type": "stream",
     "text": [
      "This version of python seems to be incorrectly compiled\n",
      "(internal generated filenames are not absolute).\n",
      "This may make the debugger miss breakpoints.\n",
      "Related bug: http://bugs.python.org/issue1666807\n"
     ]
    },
    {
     "name": "stdout",
     "output_type": "stream",
     "text": [
      "[W 2023-08-03 15:10:54,146] Trial 10 failed with parameters: {'d': 352} because of the following error: KeyboardInterrupt().\n",
      "Traceback (most recent call last):\n",
      "  File \"/home/gridsan/ssarangerel/.conda/envs/conda-root-py/lib/python3.11/site-packages/optuna/study/_optimize.py\", line 200, in _run_trial\n",
      "    value_or_values = func(trial)\n",
      "                      ^^^^^^^^^^^\n",
      "  File \"/state/partition1/slurm_tmp/23552570.0.0/ipykernel_76219/183800110.py\", line 28, in objective\n",
      "    pm.execute_notebook(\n",
      "  File \"/home/gridsan/ssarangerel/.conda/envs/conda-root-py/lib/python3.11/site-packages/papermill/execute.py\", line 113, in execute_notebook\n",
      "    nb = papermill_engines.execute_notebook_with_engine(\n",
      "         ^^^^^^^^^^^^^^^^^^^^^^^^^^^^^^^^^^^^^^^^^^^^^^^\n",
      "  File \"/home/gridsan/ssarangerel/.conda/envs/conda-root-py/lib/python3.11/site-packages/papermill/engines.py\", line 49, in execute_notebook_with_engine\n",
      "    return self.get_engine(engine_name).execute_notebook(nb, kernel_name, **kwargs)\n",
      "           ^^^^^^^^^^^^^^^^^^^^^^^^^^^^^^^^^^^^^^^^^^^^^^^^^^^^^^^^^^^^^^^^^^^^^^^^\n",
      "  File \"/home/gridsan/ssarangerel/.conda/envs/conda-root-py/lib/python3.11/site-packages/papermill/engines.py\", line 367, in execute_notebook\n",
      "    cls.execute_managed_notebook(nb_man, kernel_name, log_output=log_output, **kwargs)\n",
      "  File \"/home/gridsan/ssarangerel/.conda/envs/conda-root-py/lib/python3.11/site-packages/papermill/engines.py\", line 436, in execute_managed_notebook\n",
      "    return PapermillNotebookClient(nb_man, **final_kwargs).execute()\n",
      "           ^^^^^^^^^^^^^^^^^^^^^^^^^^^^^^^^^^^^^^^^^^^^^^^^^^^^^^^^^\n",
      "  File \"/home/gridsan/ssarangerel/.conda/envs/conda-root-py/lib/python3.11/site-packages/papermill/clientwrap.py\", line 45, in execute\n",
      "    self.papermill_execute_cells()\n",
      "  File \"/home/gridsan/ssarangerel/.conda/envs/conda-root-py/lib/python3.11/site-packages/papermill/clientwrap.py\", line 72, in papermill_execute_cells\n",
      "    self.execute_cell(cell, index)\n",
      "  File \"/home/gridsan/ssarangerel/.conda/envs/conda-root-py/lib/python3.11/site-packages/nbclient/util.py\", line 84, in wrapped\n",
      "    return just_run(coro(*args, **kwargs))\n",
      "           ^^^^^^^^^^^^^^^^^^^^^^^^^^^^^^^\n",
      "  File \"/home/gridsan/ssarangerel/.conda/envs/conda-root-py/lib/python3.11/site-packages/nbclient/util.py\", line 62, in just_run\n",
      "    return loop.run_until_complete(coro)\n",
      "           ^^^^^^^^^^^^^^^^^^^^^^^^^^^^^\n",
      "  File \"/home/gridsan/ssarangerel/.conda/envs/conda-root-py/lib/python3.11/site-packages/nest_asyncio.py\", line 84, in run_until_complete\n",
      "    self._run_once()\n",
      "  File \"/home/gridsan/ssarangerel/.conda/envs/conda-root-py/lib/python3.11/site-packages/nest_asyncio.py\", line 107, in _run_once\n",
      "    event_list = self._selector.select(timeout)\n",
      "                 ^^^^^^^^^^^^^^^^^^^^^^^^^^^^^^\n",
      "  File \"/home/gridsan/ssarangerel/.conda/envs/conda-root-py/lib/python3.11/selectors.py\", line 468, in select\n",
      "    fd_event_list = self._selector.poll(timeout, max_ev)\n",
      "                    ^^^^^^^^^^^^^^^^^^^^^^^^^^^^^^^^^^^^\n",
      "KeyboardInterrupt\n",
      "[W 2023-08-03 15:10:54,297] Trial 10 failed with value None.\n",
      "\n",
      "Optuna study saved to tmp/autoencoder_hp.pkl\n",
      "To reload the study run: study = joblib.load('tmp/autoencoder_hp.pkl')\n",
      "\n",
      "Study statistics    : \n",
      "  Study name        : autoencoder_hp\n",
      "  # finished trials : 11\n",
      "  # pruned trials   : 0\n",
      "  # complete trials : 10\n",
      "\n",
      "Best trial          :\n",
      "  value             : 20.59416961669922\n",
      "  best_params = {'d': 352}\n",
      "\n"
     ]
    }
   ],
   "source": [
    "obj = create_objective(config.train_nb, config.search_space, \n",
    "                       extra_params=config.extra_params)\n",
    "study = run_optuna_study(obj, study_type='bayesian', direction='minimize', path='./tmp',\n",
    "                 study_name=config.study_name, n_trials=config.n_trials)"
   ]
  }
 ],
 "metadata": {
  "kernelspec": {
   "display_name": "Python MainEnv",
   "language": "python",
   "name": "myenv"
  },
  "language_info": {
   "codemirror_mode": {
    "name": "ipython",
    "version": 3
   },
   "file_extension": ".py",
   "mimetype": "text/x-python",
   "name": "python",
   "nbconvert_exporter": "python",
   "pygments_lexer": "ipython3",
   "version": "3.11.4"
  }
 },
 "nbformat": 4,
 "nbformat_minor": 5
}
