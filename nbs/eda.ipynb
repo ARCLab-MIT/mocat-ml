{
 "cells": [
  {
   "attachments": {},
   "cell_type": "markdown",
   "metadata": {},
   "source": [
    "# Exploratory Data Analysis (EDA)\n",
    "\n",
    "> This is an initial draftsheet"
   ]
  },
  {
   "cell_type": "code",
   "execution_count": 1,
   "metadata": {},
   "outputs": [],
   "source": [
    "import scipy.io\n",
    "import numpy as np\n",
    "import matplotlib.pyplot as plt\n",
    "import matplotlib.animation as animation"
   ]
  },
  {
   "cell_type": "code",
   "execution_count": 2,
   "metadata": {},
   "outputs": [],
   "source": [
    "mat = scipy.io.loadmat('../example_data/SommaMult_3_x10_x10_0215_1_part_1_density.mat')"
   ]
  },
  {
   "cell_type": "code",
   "execution_count": 3,
   "metadata": {},
   "outputs": [
    {
     "name": "stdout",
     "output_type": "stream",
     "text": [
      "dict_keys(['__header__', '__version__', '__globals__', 'MCconfig', 'param', 'paramSSEM', 'time_density', 'ra_disc', 'rp_disc', 'inc_disc', 'Am_disc', 'comb_Am_rp', 'comb_Am_ra', 'comb_Am_inc', 'comb_inc_rp', 'comb_inc_ra', 'comb_ra_rp', '__function_workspace__'])\n"
     ]
    }
   ],
   "source": [
    "# Print a summary of the data contained in the mat file\n",
    "print(mat.keys())"
   ]
  },
  {
   "cell_type": "code",
   "execution_count": 4,
   "metadata": {},
   "outputs": [
    {
     "data": {
      "text/plain": [
       "dict_keys(['MCconfig', 'param', 'paramSSEM', 'time_density', 'ra_disc', 'rp_disc', 'inc_disc', 'Am_disc', 'comb_Am_rp', 'comb_Am_ra', 'comb_Am_inc', 'comb_inc_rp', 'comb_inc_ra', 'comb_ra_rp'])"
      ]
     },
     "execution_count": 4,
     "metadata": {},
     "output_type": "execute_result"
    }
   ],
   "source": [
    "# Remove every key starting with '__' from the dictionary\n",
    "mat = {k: v for k, v in mat.items() if not k.startswith('__')}\n",
    "mat.keys()"
   ]
  },
  {
   "cell_type": "code",
   "execution_count": 5,
   "metadata": {},
   "outputs": [
    {
     "name": "stdout",
     "output_type": "stream",
     "text": [
      "MCconfig <class 'numpy.ndarray'> (1, 1)\n",
      "param <class 'numpy.ndarray'> (1, 1)\n",
      "paramSSEM <class 'numpy.ndarray'> (1, 1)\n",
      "time_density <class 'numpy.ndarray'> (122, 1)\n",
      "ra_disc <class 'numpy.ndarray'> (1, 37)\n",
      "rp_disc <class 'numpy.ndarray'> (1, 37)\n",
      "inc_disc <class 'numpy.ndarray'> (1, 181)\n",
      "Am_disc <class 'numpy.ndarray'> (1, 100)\n",
      "comb_Am_rp <class 'numpy.ndarray'> (99, 36, 122)\n",
      "comb_Am_ra <class 'numpy.ndarray'> (99, 36, 122)\n",
      "comb_Am_inc <class 'numpy.ndarray'> (99, 180, 122)\n",
      "comb_inc_rp <class 'numpy.ndarray'> (180, 36, 122)\n",
      "comb_inc_ra <class 'numpy.ndarray'> (180, 36, 122)\n",
      "comb_ra_rp <class 'numpy.ndarray'> (36, 36, 122)\n"
     ]
    }
   ],
   "source": [
    "# Print the type of data in each key. In case the data is a numpy array, \n",
    "# print the shape of the array\n",
    "for k, v in mat.items():\n",
    "    print(k, type(v), v.shape)"
   ]
  },
  {
   "attachments": {},
   "cell_type": "markdown",
   "metadata": {},
   "source": [
    "* time_density: tiempo en segundos desde el inicio de la simulación (intervalos de un mes, esto lo podemos ajustar)\n",
    "* ra_disc = discretización del apogeo, en km (edges), esto lo podemos ajustar\n",
    "* rp_disc = discretización del perigeo, en km (edges), esto lo podemos ajustar\n",
    "* inc_disc = discretización de la inclinación, en rad (edges), esto lo podemos ajustar\n",
    "* Am_disc = discretización del area to mass ratio, en m^2/kg (edges), esto lo podemos ajustar\n",
    "* comb_Am_rp =  Estos son los valores (**número de objetos**) para generar la \"imagen\" de A/m vs perigeo (filas con valores crecientes de A/m y columnas con valores crecientes de perigeo. La tercera dimensión es el tiempo)\n",
    "* comb_Am_ra = Lo mismo pero para A/m vs apogeo\n",
    "* comb_Am_inc = Lo mismo pero para A/m vs inclinación\n",
    "* comb_inc_rp\n",
    "* comb_inc_ra\n",
    "* comb_ra_rp\n",
    "\n",
    "Lo que te envío es solo una simulación de 10 años. Las simulaciones que tendremos serán de 100, 300 o 500 años, y unas 100 simulaciones en total para cada escenario (con la misma población inicial y launch profile). No sé cuántos escenarios tengamos en total, quizá unos 5"
   ]
  },
  {
   "cell_type": "code",
   "execution_count": 6,
   "metadata": {},
   "outputs": [
    {
     "data": {
      "text/plain": [
       "array([1728000, 2592000, 2592000, 2592000, 2592000, 2592000, 2592000,\n",
       "       2592000, 2592000, 2592000, 2592000, 2592000, 2592000, 2592000,\n",
       "       2592000, 2592000, 2592000, 2592000, 2592000, 2592000, 2592000,\n",
       "       2592000, 2592000, 2592000, 2592000, 2592000, 2592000, 2592000,\n",
       "       2592000, 2592000, 2592000, 2592000, 2592000, 2592000, 2592000,\n",
       "       2592000, 2592000, 2592000, 2592000, 2592000, 2592000, 2592000,\n",
       "       2592000, 2592000, 2592000, 2592000, 2592000, 2592000, 2592000,\n",
       "       2592000, 2592000, 2592000, 2592000, 2592000, 2592000, 2592000,\n",
       "       2592000, 2592000, 2592000, 2592000, 2592000, 2592000, 2592000,\n",
       "       2592000, 2592000, 2592000, 2592000, 2592000, 2592000, 2592000,\n",
       "       2592000, 2592000, 2592000, 2592000, 2592000, 2592000, 2592000,\n",
       "       2592000, 2592000, 2592000, 2592000, 2592000, 2592000, 2592000,\n",
       "       2592000, 2592000, 2592000, 2592000, 2592000, 2592000, 2592000,\n",
       "       2592000, 2592000, 2592000, 2592000, 2592000, 2592000, 2592000,\n",
       "       2592000, 2592000, 2592000, 2592000, 2592000, 2592000, 2592000,\n",
       "       2592000, 2592000, 2592000, 2592000, 2592000, 2592000, 2592000,\n",
       "       2592000, 2592000, 2592000, 2592000, 2592000, 2592000, 2592000,\n",
       "       2592000, 2592000], dtype=int32)"
      ]
     },
     "execution_count": 6,
     "metadata": {},
     "output_type": "execute_result"
    }
   ],
   "source": [
    "# Check if the distance between two points in the array 'time_density' is the same for all points\n",
    "np.all(np.diff(mat['time_density'][:, 0]) == np.diff(mat['time_density'][:, 0])[0])\n",
    "\n",
    "# Print the distances between two points in the array 'time_density'\n",
    "np.diff(mat['time_density'][:, 0])"
   ]
  },
  {
   "attachments": {},
   "cell_type": "markdown",
   "metadata": {},
   "source": [
    "The distances are the same in every two points (1 month) except for the first data point"
   ]
  },
  {
   "cell_type": "code",
   "execution_count": 7,
   "metadata": {},
   "outputs": [
    {
     "data": {
      "text/plain": [
       "array([[50., 50., 50., 50., 50., 50., 50., 50., 50., 50., 50., 50., 50.,\n",
       "        50., 50., 50., 50., 50., 50., 50., 50., 50., 50., 50., 50., 50.,\n",
       "        50., 50., 50., 50., 50., 50., 50., 50., 50., 50.]])"
      ]
     },
     "execution_count": 7,
     "metadata": {},
     "output_type": "execute_result"
    }
   ],
   "source": [
    "# Do the same (prit distances) with the array 'ra_disc'\n",
    "np.diff(mat['ra_disc'])"
   ]
  },
  {
   "attachments": {},
   "cell_type": "markdown",
   "metadata": {},
   "source": [
    "The discretization of each of the orbital elements is evenly done"
   ]
  },
  {
   "cell_type": "code",
   "execution_count": 8,
   "metadata": {},
   "outputs": [
    {
     "data": {
      "text/plain": [
       "(36, 122)"
      ]
     },
     "execution_count": 8,
     "metadata": {},
     "output_type": "execute_result"
    }
   ],
   "source": [
    "mat['comb_Am_rp'][0].shape"
   ]
  },
  {
   "cell_type": "code",
   "execution_count": 9,
   "metadata": {},
   "outputs": [
    {
     "name": "stdout",
     "output_type": "stream",
     "text": [
      "Number of zeros: 316129/434808\n"
     ]
    }
   ],
   "source": [
    "# Count zeros in mat[\"comb_Am_rp\"] relative to the total number of elements\n",
    "print(f\"Number of zeros: {np.count_nonzero(mat['comb_Am_rp'] == 0)}/{mat['comb_Am_rp'].size}\")"
   ]
  },
  {
   "attachments": {},
   "cell_type": "markdown",
   "metadata": {},
   "source": [
    "The distributions are very sparse"
   ]
  },
  {
   "cell_type": "code",
   "execution_count": 14,
   "metadata": {},
   "outputs": [
    {
     "name": "stdout",
     "output_type": "stream",
     "text": [
      "sum of comb_Am_rp[:,:,0]: 76978\n",
      "sum of comb_Am_ra[:,:,0]: 77360\n",
      "sum of comb_Am_inc[:,:,0]: 77415\n",
      "sum of comb_inc_rp[:,:,0]: 76978\n",
      "sum of comb_inc_ra[:,:,0]: 77360\n",
      "sum of comb_ra_rp[:,:,0]: 76978\n"
     ]
    }
   ],
   "source": [
    "# For every data distribution in the data (keys startng with 'comb'), sum up \n",
    "# the values of the distribution for each time step (last dimension).   \n",
    "for k,v in mat.items():\n",
    "    if k.startswith('comb'):\n",
    "        print(f\"sum of {k}[:,:,0]: {np.sum(v[:,:,0])}\")"
   ]
  },
  {
   "attachments": {},
   "cell_type": "markdown",
   "metadata": {},
   "source": [
    "The sum of elements in the distribution of each phase space is not exactly the \n",
    "same...why??"
   ]
  },
  {
   "cell_type": "code",
   "execution_count": 9,
   "metadata": {},
   "outputs": [
    {
     "name": "stdout",
     "output_type": "stream",
     "text": [
      "0 1510 35.94478022483487 129.53544694935283\n"
     ]
    },
    {
     "data": {
      "text/plain": [
       "<matplotlib.image.AxesImage at 0x7f9b8563ef40>"
      ]
     },
     "execution_count": 9,
     "metadata": {},
     "output_type": "execute_result"
    },
    {
     "data": {
      "image/png": "[encoded data removed]",
      "text/plain": [
       "<Figure size 640x480 with 1 Axes>"
      ]
     },
     "metadata": {},
     "output_type": "display_data"
    }
   ],
   "source": [
    "# Get some statistics about the matrix 'comb_Am_rp'\n",
    "print(np.min(mat['comb_Am_rp']), np.max(mat['comb_Am_rp']), np.mean(mat['comb_Am_rp']), np.std(mat['comb_Am_rp']))\n",
    "\n",
    "# Plot the first epoch of that sequence of matrices as a 2D distribution (time is in the last dimension)\n",
    "# The labels of the x axis should be taken from the array 'rp_disc', whereas the \n",
    "# ones of the y axis should be taken from the array 'Am_disc'\n",
    "plt.imshow(mat['comb_Am_rp'][:,:,0], extent=[np.min(mat['rp_disc']), \n",
    "                                             np.max(mat['rp_disc']), \n",
    "                                             np.min(mat['Am_disc']), \n",
    "                                             np.max(mat['Am_disc'])], aspect='auto')"
   ]
  },
  {
   "cell_type": "code",
   "execution_count": 20,
   "metadata": {},
   "outputs": [
    {
     "ename": "RuntimeError",
     "evalue": "Requested MovieWriter (ffmpeg) not available",
     "output_type": "error",
     "traceback": [
      "\u001b[0;31m---------------------------------------------------------------------------\u001b[0m",
      "\u001b[0;31mRuntimeError\u001b[0m                              Traceback (most recent call last)",
      "Cell \u001b[0;32mIn[20], line 31\u001b[0m\n\u001b[1;32m     22\u001b[0m ani \u001b[39m=\u001b[39m animation\u001b[39m.\u001b[39mFuncAnimation(fig, \n\u001b[1;32m     23\u001b[0m                         animate, \n\u001b[1;32m     24\u001b[0m                         frames\u001b[39m=\u001b[39mmat[\u001b[39m'\u001b[39m\u001b[39mcomb_Am_rp\u001b[39m\u001b[39m'\u001b[39m]\u001b[39m.\u001b[39mshape[\u001b[39m-\u001b[39m\u001b[39m1\u001b[39m], \n\u001b[1;32m     25\u001b[0m                         fargs\u001b[39m=\u001b[39m(im, fig))\n\u001b[1;32m     27\u001b[0m \u001b[39m# Save the animation as a gif file\u001b[39;00m\n\u001b[1;32m     28\u001b[0m \u001b[39m#ani.save('../plots/Am_rp.gif', writer='imagemagick', fps=10)\u001b[39;00m\n\u001b[1;32m     29\u001b[0m \n\u001b[1;32m     30\u001b[0m \u001b[39m# visualise the animation hereç\u001b[39;00m\n\u001b[0;32m---> 31\u001b[0m HTML(ani\u001b[39m.\u001b[39;49mto_html5_video())\n",
      "File \u001b[0;32m/usr/local/pip-global/matplotlib/animation.py:1284\u001b[0m, in \u001b[0;36mAnimation.to_html5_video\u001b[0;34m(self, embed_limit)\u001b[0m\n\u001b[1;32m   1281\u001b[0m path \u001b[39m=\u001b[39m Path(tmpdir, \u001b[39m\"\u001b[39m\u001b[39mtemp.m4v\u001b[39m\u001b[39m\"\u001b[39m)\n\u001b[1;32m   1282\u001b[0m \u001b[39m# We create a writer manually so that we can get the\u001b[39;00m\n\u001b[1;32m   1283\u001b[0m \u001b[39m# appropriate size for the tag\u001b[39;00m\n\u001b[0;32m-> 1284\u001b[0m Writer \u001b[39m=\u001b[39m writers[mpl\u001b[39m.\u001b[39;49mrcParams[\u001b[39m'\u001b[39;49m\u001b[39manimation.writer\u001b[39;49m\u001b[39m'\u001b[39;49m]]\n\u001b[1;32m   1285\u001b[0m writer \u001b[39m=\u001b[39m Writer(codec\u001b[39m=\u001b[39m\u001b[39m'\u001b[39m\u001b[39mh264\u001b[39m\u001b[39m'\u001b[39m,\n\u001b[1;32m   1286\u001b[0m                 bitrate\u001b[39m=\u001b[39mmpl\u001b[39m.\u001b[39mrcParams[\u001b[39m'\u001b[39m\u001b[39manimation.bitrate\u001b[39m\u001b[39m'\u001b[39m],\n\u001b[1;32m   1287\u001b[0m                 fps\u001b[39m=\u001b[39m\u001b[39m1000.\u001b[39m \u001b[39m/\u001b[39m \u001b[39mself\u001b[39m\u001b[39m.\u001b[39m_interval)\n\u001b[1;32m   1288\u001b[0m \u001b[39mself\u001b[39m\u001b[39m.\u001b[39msave(\u001b[39mstr\u001b[39m(path), writer\u001b[39m=\u001b[39mwriter)\n",
      "File \u001b[0;32m/usr/local/pip-global/matplotlib/animation.py:148\u001b[0m, in \u001b[0;36mMovieWriterRegistry.__getitem__\u001b[0;34m(self, name)\u001b[0m\n\u001b[1;32m    146\u001b[0m \u001b[39mif\u001b[39;00m \u001b[39mself\u001b[39m\u001b[39m.\u001b[39mis_available(name):\n\u001b[1;32m    147\u001b[0m     \u001b[39mreturn\u001b[39;00m \u001b[39mself\u001b[39m\u001b[39m.\u001b[39m_registered[name]\n\u001b[0;32m--> 148\u001b[0m \u001b[39mraise\u001b[39;00m \u001b[39mRuntimeError\u001b[39;00m(\u001b[39mf\u001b[39m\u001b[39m\"\u001b[39m\u001b[39mRequested MovieWriter (\u001b[39m\u001b[39m{\u001b[39;00mname\u001b[39m}\u001b[39;00m\u001b[39m) not available\u001b[39m\u001b[39m\"\u001b[39m)\n",
      "\u001b[0;31mRuntimeError\u001b[0m: Requested MovieWriter (ffmpeg) not available"
     ]
    },
    {
     "data": {
      "image/png": "[encoded data removed]",
      "text/plain": [
       "<Figure size 640x480 with 1 Axes>"
      ]
     },
     "metadata": {},
     "output_type": "display_data"
    }
   ],
   "source": [
    "# Slow cell\n",
    "from IPython.display import HTML\n",
    "\n",
    "fig = plt.figure()\n",
    "ax = fig.add_subplot(111)\n",
    "# Plot matrix at t=0\n",
    "im = ax.imshow(mat['comb_Am_rp'][:,:,0], extent=[np.min(mat['rp_disc']),\n",
    "                                                    np.max(mat['rp_disc']),\n",
    "                                                    np.min(mat['Am_disc']),\n",
    "                                                    np.max(mat['Am_disc'])], aspect='auto')\n",
    "\n",
    "plt.xlabel('rp [km]')\n",
    "plt.ylabel('Am [m2/kg]')\n",
    "\n",
    "# Define a function that updates the data of the plot\n",
    "# Change the title of the plot to show the time of the epoch\n",
    "def animate(i, im, fig):\n",
    "    fig.suptitle(f'Epoch {i}')\n",
    "    im.set_array(mat['comb_Am_rp'][:, :, i])  # Update data\n",
    "    return im,\n",
    "\n",
    "ani = animation.FuncAnimation(fig, \n",
    "                        animate, \n",
    "                        frames=mat['comb_Am_rp'].shape[-1], \n",
    "                        fargs=(im, fig))\n",
    "\n",
    "# Save the animation as a gif file\n",
    "#ani.save('../plots/Am_rp.gif', writer='imagemagick', fps=10)\n",
    "\n",
    "# visualise the animation here"
   ]
  }
 ],
 "metadata": {
  "kernelspec": {
   "display_name": "Python 3",
   "language": "python",
   "name": "python3"
  },
  "language_info": {
   "codemirror_mode": {
    "name": "ipython",
    "version": 3
   },
   "file_extension": ".py",
   "mimetype": "text/x-python",
   "name": "python",
   "nbconvert_exporter": "python",
   "pygments_lexer": "ipython3",
   "version": "3.9.16"
  },
  "orig_nbformat": 4,
  "vscode": {
   "interpreter": {
    "hash": "31f2aee4e71d21fbe5cf8b01ff0e069b9275f58929596ceb00d14d90e3e16cd6"
   }
  }
 },
 "nbformat": 4,
 "nbformat_minor": 2
}
