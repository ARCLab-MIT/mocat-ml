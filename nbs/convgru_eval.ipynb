{
 "cells": [
  {
   "cell_type": "markdown",
   "metadata": {},
   "source": [
    "# Model evaluation"
   ]
  },
  {
   "cell_type": "code",
   "execution_count": 1,
   "metadata": {},
   "outputs": [],
   "source": [
    "import sys\n",
    "sys.path.append('../')\n",
    "from mocatml.utils import *\n",
    "from tsai.basics import *\n",
    "import wandb"
   ]
  },
  {
   "cell_type": "code",
   "execution_count": 2,
   "metadata": {},
   "outputs": [
    {
     "name": "stdout",
     "output_type": "stream",
     "text": [
      "os              : Linux-6.2.0-37-generic-x86_64-with-glibc2.31\n",
      "python          : 3.9.17\n",
      "tsai            : 0.3.8\n",
      "fastai          : 2.7.13\n",
      "fastcore        : 1.5.29\n",
      "torch           : 2.1.1+cu121\n",
      "device          : cpu\n",
      "cpu cores       : 4\n",
      "threads per cpu : 2\n",
      "RAM             : 15.3 GB\n",
      "GPU memory      : N/A\n"
     ]
    }
   ],
   "source": [
    "my_setup()"
   ]
  },
  {
   "cell_type": "code",
   "execution_count": 3,
   "metadata": {},
   "outputs": [
    {
     "data": {
      "text/markdown": [
       "```json\n",
       "{ 'ddata': { 'path': '~/arclab_shared/mc_density_data/TLE_density_all_x15x15.mat',\n",
       "             'valid_split': True},\n",
       "  'device': 'cpu',\n",
       "  'learner': { 'fname': 'learner.pkl',\n",
       "               'path': 'vrodriguezf90/mocatml/density-forecaster:v1',\n",
       "               'wandb': { 'dir': '~/Github/mocat-ml',\n",
       "                          'download_path': 'wandb/artifacts/density-forecaster',\n",
       "                          'enabled': True}},\n",
       "  'mmap': True}\n",
       "```"
      ],
      "text/plain": [
       "{'ddata': {'path': '~/arclab_shared/mc_density_data/TLE_density_all_x15x15.mat',\n",
       "  'valid_split': True},\n",
       " 'device': 'cpu',\n",
       " 'learner': {'wandb': {'enabled': True,\n",
       "   'dir': '~/Github/mocat-ml',\n",
       "   'download_path': 'wandb/artifacts/density-forecaster'},\n",
       "  'path': 'vrodriguezf90/mocatml/density-forecaster:v1',\n",
       "  'fname': 'learner.pkl'},\n",
       " 'mmap': True}"
      ]
     },
     "execution_count": 3,
     "metadata": {},
     "output_type": "execute_result"
    }
   ],
   "source": [
    "config = yaml2dict('./config/convgru/eval.yaml')\n",
    "config"
   ]
  },
  {
   "cell_type": "code",
   "execution_count": 4,
   "metadata": {},
   "outputs": [
    {
     "data": {
      "text/plain": [
       "device(type='cpu')"
      ]
     },
     "execution_count": 4,
     "metadata": {},
     "output_type": "execute_result"
    }
   ],
   "source": [
    "# Set device\n",
    "default_device(0 if config.device == 'cpu' else config.device)"
   ]
  },
  {
   "cell_type": "code",
   "execution_count": 5,
   "metadata": {},
   "outputs": [
    {
     "name": "stderr",
     "output_type": "stream",
     "text": [
      "\u001b[34m\u001b[1mwandb\u001b[0m: \u001b[33mWARNING\u001b[0m Path /workspaces/mocat-ml /wandb/ wasn't writable, using system temp directory\n",
      "Failed to detect the name of this notebook, you can set it manually with the WANDB_NOTEBOOK_NAME environment variable to enable code saving.\n",
      "\u001b[34m\u001b[1mwandb\u001b[0m: \u001b[33mWARNING\u001b[0m Path /workspaces/mocat-ml /wandb/ wasn't writable, using system temp directory.\n",
      "wandb: WARNING Path /workspaces/mocat-ml /wandb/ wasn't writable, using system temp directory\n",
      "\u001b[34m\u001b[1mwandb\u001b[0m: Downloading large artifact density-forecaster:v1, 490.61MB. 4 files... \n",
      "\u001b[34m\u001b[1mwandb\u001b[0m:   4 of 4 files downloaded.  \n",
      "Done. 0:0:33.5\n",
      "wandb: WARNING Source type is set to 'repo' but some required information is missing from the environment. A job will not be created from this run. See https://docs.wandb.ai/guides/launch/create-job\n"
     ]
    },
    {
     "data": {
      "text/plain": [
       "<fastai.learner.Learner at 0x7f63fff57d30>"
      ]
     },
     "execution_count": 5,
     "metadata": {},
     "output_type": "execute_result"
    }
   ],
   "source": [
    "wandb_api = wandb.Api()\n",
    "if config.learner.wandb.enabled:\n",
    "    aux = wandb_api.artifact(config.learner.path)\n",
    "    lp = aux.download(root= Path(config.learner.wandb.dir).expanduser()/\\\n",
    "                            Path(config.learner.wandb.download_path))\n",
    "    lp = lp/Path(config.learner.fname)\n",
    "else:\n",
    "    lp = Path(config.learner.path)/Path(config.learner.fname)\n",
    "learn = load_learner(lp, cpu=default_device() == torch.device(\"cpu\"))\n",
    "learn"
   ]
  },
  {
   "cell_type": "code",
   "execution_count": null,
   "metadata": {},
   "outputs": [],
   "source": [
    "X = data = np.load(Path(config.data.path).expanduser(), \n",
    "               mmap_mode='c' if config.mmap else None)"
   ]
  }
 ],
 "metadata": {
  "kernelspec": {
   "display_name": "base",
   "language": "python",
   "name": "python3"
  },
  "language_info": {
   "codemirror_mode": {
    "name": "ipython",
    "version": 3
   },
   "file_extension": ".py",
   "mimetype": "text/x-python",
   "name": "python",
   "nbconvert_exporter": "python",
   "pygments_lexer": "ipython3",
   "version": "3.9.17"
  }
 },
 "nbformat": 4,
 "nbformat_minor": 2
}
