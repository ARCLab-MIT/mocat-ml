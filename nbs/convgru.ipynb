{
 "cells": [
  {
   "cell_type": "markdown",
   "metadata": {},
   "source": [
    "# End2end ConvGRU\n",
    "\n",
    "> Autoencoder + forecaster in the same training loop. Based on (https://github.com/tcapelle/moving_mnist/blob/master/01_train_example.ipynb) and (https://github.com/tcapelle/moving_mnist/blob/master/02_train_cross_entropy_loss-Copy1.ipynb)"
   ]
  },
  {
   "cell_type": "code",
   "execution_count": 48,
   "metadata": {},
   "outputs": [],
   "source": [
    "import sys\n",
    "sys.path.append('..')\n",
    "from fastai.vision.all import *\n",
    "from mocatml.utils import *\n",
    "convert_uuids_to_indices()\n",
    "from mocatml.data import *\n",
    "from mocatml.models.conv_rnn import *\n",
    "from mygrad import sliding_window_view\n",
    "from tsai.imports import my_setup\n",
    "from tsai.utils import yaml2dict, dict2attrdict\n",
    "from fastai.callback.schedule import valley, steep\n",
    "from fastai.callback.wandb import WandbCallback\n",
    "import wandb"
   ]
  },
  {
   "cell_type": "code",
   "execution_count": 49,
   "metadata": {},
   "outputs": [],
   "source": [
    "from fastai.callback.schedule import LRFinder\n",
    "\n",
    "@patch_to(LRFinder)\n",
    "def after_fit(self):\n",
    "    self.learn.opt.zero_grad() # Needed before detaching the optimizer for future fits\n",
    "    tmp_f = self.path/self.model_dir/self.tmp_p/'_tmp.pth'\n",
    "    if tmp_f.exists():\n",
    "        self.learn.load(f'{self.tmp_p}/_tmp', with_opt=True, device='cpu')\n",
    "        self.tmp_d.cleanup()"
   ]
  },
  {
   "cell_type": "code",
   "execution_count": 50,
   "metadata": {},
   "outputs": [
    {
     "name": "stdout",
     "output_type": "stream",
     "text": [
      "os              : Linux-5.10.197-llgrid-x86_64-with-glibc2.35\n",
      "python          : 3.9.15\n",
      "tsai            : 0.3.8\n",
      "fastai          : 2.7.13\n",
      "fastcore        : 1.5.29\n",
      "torch           : 1.13.1+cu116\n",
      "device          : 1 gpu (['Tesla V100-PCIE-32GB'])\n",
      "cpu cores       : 40\n",
      "threads per cpu : 2\n",
      "RAM             : 377.57 GB\n",
      "GPU memory      : N/A\n"
     ]
    }
   ],
   "source": [
    "my_setup()"
   ]
  },
  {
   "cell_type": "code",
   "execution_count": 51,
   "metadata": {
    "tags": [
     "parameters"
    ]
   },
   "outputs": [
    {
     "data": {
      "text/markdown": [
       "```json\n",
       "{ 'bs': 32,\n",
       "  'convgru': { 'attn': False,\n",
       "               'blur': False,\n",
       "               'coord_conv': False,\n",
       "               'debug': False,\n",
       "               'ks': 3,\n",
       "               'n_in': 1,\n",
       "               'n_out': 1,\n",
       "               'norm': None,\n",
       "               'rnn_ks': 5,\n",
       "               'strategy': 'zero',\n",
       "               'szs': [16, 64, 96]},\n",
       "  'data': {'path': '~/arclab_shared/mc_density_data/comb_am_rp.npy'},\n",
       "  'device': 'cpu',\n",
       "  'horizon': 1,\n",
       "  'lookback': 1,\n",
       "  'lr_max': 0.001,\n",
       "  'mmap': True,\n",
       "  'n_epoch': 1,\n",
       "  'normalize': True,\n",
       "  'num_workers': 0,\n",
       "  'save_learner': False,\n",
       "  'seed': 42,\n",
       "  'sel_steps': 20,\n",
       "  'stride': 2,\n",
       "  'tmp_folder': 'tmp',\n",
       "  'wandb': { 'dir': None,\n",
       "             'enabled': True,\n",
       "             'group': None,\n",
       "             'log_learner': False,\n",
       "             'mode': 'disabled',\n",
       "             'project': 'mocatml'}}\n",
       "```"
      ],
      "text/plain": [
       "{'bs': 32,\n",
       " 'data': {'path': '~/arclab_shared/mc_density_data/comb_am_rp.npy'},\n",
       " 'device': 'cpu',\n",
       " 'horizon': 1,\n",
       " 'lr_max': 0.001,\n",
       " 'lookback': 1,\n",
       " 'mmap': True,\n",
       " 'n_epoch': 1,\n",
       " 'normalize': True,\n",
       " 'num_workers': 0,\n",
       " 'seed': 42,\n",
       " 'save_learner': False,\n",
       " 'sel_steps': 20,\n",
       " 'stride': 2,\n",
       " 'tmp_folder': 'tmp',\n",
       " 'wandb': {'dir': None,\n",
       "  'enabled': True,\n",
       "  'log_learner': False,\n",
       "  'mode': 'disabled',\n",
       "  'group': None,\n",
       "  'project': 'mocatml'},\n",
       " 'convgru': {'n_in': 1,\n",
       "  'n_out': 1,\n",
       "  'szs': [16, 64, 96],\n",
       "  'ks': 3,\n",
       "  'rnn_ks': 5,\n",
       "  'blur': False,\n",
       "  'attn': False,\n",
       "  'norm': None,\n",
       "  'strategy': 'zero',\n",
       "  'coord_conv': False,\n",
       "  'debug': False}}"
      ]
     },
     "execution_count": 51,
     "metadata": {},
     "output_type": "execute_result"
    }
   ],
   "source": [
    "config_base = yaml2dict('./config/base.yaml', attrdict=True)\n",
    "config_base.convgru = yaml2dict('./config/convgru/convgru.yaml', attrdict=True)\n",
    "#config = AttrDict({**config_base, **config_e2e})\n",
    "config = AttrDict(config_base)\n",
    "config"
   ]
  },
  {
   "cell_type": "code",
   "execution_count": 52,
   "metadata": {},
   "outputs": [
    {
     "data": {
      "text/plain": [
       "device(type='cpu')"
      ]
     },
     "execution_count": 52,
     "metadata": {},
     "output_type": "execute_result"
    }
   ],
   "source": [
    "# Set device\n",
    "default_device(0 if config.device == 'cpu' else config.device)"
   ]
  },
  {
   "cell_type": "code",
   "execution_count": 53,
   "metadata": {},
   "outputs": [
    {
     "name": "stdout",
     "output_type": "stream",
     "text": [
      "{'bs': 32, 'data': {'path': '~/arclab_shared/mc_density_data/comb_am_rp.npy'}, 'device': 'cpu', 'horizon': 1, 'lr_max': 0.001, 'lookback': 1, 'mmap': True, 'n_epoch': 1, 'normalize': True, 'num_workers': 0, 'seed': 42, 'save_learner': False, 'sel_steps': 20, 'stride': 2, 'tmp_folder': 'tmp', 'wandb': {'dir': None, 'enabled': True, 'log_learner': False, 'mode': 'disabled', 'group': None, 'project': 'mocatml'}, 'convgru': {'n_in': 1, 'n_out': 1, 'szs': [16, 64, 96], 'ks': 3, 'rnn_ks': 5, 'blur': False, 'attn': False, 'norm': None, 'strategy': 'zero', 'coord_conv': False, 'debug': False}}\n"
     ]
    }
   ],
   "source": [
    "run = wandb.init(dir=ifnone(config.wandb.dir, '../'),\n",
    "                 project=config.wandb.project, \n",
    "                 config=config,\n",
    "                 group=config.wandb.group,\n",
    "                 mode=config.wandb.mode, \n",
    "                 anonymous='never') if config.wandb.enabled else None\n",
    "config = dict2attrdict(run.config) if config.wandb.enabled else config\n",
    "print(config)"
   ]
  },
  {
   "cell_type": "code",
   "execution_count": 54,
   "metadata": {},
   "outputs": [
    {
     "data": {
      "text/plain": [
       "(100, 20, 36, 99)"
      ]
     },
     "execution_count": 54,
     "metadata": {},
     "output_type": "execute_result"
    }
   ],
   "source": [
    "data = np.load(Path(config.data.path).expanduser(), \n",
    "               mmap_mode='c' if config.mmap else None)\n",
    "data = data[:, :config.sel_steps]\n",
    "data.shape"
   ]
  },
  {
   "cell_type": "code",
   "execution_count": 55,
   "metadata": {},
   "outputs": [
    {
     "data": {
      "text/plain": [
       "(1000, 2, 36, 99)"
      ]
     },
     "execution_count": 55,
     "metadata": {},
     "output_type": "execute_result"
    }
   ],
   "source": [
    "data_sw = np.lib.stride_tricks.sliding_window_view(data, \n",
    "                                               config.lookback + config.horizon, \n",
    "                                               axis=1)[:,::config.stride,:]\n",
    "samples_per_simulation = data_sw.shape[1]\n",
    "data_sw = data_sw.transpose(0,1,4,2,3)\n",
    "data_sw = data_sw.reshape(-1, *data_sw.shape[2:])\n",
    "data_sw.shape"
   ]
  },
  {
   "cell_type": "markdown",
   "metadata": {},
   "source": [
    "Split and get Normalization statistics from training set (mean and standard deviation)"
   ]
  },
  {
   "cell_type": "code",
   "execution_count": 56,
   "metadata": {},
   "outputs": [
    {
     "data": {
      "text/plain": [
       "((#80) [32,87,0,23,40,98,62,51,38,42...],\n",
       " (#20) [60,94,24,15,88,20,54,95,19,83...])"
      ]
     },
     "execution_count": 56,
     "metadata": {},
     "output_type": "execute_result"
    }
   ],
   "source": [
    "# Split by simulation\n",
    "splits = RandomSplitter()(data)\n",
    "splits"
   ]
  },
  {
   "cell_type": "code",
   "execution_count": 57,
   "metadata": {},
   "outputs": [
    {
     "data": {
      "text/plain": [
       "(800, 200)"
      ]
     },
     "execution_count": 57,
     "metadata": {},
     "output_type": "execute_result"
    }
   ],
   "source": [
    "ds = DensityData(data_sw, lbk=config.lookback, h=config.horizon)\n",
    "train_idxs = calculate_sample_idxs(splits[0], samples_per_simulation)\n",
    "valid_idxs = calculate_sample_idxs(splits[1], samples_per_simulation)\n",
    "len(train_idxs), len(valid_idxs)"
   ]
  },
  {
   "cell_type": "code",
   "execution_count": 58,
   "metadata": {},
   "outputs": [
    {
     "data": {
      "text/plain": [
       "(62.26179363075197, 182.35132530309835)"
      ]
     },
     "execution_count": 58,
     "metadata": {},
     "output_type": "execute_result"
    }
   ],
   "source": [
    "mocat_stats = (np.mean(data[splits[0]]), np.std(data[splits[0]]))\n",
    "mocat_stats"
   ]
  },
  {
   "cell_type": "code",
   "execution_count": 59,
   "metadata": {},
   "outputs": [
    {
     "data": {
      "text/plain": [
       "(1, 1)"
      ]
     },
     "execution_count": 59,
     "metadata": {},
     "output_type": "execute_result"
    }
   ],
   "source": [
    "# Create dataloaders\n",
    "train_tl = TfmdLists(train_idxs, DensityTupleTransform(ds))\n",
    "valid_tl = TfmdLists(valid_idxs, DensityTupleTransform(ds))\n",
    "dls = DataLoaders.from_dsets(train_tl, valid_tl, bs=config.bs, device=default_device(),\n",
    "                            after_batch=[Normalize.from_stats(*mocat_stats)] if \\\n",
    "                             config.normalize else None,\n",
    "                            num_workers=config.num_workers)\n",
    "#dls.show_batch()\n",
    "foo, bar = dls.one_batch()\n",
    "len(foo), len(bar)"
   ]
  },
  {
   "cell_type": "code",
   "execution_count": 60,
   "metadata": {},
   "outputs": [],
   "source": [
    "#loss_func = StackLoss(MSELossFlat())\n",
    "loss_func = PartialStackLoss([0], loss_func=MSELossFlat()) # Only care about first output\n",
    "full_loss = StackLoss()\n",
    "full_loss.__name__ = \"full_loss\"\n",
    "metrics = [full_loss] # [StackLoss()]"
   ]
  },
  {
   "cell_type": "code",
   "execution_count": 61,
   "metadata": {},
   "outputs": [],
   "source": [
    "config.convgru.norm = NormType.Batch if config.convgru.norm == 'batch' else None\n",
    "model = StackUnstack(SimpleModel(**config.convgru)).to(default_device())\n",
    "wandbc = WandbCallback(log_preds=False, log_model=False) if config.wandb.enabled else None\n",
    "cbs = L() + wandbc\n",
    "learn = Learner(dls, model, loss_func=loss_func, cbs=cbs, metrics=metrics)\n",
    "learn.splits = splits # This is needed for the evaluation notebook\n",
    "lr_max = config.lr_max if config.lr_max is not None else learn.lr_find()"
   ]
  },
  {
   "cell_type": "code",
   "execution_count": 62,
   "metadata": {},
   "outputs": [
    {
     "data": {
      "text/html": [
       "\n",
       "<style>\n",
       "    /* Turns off some styling */\n",
       "    progress {\n",
       "        /* gets rid of default border in Firefox and Opera. */\n",
       "        border: none;\n",
       "        /* Needs to be in here for Safari polyfill so background images work as expected. */\n",
       "        background-size: auto;\n",
       "    }\n",
       "    progress:not([value]), progress:not([value])::-webkit-progress-bar {\n",
       "        background: repeating-linear-gradient(45deg, #7e7e7e, #7e7e7e 10px, #5c5c5c 10px, #5c5c5c 20px);\n",
       "    }\n",
       "    .progress-bar-interrupted, .progress-bar-interrupted::-webkit-progress-bar {\n",
       "        background: #F44336;\n",
       "    }\n",
       "</style>\n"
      ],
      "text/plain": [
       "<IPython.core.display.HTML object>"
      ]
     },
     "metadata": {},
     "output_type": "display_data"
    },
    {
     "data": {
      "text/html": [
       "<table border=\"1\" class=\"dataframe\">\n",
       "  <thead>\n",
       "    <tr style=\"text-align: left;\">\n",
       "      <th>epoch</th>\n",
       "      <th>train_loss</th>\n",
       "      <th>valid_loss</th>\n",
       "      <th>full_loss</th>\n",
       "      <th>time</th>\n",
       "    </tr>\n",
       "  </thead>\n",
       "  <tbody>\n",
       "    <tr>\n",
       "      <td>0</td>\n",
       "      <td>36583.769531</td>\n",
       "      <td>36170.339844</td>\n",
       "      <td>36170.339844</td>\n",
       "      <td>00:07</td>\n",
       "    </tr>\n",
       "  </tbody>\n",
       "</table>"
      ],
      "text/plain": [
       "<IPython.core.display.HTML object>"
      ]
     },
     "metadata": {},
     "output_type": "display_data"
    }
   ],
   "source": [
    "learn.fit_one_cycle(config.n_epoch, lr_max=lr_max)"
   ]
  },
  {
   "cell_type": "code",
   "execution_count": 63,
   "metadata": {},
   "outputs": [
    {
     "data": {
      "text/html": [
       "\n",
       "<style>\n",
       "    /* Turns off some styling */\n",
       "    progress {\n",
       "        /* gets rid of default border in Firefox and Opera. */\n",
       "        border: none;\n",
       "        /* Needs to be in here for Safari polyfill so background images work as expected. */\n",
       "        background-size: auto;\n",
       "    }\n",
       "    progress:not([value]), progress:not([value])::-webkit-progress-bar {\n",
       "        background: repeating-linear-gradient(45deg, #7e7e7e, #7e7e7e 10px, #5c5c5c 10px, #5c5c5c 20px);\n",
       "    }\n",
       "    .progress-bar-interrupted, .progress-bar-interrupted::-webkit-progress-bar {\n",
       "        background: #F44336;\n",
       "    }\n",
       "</style>\n"
      ],
      "text/plain": [
       "<IPython.core.display.HTML object>"
      ]
     },
     "metadata": {},
     "output_type": "display_data"
    },
    {
     "data": {
      "text/html": [],
      "text/plain": [
       "<IPython.core.display.HTML object>"
      ]
     },
     "metadata": {},
     "output_type": "display_data"
    },
    {
     "data": {
      "text/plain": [
       "(200, torch.Size([1, 36, 99]))"
      ]
     },
     "execution_count": 63,
     "metadata": {},
     "output_type": "execute_result"
    }
   ],
   "source": [
    "p,t = learn.get_preds()\n",
    "len(p), p[0].shape"
   ]
  },
  {
   "cell_type": "code",
   "execution_count": 64,
   "metadata": {},
   "outputs": [],
   "source": [
    "def show_res(t, idx, figsize=(8,4)):\n",
    "    density_seq = DensitySeq.create([t[i][idx] for i in range(len(t))])\n",
    "    density_seq.show(figsize=figsize);"
   ]
  },
  {
   "cell_type": "code",
   "execution_count": 65,
   "metadata": {},
   "outputs": [
    {
     "name": "stdout",
     "output_type": "stream",
     "text": [
      "180\n"
     ]
    },
    {
     "ename": "IndexError",
     "evalue": "index 180 is out of bounds for dimension 0 with size 1",
     "output_type": "error",
     "traceback": [
      "\u001b[0;31m---------------------------------------------------------------------------\u001b[0m",
      "\u001b[0;31mIndexError\u001b[0m                                Traceback (most recent call last)",
      "Cell \u001b[0;32mIn[65], line 6\u001b[0m\n\u001b[1;32m      4\u001b[0m \u001b[38;5;28mprint\u001b[39m(k)\n\u001b[1;32m      5\u001b[0m show_res(t,k, figsize\u001b[38;5;241m=\u001b[39mfigsize)\n\u001b[0;32m----> 6\u001b[0m \u001b[43mshow_res\u001b[49m\u001b[43m(\u001b[49m\u001b[43mp\u001b[49m\u001b[43m,\u001b[49m\u001b[43mk\u001b[49m\u001b[43m,\u001b[49m\u001b[43m \u001b[49m\u001b[43mfigsize\u001b[49m\u001b[38;5;241;43m=\u001b[39;49m\u001b[43mfigsize\u001b[49m\u001b[43m)\u001b[49m\n",
      "Cell \u001b[0;32mIn[64], line 2\u001b[0m, in \u001b[0;36mshow_res\u001b[0;34m(t, idx, figsize)\u001b[0m\n\u001b[1;32m      1\u001b[0m \u001b[38;5;28;01mdef\u001b[39;00m \u001b[38;5;21mshow_res\u001b[39m(t, idx, figsize\u001b[38;5;241m=\u001b[39m(\u001b[38;5;241m8\u001b[39m,\u001b[38;5;241m4\u001b[39m)):\n\u001b[0;32m----> 2\u001b[0m     density_seq \u001b[38;5;241m=\u001b[39m DensitySeq\u001b[38;5;241m.\u001b[39mcreate([t[i][idx] \u001b[38;5;28;01mfor\u001b[39;00m i \u001b[38;5;129;01min\u001b[39;00m \u001b[38;5;28mrange\u001b[39m(\u001b[38;5;28mlen\u001b[39m(t))])\n\u001b[1;32m      3\u001b[0m     density_seq\u001b[38;5;241m.\u001b[39mshow(figsize\u001b[38;5;241m=\u001b[39mfigsize)\n",
      "Cell \u001b[0;32mIn[64], line 2\u001b[0m, in \u001b[0;36m<listcomp>\u001b[0;34m(.0)\u001b[0m\n\u001b[1;32m      1\u001b[0m \u001b[38;5;28;01mdef\u001b[39;00m \u001b[38;5;21mshow_res\u001b[39m(t, idx, figsize\u001b[38;5;241m=\u001b[39m(\u001b[38;5;241m8\u001b[39m,\u001b[38;5;241m4\u001b[39m)):\n\u001b[0;32m----> 2\u001b[0m     density_seq \u001b[38;5;241m=\u001b[39m DensitySeq\u001b[38;5;241m.\u001b[39mcreate([\u001b[43mt\u001b[49m\u001b[43m[\u001b[49m\u001b[43mi\u001b[49m\u001b[43m]\u001b[49m\u001b[43m[\u001b[49m\u001b[43midx\u001b[49m\u001b[43m]\u001b[49m \u001b[38;5;28;01mfor\u001b[39;00m i \u001b[38;5;129;01min\u001b[39;00m \u001b[38;5;28mrange\u001b[39m(\u001b[38;5;28mlen\u001b[39m(t))])\n\u001b[1;32m      3\u001b[0m     density_seq\u001b[38;5;241m.\u001b[39mshow(figsize\u001b[38;5;241m=\u001b[39mfigsize)\n",
      "\u001b[0;31mIndexError\u001b[0m: index 180 is out of bounds for dimension 0 with size 1"
     ]
    },
    {
     "data": {
      "image/png": "[encoded data removed]",
      "text/plain": [
       "<Figure size 1200x800 with 1 Axes>"
      ]
     },
     "metadata": {},
     "output_type": "display_data"
    }
   ],
   "source": [
    "#|hide\n",
    "k = random.randint(0, dls.valid.n)\n",
    "figsize=(12,8)\n",
    "print(k)\n",
    "show_res(t,k, figsize=figsize)\n",
    "show_res(p,k, figsize=figsize)"
   ]
  },
  {
   "cell_type": "code",
   "execution_count": null,
   "metadata": {},
   "outputs": [],
   "source": [
    "#|hide\n",
    "# Print the validation loss and save it in case other notebooks (optuna) wants to\n",
    "# use it for hyperparameter optimization\n",
    "valid_loss = learn.validate()[0] \n",
    "print(valid_loss)\n",
    "%store valid_loss"
   ]
  },
  {
   "cell_type": "code",
   "execution_count": null,
   "metadata": {},
   "outputs": [],
   "source": [
    "# Remove the wandb callback to avoid errors when downloading the learner\n",
    "if config.wandb.enabled:\n",
    "    learn.remove_cb(wandbc)\n",
    "\n",
    "if config.save_learner:\n",
    "    learn.model_dir = config.tmp_folder\n",
    "    learn.export(f'{config.tmp_folder}/learner.pkl', pickle_protocol=4)\n",
    "\n",
    "# Save locally and in wandb if it's enabled\n",
    "if run is not None and config.wandb.log_learner:\n",
    "    # Save the learner (all tmp/dls, tmp/model.pth, and tmp/learner.pkl). \n",
    "    run.log_artifact(config.tmp_folder, type='learner', name='density-forecaster')"
   ]
  },
  {
   "cell_type": "code",
   "execution_count": null,
   "metadata": {},
   "outputs": [],
   "source": [
    "if run is not None:\n",
    "    run.finish()"
   ]
  }
 ],
 "metadata": {
  "kernelspec": {
   "display_name": "Python 3 (ipykernel)",
   "language": "python",
   "name": "python3"
  },
  "language_info": {
   "codemirror_mode": {
    "name": "ipython",
    "version": 3
   },
   "file_extension": ".py",
   "mimetype": "text/x-python",
   "name": "python",
   "nbconvert_exporter": "python",
   "pygments_lexer": "ipython3",
   "version": "3.9.15"
  }
 },
 "nbformat": 4,
 "nbformat_minor": 4
}
