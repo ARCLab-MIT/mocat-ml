{
 "cells": [
  {
   "cell_type": "markdown",
   "metadata": {},
   "source": [
    "# EDA 2\n",
    "\n",
    "> Exploring the second version of the dataset (dumped form a console)"
   ]
  },
  {
   "cell_type": "code",
   "execution_count": 2,
   "metadata": {},
   "outputs": [
    {
     "name": "stdout",
     "output_type": "stream",
     "text": [
      "\u001b[0m\u001b[01;34mdata\u001b[0m/\n"
     ]
    }
   ],
   "source": [
    "ls ~"
   ]
  },
  {
   "cell_type": "code",
   "execution_count": 3,
   "metadata": {},
   "outputs": [],
   "source": [
    "import scipy.io"
   ]
  },
  {
   "cell_type": "code",
   "execution_count": 4,
   "metadata": {},
   "outputs": [
    {
     "name": "stdout",
     "output_type": "stream",
     "text": [
      "ls: cannot access 'data/': No such file or directory\n"
     ]
    }
   ],
   "source": [
    "ls data/"
   ]
  },
  {
   "cell_type": "code",
   "execution_count": 5,
   "metadata": {},
   "outputs": [
    {
     "name": "stdout",
     "output_type": "stream",
     "text": [
      "\u001b[0m\u001b[01;34mdensity_data\u001b[0m/\n"
     ]
    }
   ],
   "source": [
    "ls ~/data/"
   ]
  },
  {
   "cell_type": "code",
   "execution_count": 6,
   "metadata": {},
   "outputs": [
    {
     "name": "stdout",
     "output_type": "stream",
     "text": [
      "TLE_density_0.mat  TLE_density_all.mat\n"
     ]
    }
   ],
   "source": [
    "ls ~/data/density_data"
   ]
  },
  {
   "cell_type": "code",
   "execution_count": 7,
   "metadata": {},
   "outputs": [],
   "source": [
    "import h5py"
   ]
  },
  {
   "cell_type": "code",
   "execution_count": 8,
   "metadata": {},
   "outputs": [],
   "source": [
    "import h5py"
   ]
  },
  {
   "cell_type": "code",
   "execution_count": 9,
   "metadata": {},
   "outputs": [],
   "source": [
    "from fastcore.all import *"
   ]
  },
  {
   "cell_type": "code",
   "execution_count": 10,
   "metadata": {},
   "outputs": [],
   "source": [
    "data = h5py.File(Path.home()/'data/density_data/TLE_density_all.mat')"
   ]
  },
  {
   "cell_type": "code",
   "execution_count": 11,
   "metadata": {},
   "outputs": [
    {
     "data": {
      "text/plain": [
       "<HDF5 file \"TLE_density_all.mat\" (mode r)>"
      ]
     },
     "execution_count": 11,
     "metadata": {},
     "output_type": "execute_result"
    }
   ],
   "source": [
    "data"
   ]
  },
  {
   "cell_type": "code",
   "execution_count": 12,
   "metadata": {},
   "outputs": [
    {
     "data": {
      "text/plain": [
       "<HDF5 file \"TLE_density_all.mat\" (mode r)>"
      ]
     },
     "execution_count": 12,
     "metadata": {},
     "output_type": "execute_result"
    }
   ],
   "source": [
    "data"
   ]
  },
  {
   "cell_type": "code",
   "execution_count": 13,
   "metadata": {},
   "outputs": [
    {
     "data": {
      "text/plain": [
       "<KeysViewHDF5 ['#refs#', '#subsystem#', 'Am_disc', 'MCconfig', 'comb_Am_inc', 'comb_Am_ra', 'comb_Am_rp', 'comb_inc_ra', 'comb_inc_rp', 'comb_ra_rp', 'inc_disc', 'param', 'paramSSEM', 'ra_disc', 'rp_disc', 'time_density']>"
      ]
     },
     "execution_count": 13,
     "metadata": {},
     "output_type": "execute_result"
    }
   ],
   "source": [
    "data.keys()"
   ]
  },
  {
   "cell_type": "code",
   "execution_count": 14,
   "metadata": {},
   "outputs": [
    {
     "data": {
      "text/plain": [
       "(100, 2436, 180, 99)"
      ]
     },
     "execution_count": 14,
     "metadata": {},
     "output_type": "execute_result"
    }
   ],
   "source": [
    "data['comb_Am_inc'].shape"
   ]
  },
  {
   "cell_type": "code",
   "execution_count": 15,
   "metadata": {},
   "outputs": [
    {
     "data": {
      "text/plain": [
       "(100, 1)"
      ]
     },
     "execution_count": 15,
     "metadata": {},
     "output_type": "execute_result"
    }
   ],
   "source": [
    "data['Am_disc'].shape"
   ]
  },
  {
   "cell_type": "code",
   "execution_count": 16,
   "metadata": {},
   "outputs": [
    {
     "data": {
      "text/plain": [
       "(181, 1)"
      ]
     },
     "execution_count": 16,
     "metadata": {},
     "output_type": "execute_result"
    }
   ],
   "source": [
    "data['inc_disc'].shape"
   ]
  },
  {
   "cell_type": "code",
   "execution_count": 17,
   "metadata": {},
   "outputs": [
    {
     "data": {
      "text/plain": [
       "<KeysViewHDF5 ['#refs#', '#subsystem#', 'Am_disc', 'MCconfig', 'comb_Am_inc', 'comb_Am_ra', 'comb_Am_rp', 'comb_inc_ra', 'comb_inc_rp', 'comb_ra_rp', 'inc_disc', 'param', 'paramSSEM', 'ra_disc', 'rp_disc', 'time_density']>"
      ]
     },
     "execution_count": 17,
     "metadata": {},
     "output_type": "execute_result"
    }
   ],
   "source": [
    "data.keys()"
   ]
  },
  {
   "cell_type": "code",
   "execution_count": 18,
   "metadata": {},
   "outputs": [
    {
     "data": {
      "text/plain": [
       "<HDF5 dataset \"comb_Am_rp\": shape (100, 2436, 36, 99), type \"<f8\">"
      ]
     },
     "execution_count": 18,
     "metadata": {},
     "output_type": "execute_result"
    }
   ],
   "source": [
    "data['comb_Am_rp']"
   ]
  },
  {
   "cell_type": "code",
   "execution_count": 19,
   "metadata": {},
   "outputs": [
    {
     "data": {
      "text/plain": [
       "<HDF5 dataset \"comb_Am_ra\": shape (100, 2436, 36, 99), type \"<f8\">"
      ]
     },
     "execution_count": 19,
     "metadata": {},
     "output_type": "execute_result"
    }
   ],
   "source": [
    "data['comb_Am_ra']"
   ]
  },
  {
   "cell_type": "code",
   "execution_count": 20,
   "metadata": {},
   "outputs": [
    {
     "data": {
      "text/plain": [
       "<HDF5 dataset \"comb_Am_inc\": shape (100, 2436, 180, 99), type \"<f8\">"
      ]
     },
     "execution_count": 20,
     "metadata": {},
     "output_type": "execute_result"
    }
   ],
   "source": [
    "data['comb_Am_inc']"
   ]
  },
  {
   "cell_type": "code",
   "execution_count": 21,
   "metadata": {},
   "outputs": [
    {
     "data": {
      "text/plain": [
       "<KeysViewHDF5 ['#refs#', '#subsystem#', 'Am_disc', 'MCconfig', 'comb_Am_inc', 'comb_Am_ra', 'comb_Am_rp', 'comb_inc_ra', 'comb_inc_rp', 'comb_ra_rp', 'inc_disc', 'param', 'paramSSEM', 'ra_disc', 'rp_disc', 'time_density']>"
      ]
     },
     "execution_count": 21,
     "metadata": {},
     "output_type": "execute_result"
    }
   ],
   "source": [
    "data.keys()"
   ]
  },
  {
   "cell_type": "code",
   "execution_count": 22,
   "metadata": {},
   "outputs": [
    {
     "data": {
      "text/plain": [
       "<HDF5 dataset \"inc_disc\": shape (181, 1), type \"<f8\">"
      ]
     },
     "execution_count": 22,
     "metadata": {},
     "output_type": "execute_result"
    }
   ],
   "source": [
    "data['inc_disc']"
   ]
  },
  {
   "cell_type": "code",
   "execution_count": 23,
   "metadata": {},
   "outputs": [
    {
     "data": {
      "text/plain": [
       "<HDF5 group \"/param\" (9 members)>"
      ]
     },
     "execution_count": 23,
     "metadata": {},
     "output_type": "execute_result"
    }
   ],
   "source": [
    "data['param']"
   ]
  },
  {
   "cell_type": "code",
   "execution_count": 24,
   "metadata": {},
   "outputs": [
    {
     "data": {
      "text/plain": [
       "<KeysViewHDF5 ['density_profile', 'j2', 'jd', 'maxID', 'max_frag', 'mu', 'paramSSEM', 'req', 'sample_params']>"
      ]
     },
     "execution_count": 24,
     "metadata": {},
     "output_type": "execute_result"
    }
   ],
   "source": [
    "data['param'].keys()"
   ]
  },
  {
   "cell_type": "code",
   "execution_count": 25,
   "metadata": {},
   "outputs": [
    {
     "data": {
      "text/plain": [
       "<HDF5 dataset \"time_density\": shape (1, 2436), type \"<f8\">"
      ]
     },
     "execution_count": 25,
     "metadata": {},
     "output_type": "execute_result"
    }
   ],
   "source": [
    "data['time_density']"
   ]
  },
  {
   "cell_type": "code",
   "execution_count": 26,
   "metadata": {},
   "outputs": [],
   "source": [
    "import numpy as np"
   ]
  },
  {
   "cell_type": "code",
   "execution_count": 27,
   "metadata": {},
   "outputs": [
    {
     "data": {
      "text/plain": [
       "False"
      ]
     },
     "execution_count": 27,
     "metadata": {},
     "output_type": "execute_result"
    }
   ],
   "source": [
    "np.all(np.diff(data['time_density'][0, :]) == np.diff(data['time_density'][0, :])[0])\n"
   ]
  },
  {
   "cell_type": "code",
   "execution_count": 28,
   "metadata": {},
   "outputs": [
    {
     "data": {
      "text/plain": [
       "array([ 432000., 1296000., 1296000., ..., 1296000., 1296000., 1296000.])"
      ]
     },
     "execution_count": 28,
     "metadata": {},
     "output_type": "execute_result"
    }
   ],
   "source": [
    "np.diff(data['time_density'][0, :])"
   ]
  },
  {
   "cell_type": "code",
   "execution_count": 29,
   "metadata": {},
   "outputs": [
    {
     "data": {
      "text/plain": [
       "<HDF5 dataset \"time_density\": shape (1, 2436), type \"<f8\">"
      ]
     },
     "execution_count": 29,
     "metadata": {},
     "output_type": "execute_result"
    }
   ],
   "source": [
    "data['time_density']"
   ]
  },
  {
   "cell_type": "code",
   "execution_count": 30,
   "metadata": {},
   "outputs": [
    {
     "data": {
      "text/plain": [
       "1218.0"
      ]
     },
     "execution_count": 30,
     "metadata": {},
     "output_type": "execute_result"
    }
   ],
   "source": [
    "2436/2"
   ]
  },
  {
   "cell_type": "code",
   "execution_count": 31,
   "metadata": {},
   "outputs": [
    {
     "data": {
      "text/plain": [
       "101.5"
      ]
     },
     "execution_count": 31,
     "metadata": {},
     "output_type": "execute_result"
    }
   ],
   "source": [
    "1218/12"
   ]
  },
  {
   "cell_type": "code",
   "execution_count": 32,
   "metadata": {},
   "outputs": [],
   "source": [
    "# I have around 100 years of data here"
   ]
  },
  {
   "cell_type": "code",
   "execution_count": 33,
   "metadata": {},
   "outputs": [
    {
     "data": {
      "text/plain": [
       "<HDF5 dataset \"j2\": shape (1, 1), type \"<f8\">"
      ]
     },
     "execution_count": 33,
     "metadata": {},
     "output_type": "execute_result"
    }
   ],
   "source": [
    "data['param']['j2']"
   ]
  },
  {
   "cell_type": "code",
   "execution_count": 34,
   "metadata": {},
   "outputs": [
    {
     "data": {
      "text/plain": [
       "array([0.00108263])"
      ]
     },
     "execution_count": 34,
     "metadata": {},
     "output_type": "execute_result"
    }
   ],
   "source": [
    "data['param']['j2'][0]"
   ]
  },
  {
   "cell_type": "code",
   "execution_count": 35,
   "metadata": {},
   "outputs": [
    {
     "data": {
      "text/plain": [
       "<KeysViewHDF5 ['density_profile', 'j2', 'jd', 'maxID', 'max_frag', 'mu', 'paramSSEM', 'req', 'sample_params']>"
      ]
     },
     "execution_count": 35,
     "metadata": {},
     "output_type": "execute_result"
    }
   ],
   "source": [
    "data['param'].keys()"
   ]
  },
  {
   "cell_type": "code",
   "execution_count": 43,
   "metadata": {},
   "outputs": [
    {
     "name": "stdout",
     "output_type": "stream",
     "text": [
      "density_profile [115]\n",
      "j2 [0.00108263]\n",
      "jd [2496465.5]\n",
      "maxID [217367.]\n",
      "max_frag [1200.]\n",
      "mu [398600.5]\n",
      "paramSSEM\n",
      "\t A [4.95638962]\n",
      "\t N_shell [36.]\n",
      "\t R02 [200.]\n",
      "\t cd [2.2]\n",
      "\t h_max [2000.]\n",
      "\t h_min [200.]\n",
      "\t lam1 [ 10.  10.  19.  17.  23.  89. 725.  76.  19.  10.  10.  10.  10.  10.\n",
      "  11.  10.  10.  10.  10.  27.  48.  10.  10.  10.  10.  10.  10.  10.\n",
      "  10.  10.  10.  10.  10.  10.  10.  10.]\n",
      "\t mass [192.93790529]\n",
      "\t radius [1.25605247]\n",
      "\t re [6378.137]\n",
      "\t rho0_re [0.157]\n",
      "req [6378.137]\n",
      "sample_params [0.]\n"
     ]
    }
   ],
   "source": [
    "# See the values of every key\n",
    "for key in data['param'].keys():\n",
    "    # If the value is a HDF5 group, recursively print the group.\n",
    "    # Otherwise, print the value\n",
    "    if isinstance(data['param'][key], h5py.Group):\n",
    "        print(key)\n",
    "        for key2 in data['param'][key].keys():\n",
    "            print('\\t', key2, data['param'][key][key2][0])\n",
    "    else:\n",
    "        print(key, data['param'][key][0])"
   ]
  },
  {
   "cell_type": "code",
   "execution_count": 45,
   "metadata": {},
   "outputs": [
    {
     "data": {
      "text/plain": [
       "<KeysViewHDF5 ['A', 'N_shell', 'R02', 'cd', 'h_max', 'h_min', 'lam1', 'mass', 'radius', 're', 'rho0_re', 'species']>"
      ]
     },
     "execution_count": 45,
     "metadata": {},
     "output_type": "execute_result"
    }
   ],
   "source": [
    "data['paramSSEM'].keys()"
   ]
  },
  {
   "cell_type": "code",
   "execution_count": 47,
   "metadata": {},
   "outputs": [
    {
     "data": {
      "text/plain": [
       "<HDF5 dataset \"lam1\": shape (1, 36), type \"<f8\">"
      ]
     },
     "execution_count": 47,
     "metadata": {},
     "output_type": "execute_result"
    }
   ],
   "source": [
    "data['paramSSEM']['lam1']"
   ]
  },
  {
   "cell_type": "code",
   "execution_count": 48,
   "metadata": {},
   "outputs": [
    {
     "data": {
      "text/plain": [
       "<HDF5 group \"/MCconfig\" (54 members)>"
      ]
     },
     "execution_count": 48,
     "metadata": {},
     "output_type": "execute_result"
    }
   ],
   "source": [
    "data['MCconfig']\n",
    "# This is the Monte Carlo configuration"
   ]
  },
  {
   "cell_type": "code",
   "execution_count": 49,
   "metadata": {},
   "outputs": [
    {
     "name": "stdout",
     "output_type": "stream",
     "text": [
      "CUBE_RES [50.]\n",
      "DAY2MIN [1440.]\n",
      "DAY2SEC [86400.]\n",
      "PMD [0.9]\n",
      "P_frag [0.]\n",
      "P_frag_cutoff [inf]\n",
      "YEAR2DAY [365.2425]\n",
      "YEAR2MIN [525949.2]\n",
      "a_all 0\n",
      "aa_all 0\n",
      "additional_launches 0\n",
      "alph [0.]\n",
      "alph_a [0.]\n",
      "altitude_limit_low [200.]\n",
      "altitude_limit_up [2000.]\n",
      "ap_all 0\n",
      "collision_alt_limit [45000.]\n",
      "density_profile [115]\n",
      "dt_days [5.]\n",
      "filename_save [84]\n",
      "fillMassRadius [2.]\n",
      "ind_launch 0\n",
      "ind_launch_add 0\n",
      "j2 [0.00108263]\n",
      "launchMC_step 0\n",
      "launchMinPerShell [10.]\n",
      "launchRepeatSmooth [1.]\n",
      "launchRepeatYrs [2018.]\n",
      "launch_increase_per_year [0.]\n",
      "launch_model [109]\n",
      "mat_sats 0\n",
      "max_frag [1200.]\n",
      "missionlifetime [8.]\n",
      "mu_const [398600.5]\n",
      "n_save_checkpoint [50000.]\n",
      "n_time [7305.]\n",
      "noRBs [1.]\n",
      "omega_earth [7.27220522e-05]\n",
      "orbtol [7.5]\n",
      "paramSSEM\n",
      "\t A [4.95638962]\n",
      "\t N_shell [36.]\n",
      "\t R02 [200.]\n",
      "\t cd [2.2]\n",
      "\t h_max [2000.]\n",
      "\t h_min [200.]\n",
      "\t lam1 [ 10.  10.  19.  17.  23.  89. 725.  76.  19.  10.  10.  10.  10.  10.\n",
      "  11.  10.  10.  10.  10.  27.  48.  10.  10.  10.  10.  10.  10.  10.\n",
      "  10.  10.  10.  10.  10.  10.  10.  10.]\n",
      "\t mass [192.93790529]\n",
      "\t radius [1.25605247]\n",
      "\t re [6378.137]\n",
      "\t rho0_re [0.157]\n",
      "rad [0.01745329]\n",
      "radiusearthkm [6378.137]\n",
      "repeatLaunches [1.08462393 1.08462691 1.12525444 ... 1.30938903 1.30963669 1.30955301]\n",
      "save_100_tsteps [3.]\n",
      "save_output_file [100.]\n",
      "skipCollisions [0.]\n",
      "step_control [5.]\n",
      "time0 [3707764736          2          1          1          1          1]\n",
      "total_launch_per_year [0.]\n",
      "tsince [0.]\n",
      "tumin [13.44685108]\n",
      "use_sgp4 [0]\n",
      "xLaunch [1.]\n",
      "xPop [1.]\n"
     ]
    }
   ],
   "source": [
    "# See the values of every key\n",
    "for key in data['MCconfig'].keys():\n",
    "    # If the value is a HDF5 group, recursively print the group.\n",
    "    # Otherwise, print the value\n",
    "    if isinstance(data['MCconfig'][key], h5py.Group):\n",
    "        print(key)\n",
    "        for key2 in data['MCconfig'][key].keys():\n",
    "            print('\\t', key2, data['MCconfig'][key][key2][0])\n",
    "    else:\n",
    "        print(key, data['MCconfig'][key][0])"
   ]
  }
 ],
 "metadata": {
  "kernelspec": {
   "display_name": "Python 3 (ipykernel)",
   "language": "python",
   "name": "python3"
  },
  "language_info": {
   "codemirror_mode": {
    "name": "ipython",
    "version": 3
   },
   "file_extension": ".py",
   "mimetype": "text/x-python",
   "name": "python",
   "nbconvert_exporter": "python",
   "pygments_lexer": "ipython3",
   "version": "3.8.13"
  }
 },
 "nbformat": 4,
 "nbformat_minor": 4
}
