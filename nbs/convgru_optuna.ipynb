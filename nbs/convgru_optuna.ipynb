{
 "cells": [
  {
   "cell_type": "markdown",
   "metadata": {},
   "source": [
    "# ConvGRU Optuna Study"
   ]
  },
  {
   "cell_type": "code",
   "execution_count": 3,
   "metadata": {},
   "outputs": [],
   "source": [
    "import os\n",
    "import optuna\n",
    "from tsai.optuna import *\n",
    "import papermill as pm\n",
    "from tsai.optuna import run_optuna_study\n",
    "from fastcore.basics import *\n",
    "from optuna.distributions import *\n",
    "from optuna.samplers import TPESampler\n",
    "import wandb"
   ]
  },
  {
   "cell_type": "code",
   "execution_count": 13,
   "metadata": {},
   "outputs": [],
   "source": [
    "config = AttrDict(\n",
    "    study_name = 'general_study',\n",
    "    study_type = 'bayesian',\n",
    "    n_trials = 10,\n",
    "    train_nb = f'{os.getcwd()}/nbs/convgru.ipynb', # path to the notebook to be executed\n",
    "    # Don't use AttrDict here, just a normal dict\n",
    "    search_space = {\n",
    "        \"convgru.attn\": CategoricalDistribution([True, False]),\n",
    "        \"convgru.blur\": CategoricalDistribution([True, False]),\n",
    "        \"convgru.coords_conv\": CategoricalDistribution([True, False]),\n",
    "        \"convgru.norm\": CategoricalDistribution(['batch', None]),\n",
    "        \"convgru.strategy\": CategoricalDistribution(['zero', 'encoder'])\n",
    "    },\n",
    "    # Fixed parameters, not part of the search space (don't use AttrDict here)\n",
    "    extra_params = {\n",
    "        \"n_epoch\": 10,\n",
    "        \"bs\": 64,\n",
    "        \"lookback\": 4,\n",
    "        \"horizon\": 4,\n",
    "        \"mmap\": False,\n",
    "        \"normalize\": True,\n",
    "        \"sel_steps\": None,\n",
    "        \"stride\": 1,\n",
    "        \"wandb.enabled\": True,\n",
    "        \"wandb.log_learner\": False,\n",
    "        \"wandb.mode\": 'offline',\n",
    "        \"wandb.group\": 'general_study_runs'\n",
    "    },\n",
    "    wandb_optuna = AttrDict(\n",
    "        enabled = False,\n",
    "        mode = 'offline'\n",
    "    )\n",
    ")"
   ]
  },
  {
   "cell_type": "code",
   "execution_count": 5,
   "metadata": {},
   "outputs": [],
   "source": [
    "def create_objective(train_nb, search_space, extra_params=None):\n",
    "    \"\"\"\n",
    "        Create objective function to be minimized by Optuna.\n",
    "        Inputs:\n",
    "            train_nb: path to the notebook to be used for training\n",
    "            search_space: dictionary with the parameters to be optimized\n",
    "            extra_params: dictionary with the extra parameters to be passed to the training notebook\n",
    "        Output:\n",
    "            valid_loss: validation loss\n",
    "    \"\"\"\n",
    "    def objective(trial:optuna.Trial):\n",
    "        # Define the parameters to be passed to the training notebook through papermill\n",
    "        pm_parameters = {}\n",
    "        for k,v in search_space.items():\n",
    "            pm_parameters['config.' + k] = trial._suggest(k, v)\n",
    "\n",
    "        # Add the extra parameters to the dictionary. The key of every parameter \n",
    "        # must be 'config.<param_name>'\n",
    "        if extra_params is not None:\n",
    "            for k,v in extra_params.items():\n",
    "                pm_parameters['config.' + k] = v\n",
    "\n",
    "        # Call the training notebook using papermill (don't print the output)\n",
    "        stdout_file = open('tmp/pm_stdout.txt', 'w')\n",
    "        stderr_file = open('tmp/pm_stderr.txt', 'w')\n",
    "\n",
    "        pm.execute_notebook(\n",
    "            train_nb,\n",
    "            './tmp/pm_output.ipynb',\n",
    "            parameters = pm_parameters,\n",
    "            stdout_file = stdout_file,\n",
    "            stderr_file = stderr_file\n",
    "        )\n",
    "\n",
    "        # Close the output files\n",
    "        stdout_file.close()\n",
    "        stderr_file.close()\n",
    "\n",
    "        # Get the output value of interest from the source notebook\n",
    "        %store -r valid_loss\n",
    "        return valid_loss\n",
    "\n",
    "    return objective"
   ]
  },
  {
   "cell_type": "code",
   "execution_count": null,
   "metadata": {},
   "outputs": [],
   "source": [
    "obj = create_objective(config.train_nb, config.search_space, extra_params=config.extra_params)\n",
    "study = run_optuna_study(obj, study_type=config.study_type, direction='minimize', \n",
    "                         path='./tmp', study_name=config.study_name, n_trials=config.n_trials)"
   ]
  },
  {
   "cell_type": "code",
   "execution_count": null,
   "metadata": {},
   "outputs": [],
   "source": [
    "run = wandb.init(config=config, mode=config.wandb_optuna.mode, \n",
    "                 job_type='optuna-study') if config.wandb_optuna.enabled else None"
   ]
  },
  {
   "cell_type": "code",
   "execution_count": null,
   "metadata": {},
   "outputs": [],
   "source": [
    "if run is not None:\n",
    "    run.log(dict(study.best_params, **{'best_value': study.best_value, \n",
    "                                       'best_trial_number': study.best_trial.number}))\n",
    "    run.log_artifact(f'./tmp/{config.study_name}.pkl', type='optuna_study')\n",
    "    run.log({\n",
    "        'contour': optuna.visualization.plot_contour(study),\n",
    "        'edf': optuna.visualization.plot_edf(study),\n",
    "        'intermediate_values': optuna.visualization.plot_intermediate_values(study),\n",
    "        'optimization_history': optuna.visualization.plot_optimization_history(study),\n",
    "        'parallel_coordinate' : optuna.visualization.plot_parallel_coordinate(study),\n",
    "        'param_importances': optuna.visualization.plot_param_importances(study),\n",
    "        'slice': optuna.visualization.plot_slice(study)\n",
    "    })"
   ]
  },
  {
   "cell_type": "code",
   "execution_count": null,
   "metadata": {},
   "outputs": [],
   "source": [
    "if run is not None:\n",
    "    run.finish()"
   ]
  }
 ],
 "metadata": {
  "kernelspec": {
   "display_name": "Python 3",
   "language": "python",
   "name": "python3"
  },
  "language_info": {
   "codemirror_mode": {
    "name": "ipython",
    "version": 3
   },
   "file_extension": ".py",
   "mimetype": "text/x-python",
   "name": "python",
   "nbconvert_exporter": "python",
   "pygments_lexer": "ipython3",
   "version": "3.9.17"
  }
 },
 "nbformat": 4,
 "nbformat_minor": 2
}
