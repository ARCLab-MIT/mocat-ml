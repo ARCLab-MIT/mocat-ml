{
 "cells": [
  {
   "cell_type": "code",
   "execution_count": 1,
   "id": "c8fbdbed-517c-4297-8646-e0c2063efac6",
   "metadata": {},
   "outputs": [],
   "source": [
    "import json\n",
    "import numpy as np\n",
    "import fastai\n",
    "import fastai.tabular\n",
    "from fastai.vision.all import *\n",
    "import matplotlib.pyplot as plt\n",
    "from mocatml.utils import *\n",
    "from mocatml.data import *\n",
    "from tsai.basics import *\n",
    "from tsai.inference import load_learner\n",
    "from CNN import *"
   ]
  },
  {
   "cell_type": "code",
   "execution_count": 7,
   "id": "3b178ba3-0a37-455a-b483-e9982b481400",
   "metadata": {},
   "outputs": [],
   "source": [
    "with open(\"data_config.json\", \"r\") as outfile:\n",
    "    data = json.load(outfile, strict=False)\n",
    "extent = list(data['extent'])\n",
    "data_numpy = np.load('data.npy')\n",
    "\n",
    "d, n_epochs, num_sim, n_epochs = 256, 35, 100, 100\n",
    "model_name = 'TSTPlus'\n",
    "learn = load_learner(f'time_model/{model_name}_d_{d}_epoch_{n_epochs}.pkl')\n",
    "model = AutoEncoder(d)\n",
    "load_model(f'model/d_{d}_epoch_35.pkl', model, None)"
   ]
  },
  {
   "cell_type": "code",
   "execution_count": 8,
   "id": "4356ce93-c7aa-4dbe-b2be-0a5ffd617114",
   "metadata": {},
   "outputs": [
    {
     "data": {
      "text/plain": [
       "((242600, 256, 10),\n",
       " (242600, 256, 1),\n",
       " ((#230470) [0,1,2,3,4,5,6,7,8,9...],\n",
       "  (#12130) [230470,230471,230472,230473,230474,230475,230476,230477,230478,230479...]))"
      ]
     },
     "execution_count": 8,
     "metadata": {},
     "output_type": "execute_result"
    }
   ],
   "source": [
    "with open(f'model/indices_d_{d}_epoch_35.txt', \"r\") as f:\n",
    "    indices = f.read().split()\n",
    "    \n",
    "split = float(indices[0])\n",
    "indices = [int(i) for i in indices[1:]]\n",
    "\n",
    "train_indices = indices[:int(split * num_sim)]\n",
    "val_indices = indices[int(split * num_sim):]\n",
    "\n",
    "data_enc = []\n",
    "for i in range(num_sim):\n",
    "    encoded = model.encrypt(torch.tensor(data_numpy[i], dtype=torch.float32).unsqueeze(0).transpose(0, 1))\n",
    "    data_enc.append(encoded.detach().numpy())\n",
    "data_enc = np.array(data_enc)\n",
    "sh = data_enc.shape\n",
    "\n",
    "data_enc_reshaped = data_enc.reshape((sh[0], sh[-1], sh[1]))\n",
    "X_train, y_train = apply_sliding_window_3d(data_enc_reshaped[train_indices], \n",
    "                                           window_len=10,\n",
    "                                           stride=1,\n",
    "                                           seq_first=False,\n",
    "                                           horizon=1)\n",
    "X_valid, y_valid = apply_sliding_window_3d(data_enc_reshaped[val_indices], \n",
    "                                           window_len=10,\n",
    "                                           stride=1,\n",
    "                                           seq_first=False,\n",
    "                                           horizon=1)\n",
    "\n",
    "X, y, splits = combine_split_data([X_train, X_valid], [y_train, y_valid])\n",
    "X.shape, y.shape, splits"
   ]
  },
  {
   "cell_type": "code",
   "execution_count": null,
   "id": "33a3f4b9-47b0-4301-9bc0-751fb292adf6",
   "metadata": {},
   "outputs": [],
   "source": [
    "cb_handler = CallbackHandler(newlearner.callbacks + [], None)\n",
    "losses, acc = fastai.basic_train.validate(\n",
    "    newlearner.model, \n",
    "    newlearner.data.test_dl, \n",
    "    newlearner.loss_func, \n",
    "    cb_handler,  # This is necessary\n",
    "    average=False)"
   ]
  }
 ],
 "metadata": {
  "kernelspec": {
   "display_name": "Python MainEnv",
   "language": "python",
   "name": "myenv"
  },
  "language_info": {
   "codemirror_mode": {
    "name": "ipython",
    "version": 3
   },
   "file_extension": ".py",
   "mimetype": "text/x-python",
   "name": "python",
   "nbconvert_exporter": "python",
   "pygments_lexer": "ipython3",
   "version": "3.11.4"
  }
 },
 "nbformat": 4,
 "nbformat_minor": 5
}
