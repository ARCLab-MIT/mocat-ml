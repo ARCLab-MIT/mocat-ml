{
 "cells": [
  {
   "cell_type": "code",
   "execution_count": 13,
   "id": "f7468a6a-93f4-4c50-87b8-222917c30f42",
   "metadata": {},
   "outputs": [],
   "source": [
    "from tsai.basics import *\n",
    "import json\n",
    "import numpy as np\n",
    "import fastai\n",
    "import fastai.tabular\n",
    "from fastai.vision.all import *\n",
    "import matplotlib.pyplot as plt\n",
    "import sys\n",
    "from mocatml.utils import *\n",
    "from mocatml.data import *\n",
    "from CNN import *"
   ]
  },
  {
   "cell_type": "code",
   "execution_count": 20,
   "id": "228418d7-785a-4afa-bea4-9c9ffa2294b2",
   "metadata": {},
   "outputs": [],
   "source": [
    "path = \"/home/gridsan/ssarangerel/mocat-ml/\"\n",
    "\n",
    "with open(f'{path}data_config.json', \"r\") as outfile:\n",
    "    data = json.load(outfile, strict=False)\n",
    "extent = list(data['extent'])\n",
    "data_numpy = np.load(f'{path}/data.npy')\n",
    "\n",
    "d, n_epochs, window_size, batch_size = 128, 35, 60, 8192\n",
    "num_sim, model_name, epochs = 100, 'TSTPlus', 100\n",
    "AE = torch.load(f'{path}models/exp.pt')\n",
    "time_model = load_learner(f'{path}time_model/{model_name}_d_{d}_epoch_{epochs}.pkl', cpu=False)"
   ]
  },
  {
   "cell_type": "code",
   "execution_count": 21,
   "id": "dfd096e2-2347-4640-86eb-09d6ce2cc333",
   "metadata": {},
   "outputs": [
    {
     "data": {
      "text/html": [
       "\n",
       "<style>\n",
       "    /* Turns off some styling */\n",
       "    progress {\n",
       "        /* gets rid of default border in Firefox and Opera. */\n",
       "        border: none;\n",
       "        /* Needs to be in here for Safari polyfill so background images work as expected. */\n",
       "        background-size: auto;\n",
       "    }\n",
       "    progress:not([value]), progress:not([value])::-webkit-progress-bar {\n",
       "        background: repeating-linear-gradient(45deg, #7e7e7e, #7e7e7e 10px, #5c5c5c 10px, #5c5c5c 20px);\n",
       "    }\n",
       "    .progress-bar-interrupted, .progress-bar-interrupted::-webkit-progress-bar {\n",
       "        background: #F44336;\n",
       "    }\n",
       "</style>\n"
      ],
      "text/plain": [
       "<IPython.core.display.HTML object>"
      ]
     },
     "metadata": {},
     "output_type": "display_data"
    },
    {
     "data": {
      "text/html": [],
      "text/plain": [
       "<IPython.core.display.HTML object>"
      ]
     },
     "metadata": {},
     "output_type": "display_data"
    },
    {
     "data": {
      "text/html": [
       "\n",
       "<style>\n",
       "    /* Turns off some styling */\n",
       "    progress {\n",
       "        /* gets rid of default border in Firefox and Opera. */\n",
       "        border: none;\n",
       "        /* Needs to be in here for Safari polyfill so background images work as expected. */\n",
       "        background-size: auto;\n",
       "    }\n",
       "    progress:not([value]), progress:not([value])::-webkit-progress-bar {\n",
       "        background: repeating-linear-gradient(45deg, #7e7e7e, #7e7e7e 10px, #5c5c5c 10px, #5c5c5c 20px);\n",
       "    }\n",
       "    .progress-bar-interrupted, .progress-bar-interrupted::-webkit-progress-bar {\n",
       "        background: #F44336;\n",
       "    }\n",
       "</style>\n"
      ],
      "text/plain": [
       "<IPython.core.display.HTML object>"
      ]
     },
     "metadata": {},
     "output_type": "display_data"
    },
    {
     "data": {
      "text/html": [],
      "text/plain": [
       "<IPython.core.display.HTML object>"
      ]
     },
     "metadata": {},
     "output_type": "display_data"
    },
    {
     "ename": "AttributeError",
     "evalue": "'list' object has no attribute 'topk'",
     "output_type": "error",
     "traceback": [
      "\u001b[0;31m---------------------------------------------------------------------------\u001b[0m",
      "\u001b[0;31mAttributeError\u001b[0m                            Traceback (most recent call last)",
      "Cell \u001b[0;32mIn[21], line 4\u001b[0m\n\u001b[1;32m      1\u001b[0m interp_train \u001b[38;5;241m=\u001b[39m Interpretation\u001b[38;5;241m.\u001b[39mfrom_learner(time_model, \u001b[38;5;241m0\u001b[39m)\n\u001b[1;32m      2\u001b[0m interp_val \u001b[38;5;241m=\u001b[39m Interpretation\u001b[38;5;241m.\u001b[39mfrom_learner(time_model, \u001b[38;5;241m1\u001b[39m)\n\u001b[0;32m----> 4\u001b[0m largest_loss_train, smallest_loss_train \u001b[38;5;241m=\u001b[39m interp_train\u001b[38;5;241m.\u001b[39mtop_losses(\u001b[38;5;241m1\u001b[39m, largest \u001b[38;5;241m=\u001b[39m \u001b[38;5;28;01mFalse\u001b[39;00m), interp_train\u001b[38;5;241m.\u001b[39mtop_losses(\u001b[38;5;241m1\u001b[39m)\n\u001b[1;32m      5\u001b[0m largest_loss_val, smallest_loss_val \u001b[38;5;241m=\u001b[39m interp_val\u001b[38;5;241m.\u001b[39mtop_losses(\u001b[38;5;241m1\u001b[39m, largest \u001b[38;5;241m=\u001b[39m \u001b[38;5;28;01mFalse\u001b[39;00m), interp_val\u001b[38;5;241m.\u001b[39mtop_losses(\u001b[38;5;241m1\u001b[39m)\n\u001b[1;32m      7\u001b[0m idx_train, idx_val \u001b[38;5;241m=\u001b[39m largest_loss_train[\u001b[38;5;241m1\u001b[39m]\u001b[38;5;241m.\u001b[39mitem(), largest_loss_val[\u001b[38;5;241m1\u001b[39m]\u001b[38;5;241m.\u001b[39mitem()\n",
      "File \u001b[0;32m~/.conda/envs/conda-root-py/lib/python3.11/site-packages/fastai/interpret.py:62\u001b[0m, in \u001b[0;36mInterpretation.top_losses\u001b[0;34m(self, k, largest, items)\u001b[0m\n\u001b[1;32m     56\u001b[0m \u001b[38;5;28;01mdef\u001b[39;00m \u001b[38;5;21mtop_losses\u001b[39m(\u001b[38;5;28mself\u001b[39m,\n\u001b[1;32m     57\u001b[0m     k:\u001b[38;5;28mint\u001b[39m\u001b[38;5;241m|\u001b[39m\u001b[38;5;28;01mNone\u001b[39;00m\u001b[38;5;241m=\u001b[39m\u001b[38;5;28;01mNone\u001b[39;00m, \u001b[38;5;66;03m# Return `k` losses, defaults to all\u001b[39;00m\n\u001b[1;32m     58\u001b[0m     largest:\u001b[38;5;28mbool\u001b[39m\u001b[38;5;241m=\u001b[39m\u001b[38;5;28;01mTrue\u001b[39;00m, \u001b[38;5;66;03m# Sort losses by largest or smallest\u001b[39;00m\n\u001b[1;32m     59\u001b[0m     items:\u001b[38;5;28mbool\u001b[39m\u001b[38;5;241m=\u001b[39m\u001b[38;5;28;01mFalse\u001b[39;00m \u001b[38;5;66;03m# Whether to return input items\u001b[39;00m\n\u001b[1;32m     60\u001b[0m ):\n\u001b[1;32m     61\u001b[0m     \u001b[38;5;124m\"\u001b[39m\u001b[38;5;124m`k` largest(/smallest) losses and indexes, defaulting to all losses.\u001b[39m\u001b[38;5;124m\"\u001b[39m\n\u001b[0;32m---> 62\u001b[0m     losses, idx \u001b[38;5;241m=\u001b[39m \u001b[38;5;28mself\u001b[39m\u001b[38;5;241m.\u001b[39mlosses\u001b[38;5;241m.\u001b[39mtopk(ifnone(k, \u001b[38;5;28mlen\u001b[39m(\u001b[38;5;28mself\u001b[39m\u001b[38;5;241m.\u001b[39mlosses)), largest\u001b[38;5;241m=\u001b[39mlargest)\n\u001b[1;32m     63\u001b[0m     \u001b[38;5;28;01mif\u001b[39;00m items: \u001b[38;5;28;01mreturn\u001b[39;00m losses, idx, \u001b[38;5;28mgetattr\u001b[39m(\u001b[38;5;28mself\u001b[39m\u001b[38;5;241m.\u001b[39mdl\u001b[38;5;241m.\u001b[39mitems, \u001b[38;5;124m'\u001b[39m\u001b[38;5;124miloc\u001b[39m\u001b[38;5;124m'\u001b[39m, L(\u001b[38;5;28mself\u001b[39m\u001b[38;5;241m.\u001b[39mdl\u001b[38;5;241m.\u001b[39mitems))[idx]\n\u001b[1;32m     64\u001b[0m     \u001b[38;5;28;01melse\u001b[39;00m:     \u001b[38;5;28;01mreturn\u001b[39;00m losses, idx\n",
      "\u001b[0;31mAttributeError\u001b[0m: 'list' object has no attribute 'topk'"
     ]
    }
   ],
   "source": [
    "interp_train = Interpretation.from_learner(time_model, 0)\n",
    "interp_val = Interpretation.from_learner(time_model, 1)\n",
    "\n",
    "largest_loss_train, smallest_loss_train = interp_train.top_losses(1, largest = False), interp_train.top_losses(1)\n",
    "largest_loss_val, smallest_loss_val = interp_val.top_losses(1, largest = False), interp_val.top_losses(1)\n",
    "\n",
    "idx_train, idx_val = largest_loss_train[1].item(), largest_loss_val[1].item()\n",
    "recon_train = AE.decrypt(torch.tensor(y[idx_train].T[0]))[0]\n",
    "recon_val = AE.decrypt(torch.tensor(y[idx_val].T[0]))[0]\n",
    "\n",
    "fig, axs = plt.subplots(1, 2, figsize=(10, 5))\n",
    "axs[0].imshow(recon_train.detach().numpy(), extent = extent, aspect = 'auto')\n",
    "axs[1].imshow(recon_val.detach().numpy(), extent = extent, aspect = 'auto')\n",
    "plt.show()\n",
    "plt.close(fig)"
   ]
  },
  {
   "cell_type": "code",
   "execution_count": 10,
   "id": "15c6244e-f4cb-48d9-9a43-ab3959a6c662",
   "metadata": {},
   "outputs": [
    {
     "data": {
      "text/html": [
       "\n",
       "<style>\n",
       "    /* Turns off some styling */\n",
       "    progress {\n",
       "        /* gets rid of default border in Firefox and Opera. */\n",
       "        border: none;\n",
       "        /* Needs to be in here for Safari polyfill so background images work as expected. */\n",
       "        background-size: auto;\n",
       "    }\n",
       "    progress:not([value]), progress:not([value])::-webkit-progress-bar {\n",
       "        background: repeating-linear-gradient(45deg, #7e7e7e, #7e7e7e 10px, #5c5c5c 10px, #5c5c5c 20px);\n",
       "    }\n",
       "    .progress-bar-interrupted, .progress-bar-interrupted::-webkit-progress-bar {\n",
       "        background: #F44336;\n",
       "    }\n",
       "</style>\n"
      ],
      "text/plain": [
       "<IPython.core.display.HTML object>"
      ]
     },
     "metadata": {},
     "output_type": "display_data"
    },
    {
     "data": {
      "text/html": [],
      "text/plain": [
       "<IPython.core.display.HTML object>"
      ]
     },
     "metadata": {},
     "output_type": "display_data"
    },
    {
     "data": {
      "text/html": [
       "\n",
       "<style>\n",
       "    /* Turns off some styling */\n",
       "    progress {\n",
       "        /* gets rid of default border in Firefox and Opera. */\n",
       "        border: none;\n",
       "        /* Needs to be in here for Safari polyfill so background images work as expected. */\n",
       "        background-size: auto;\n",
       "    }\n",
       "    progress:not([value]), progress:not([value])::-webkit-progress-bar {\n",
       "        background: repeating-linear-gradient(45deg, #7e7e7e, #7e7e7e 10px, #5c5c5c 10px, #5c5c5c 20px);\n",
       "    }\n",
       "    .progress-bar-interrupted, .progress-bar-interrupted::-webkit-progress-bar {\n",
       "        background: #F44336;\n",
       "    }\n",
       "</style>\n"
      ],
      "text/plain": [
       "<IPython.core.display.HTML object>"
      ]
     },
     "metadata": {},
     "output_type": "display_data"
    },
    {
     "data": {
      "text/html": [],
      "text/plain": [
       "<IPython.core.display.HTML object>"
      ]
     },
     "metadata": {},
     "output_type": "display_data"
    },
    {
     "data": {
      "text/plain": [
       "[]"
      ]
     },
     "execution_count": 10,
     "metadata": {},
     "output_type": "execute_result"
    }
   ],
   "source": [
    "interp_train = Interpretation.from_learner(time_model, 0)\n",
    "interp_val = Interpretation.from_learner(time_model, 1)"
   ]
  }
 ],
 "metadata": {
  "kernelspec": {
   "display_name": "Python MainEnv",
   "language": "python",
   "name": "myenv"
  },
  "language_info": {
   "codemirror_mode": {
    "name": "ipython",
    "version": 3
   },
   "file_extension": ".py",
   "mimetype": "text/x-python",
   "name": "python",
   "nbconvert_exporter": "python",
   "pygments_lexer": "ipython3",
   "version": "3.11.4"
  }
 },
 "nbformat": 4,
 "nbformat_minor": 5
}
