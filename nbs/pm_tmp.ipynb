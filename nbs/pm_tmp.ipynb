{
 "cells": [
  {
   "cell_type": "markdown",
   "id": "221c7173",
   "metadata": {
    "papermill": {},
    "tags": []
   },
   "source": [
    "# End2end ConvGRU\n",
    "\n",
    "> Autoencoder + forecaster in the same training loop. Based on (https://github.com/tcapelle/moving_mnist/blob/master/01_train_example.ipynb) and (https://github.com/tcapelle/moving_mnist/blob/master/02_train_cross_entropy_loss-Copy1.ipynb)"
   ]
  },
  {
   "cell_type": "code",
   "execution_count": 1,
   "id": "fda6f346",
   "metadata": {
    "papermill": {},
    "tags": []
   },
   "outputs": [],
   "source": [
    "import sys\n",
    "sys.path.append('..')\n",
    "from fastai.vision.all import *\n",
    "from mocatml.utils import *\n",
    "convert_uuids_to_indices()\n",
    "from mocatml.data import *\n",
    "from mocatml.models.conv_rnn import *\n",
    "from mygrad import sliding_window_view\n",
    "from tsai.imports import my_setup\n",
    "from tsai.utils import yaml2dict, dict2attrdict\n",
    "from fastai.callback.schedule import valley, steep\n",
    "from fastai.callback.wandb import WandbCallback\n",
    "import wandb"
   ]
  },
  {
   "cell_type": "code",
   "execution_count": 2,
   "id": "e3b5b7f5",
   "metadata": {
    "papermill": {},
    "tags": []
   },
   "outputs": [],
   "source": [
    "from fastai.callback.schedule import LRFinder\n",
    "\n",
    "@patch_to(LRFinder)\n",
    "def after_fit(self):\n",
    "    self.learn.opt.zero_grad() # Needed before detaching the optimizer for future fits\n",
    "    tmp_f = self.path/self.model_dir/self.tmp_p/'_tmp.pth'\n",
    "    if tmp_f.exists():\n",
    "        self.learn.load(f'{self.tmp_p}/_tmp', with_opt=True, device='cpu')\n",
    "        self.tmp_d.cleanup()"
   ]
  },
  {
   "cell_type": "code",
   "execution_count": 3,
   "id": "be978b09",
   "metadata": {
    "papermill": {},
    "tags": []
   },
   "outputs": [
    {
     "name": "stdout",
     "output_type": "stream",
     "text": [
      "os              : Linux-5.10.197-llgrid-x86_64-with-glibc2.35\n",
      "python          : 3.9.15\n",
      "tsai            : 0.3.8\n",
      "fastai          : 2.7.13\n",
      "fastcore        : 1.5.29\n",
      "torch           : 1.13.1+cu116\n",
      "device          : 1 gpu (['Tesla V100-PCIE-32GB'])\n",
      "cpu cores       : 40\n",
      "threads per cpu : 2\n",
      "RAM             : 377.57 GB\n",
      "GPU memory      : N/A\n"
     ]
    }
   ],
   "source": [
    "my_setup()"
   ]
  },
  {
   "cell_type": "code",
   "execution_count": 4,
   "id": "e68d3e66",
   "metadata": {
    "papermill": {},
    "tags": [
     "parameters"
    ]
   },
   "outputs": [
    {
     "data": {
      "text/markdown": [
       "```json\n",
       "{ 'bs': 32,\n",
       "  'convgru': { 'attn': False,\n",
       "               'blur': False,\n",
       "               'coord_conv': False,\n",
       "               'debug': False,\n",
       "               'ks': 3,\n",
       "               'n_in': 1,\n",
       "               'n_out': 1,\n",
       "               'norm': None,\n",
       "               'rnn_ks': 5,\n",
       "               'strategy': 'zero',\n",
       "               'szs': [16, 64, 96]},\n",
       "  'data': {'path': '~/arclab_shared/mc_density_data/comb_am_rp.npy'},\n",
       "  'device': 'cuda',\n",
       "  'horizon': 4,\n",
       "  'lookback': 4,\n",
       "  'lr_max': None,\n",
       "  'mmap': True,\n",
       "  'n_epoch': 1,\n",
       "  'normalize': True,\n",
       "  'num_workers': 0,\n",
       "  'partial_loss': None,\n",
       "  'save_learner': True,\n",
       "  'seed': None,\n",
       "  'sel_steps': None,\n",
       "  'stride': 2,\n",
       "  'tmp_folder': 'tmp',\n",
       "  'wandb': { 'dir': None,\n",
       "             'enabled': False,\n",
       "             'group': None,\n",
       "             'log_learner': False,\n",
       "             'mode': 'offline',\n",
       "             'project': 'mocatml'}}\n",
       "```"
      ],
      "text/plain": [
       "{'bs': 32,\n",
       " 'data': {'path': '~/arclab_shared/mc_density_data/comb_am_rp.npy'},\n",
       " 'device': 'cuda',\n",
       " 'horizon': 4,\n",
       " 'lr_max': None,\n",
       " 'lookback': 4,\n",
       " 'mmap': True,\n",
       " 'n_epoch': 1,\n",
       " 'normalize': True,\n",
       " 'num_workers': 0,\n",
       " 'partial_loss': None,\n",
       " 'seed': None,\n",
       " 'save_learner': True,\n",
       " 'sel_steps': None,\n",
       " 'stride': 2,\n",
       " 'tmp_folder': 'tmp',\n",
       " 'wandb': {'dir': None,\n",
       "  'enabled': False,\n",
       "  'log_learner': False,\n",
       "  'mode': 'offline',\n",
       "  'group': None,\n",
       "  'project': 'mocatml'},\n",
       " 'convgru': {'n_in': 1,\n",
       "  'n_out': 1,\n",
       "  'szs': [16, 64, 96],\n",
       "  'ks': 3,\n",
       "  'rnn_ks': 5,\n",
       "  'blur': False,\n",
       "  'attn': False,\n",
       "  'norm': None,\n",
       "  'strategy': 'zero',\n",
       "  'coord_conv': False,\n",
       "  'debug': False}}"
      ]
     },
     "execution_count": 4,
     "metadata": {},
     "output_type": "execute_result"
    }
   ],
   "source": [
    "config_base = yaml2dict('./config/base.yaml', attrdict=True)\n",
    "config_base.convgru = yaml2dict('./config/convgru/convgru.yaml', attrdict=True)\n",
    "#config = AttrDict({**config_base, **config_e2e})\n",
    "config = AttrDict(config_base)\n",
    "config"
   ]
  },
  {
   "cell_type": "code",
   "execution_count": null,
   "id": "d56ae1c0",
   "metadata": {
    "tags": [
     "injected-parameters"
    ]
   },
   "outputs": [],
   "source": [
    "# Parameters\n",
    "config.device = \"cuda\"\n",
    "config.n_epoch = 20\n",
    "config.wandb.enabled = True\n",
    "config.wandb.log_learner = False\n",
    "config.lookback = 4\n",
    "config.horizon = 4\n",
    "config.stride = 4\n",
    "config.bs = 32\n",
    "config.save_learner = True\n",
    "config.lr_max = 0.001\n"
   ]
  },
  {
   "cell_type": "code",
   "execution_count": 5,
   "id": "32c53032",
   "metadata": {
    "papermill": {},
    "tags": []
   },
   "outputs": [
    {
     "data": {
      "text/plain": [
       "device(type='cuda', index=0)"
      ]
     },
     "execution_count": 5,
     "metadata": {},
     "output_type": "execute_result"
    }
   ],
   "source": [
    "# Set device\n",
    "default_device(0 if config.device == 'cpu' else config.device)"
   ]
  },
  {
   "cell_type": "code",
   "execution_count": 6,
   "id": "a5398fe5",
   "metadata": {
    "papermill": {},
    "tags": []
   },
   "outputs": [
    {
     "name": "stdout",
     "output_type": "stream",
     "text": [
      "{'bs': 32, 'data': {'path': '~/arclab_shared/mc_density_data/comb_am_rp.npy'}, 'device': 'cuda', 'horizon': 4, 'lr_max': None, 'lookback': 4, 'mmap': True, 'n_epoch': 1, 'normalize': True, 'num_workers': 0, 'partial_loss': None, 'seed': None, 'save_learner': True, 'sel_steps': None, 'stride': 2, 'tmp_folder': 'tmp', 'wandb': {'dir': None, 'enabled': False, 'log_learner': False, 'mode': 'offline', 'group': None, 'project': 'mocatml'}, 'convgru': {'n_in': 1, 'n_out': 1, 'szs': [16, 64, 96], 'ks': 3, 'rnn_ks': 5, 'blur': False, 'attn': False, 'norm': None, 'strategy': 'zero', 'coord_conv': False, 'debug': False}}\n"
     ]
    }
   ],
   "source": [
    "run = wandb.init(dir=ifnone(config.wandb.dir, '../'),\n",
    "                 project=config.wandb.project, \n",
    "                 config=config,\n",
    "                 group=config.wandb.group,\n",
    "                 mode=config.wandb.mode, \n",
    "                 anonymous='never') if config.wandb.enabled else None\n",
    "config = dict2attrdict(run.config) if config.wandb.enabled else config\n",
    "print(config)"
   ]
  },
  {
   "cell_type": "code",
   "execution_count": 7,
   "id": "05d27c56",
   "metadata": {
    "papermill": {},
    "tags": []
   },
   "outputs": [
    {
     "data": {
      "text/plain": [
       "(100, 2436, 36, 99)"
      ]
     },
     "execution_count": 7,
     "metadata": {},
     "output_type": "execute_result"
    }
   ],
   "source": [
    "data = np.load(Path(config.data.path).expanduser(), \n",
    "               mmap_mode='c' if config.mmap else None)\n",
    "data = data[:, :config.sel_steps]\n",
    "data.shape"
   ]
  },
  {
   "cell_type": "code",
   "execution_count": 8,
   "id": "96252bfd",
   "metadata": {
    "papermill": {},
    "tags": []
   },
   "outputs": [
    {
     "data": {
      "text/plain": [
       "(121500, 8, 36, 99)"
      ]
     },
     "execution_count": 8,
     "metadata": {},
     "output_type": "execute_result"
    }
   ],
   "source": [
    "data_sw = np.lib.stride_tricks.sliding_window_view(data, \n",
    "                                               config.lookback + config.horizon, \n",
    "                                               axis=1)[:,::config.stride,:]\n",
    "samples_per_simulation = data_sw.shape[1]\n",
    "data_sw = data_sw.transpose(0,1,4,2,3)\n",
    "data_sw = data_sw.reshape(-1, *data_sw.shape[2:])\n",
    "data_sw.shape"
   ]
  },
  {
   "cell_type": "markdown",
   "id": "9dadf762",
   "metadata": {
    "papermill": {},
    "tags": []
   },
   "source": [
    "Split and get Normalization statistics from training set (mean and standard deviation)"
   ]
  },
  {
   "cell_type": "code",
   "execution_count": 9,
   "id": "a4c2c78c",
   "metadata": {
    "papermill": {},
    "tags": []
   },
   "outputs": [
    {
     "data": {
      "text/plain": [
       "((#80) [94,92,78,6,81,40,7,86,14,42...],\n",
       " (#20) [27,99,36,98,1,25,89,22,75,96...])"
      ]
     },
     "execution_count": 9,
     "metadata": {},
     "output_type": "execute_result"
    }
   ],
   "source": [
    "# Split by simulation\n",
    "splits = RandomSplitter()(data)\n",
    "splits"
   ]
  },
  {
   "cell_type": "code",
   "execution_count": 10,
   "id": "dafc8ab4",
   "metadata": {
    "papermill": {},
    "tags": []
   },
   "outputs": [
    {
     "data": {
      "text/plain": [
       "(97200, 24300)"
      ]
     },
     "execution_count": 10,
     "metadata": {},
     "output_type": "execute_result"
    }
   ],
   "source": [
    "ds = DensityData(data_sw, lbk=config.lookback, h=config.horizon)\n",
    "train_idxs = calculate_sample_idxs(splits[0], samples_per_simulation)\n",
    "valid_idxs = calculate_sample_idxs(splits[1], samples_per_simulation)\n",
    "len(train_idxs), len(valid_idxs)"
   ]
  },
  {
   "cell_type": "code",
   "execution_count": 11,
   "id": "46c00ff9",
   "metadata": {
    "papermill": {},
    "tags": []
   },
   "outputs": [
    {
     "data": {
      "text/plain": [
       "(231.77576632383864, 741.1286226747412)"
      ]
     },
     "execution_count": 11,
     "metadata": {},
     "output_type": "execute_result"
    }
   ],
   "source": [
    "mocat_stats = (np.mean(data[splits[0]]), np.std(data[splits[0]]))\n",
    "mocat_stats"
   ]
  },
  {
   "cell_type": "code",
   "execution_count": 12,
   "id": "98da8b1b",
   "metadata": {
    "papermill": {},
    "tags": []
   },
   "outputs": [
    {
     "data": {
      "text/plain": [
       "(4, 4)"
      ]
     },
     "execution_count": 12,
     "metadata": {},
     "output_type": "execute_result"
    }
   ],
   "source": [
    "# Create dataloaders\n",
    "train_tl = TfmdLists(train_idxs, DensityTupleTransform(ds))\n",
    "valid_tl = TfmdLists(valid_idxs, DensityTupleTransform(ds))\n",
    "dls = DataLoaders.from_dsets(train_tl, valid_tl, bs=config.bs, device=default_device(),\n",
    "                            after_batch=[Normalize.from_stats(*mocat_stats)] if \\\n",
    "                             config.normalize else None,\n",
    "                            num_workers=config.num_workers)\n",
    "#dls.show_batch()\n",
    "foo, bar = dls.one_batch()\n",
    "len(foo), len(bar)"
   ]
  },
  {
   "cell_type": "code",
   "execution_count": 13,
   "id": "45e09313",
   "metadata": {
    "papermill": {},
    "tags": []
   },
   "outputs": [],
   "source": [
    "if config.partial_loss is not None:\n",
    "    loss_func = PartialStackLoss(config.partial_loss, loss_func=MSELossFlat())\n",
    "    full_loss = StackLoss()\n",
    "    full_loss.__name__ = \"full_loss\"\n",
    "    metrics = [full_loss] # [StackLoss()]\n",
    "else:\n",
    "    loss_func = StackLoss(MSELossFlat())\n",
    "    metrics = []"
   ]
  },
  {
   "cell_type": "code",
   "execution_count": 14,
   "id": "ff7dfe84",
   "metadata": {
    "papermill": {},
    "tags": []
   },
   "outputs": [
    {
     "ename": "NameError",
     "evalue": "name 'metrics' is not defined",
     "output_type": "error",
     "traceback": [
      "\u001b[0;31m---------------------------------------------------------------------------\u001b[0m",
      "\u001b[0;31mNameError\u001b[0m                                 Traceback (most recent call last)",
      "Cell \u001b[0;32mIn[14], line 5\u001b[0m\n\u001b[1;32m      3\u001b[0m wandbc \u001b[38;5;241m=\u001b[39m WandbCallback(log_preds\u001b[38;5;241m=\u001b[39m\u001b[38;5;28;01mFalse\u001b[39;00m, log_model\u001b[38;5;241m=\u001b[39m\u001b[38;5;28;01mFalse\u001b[39;00m) \u001b[38;5;28;01mif\u001b[39;00m config\u001b[38;5;241m.\u001b[39mwandb\u001b[38;5;241m.\u001b[39menabled \u001b[38;5;28;01melse\u001b[39;00m \u001b[38;5;28;01mNone\u001b[39;00m\n\u001b[1;32m      4\u001b[0m cbs \u001b[38;5;241m=\u001b[39m L() \u001b[38;5;241m+\u001b[39m wandbc\n\u001b[0;32m----> 5\u001b[0m learn \u001b[38;5;241m=\u001b[39m Learner(dls, model, loss_func\u001b[38;5;241m=\u001b[39mloss_func, cbs\u001b[38;5;241m=\u001b[39mcbs, metrics\u001b[38;5;241m=\u001b[39m\u001b[43mmetrics\u001b[49m)\n\u001b[1;32m      6\u001b[0m learn\u001b[38;5;241m.\u001b[39msplits \u001b[38;5;241m=\u001b[39m splits \u001b[38;5;66;03m# This is needed for the evaluation notebook\u001b[39;00m\n\u001b[1;32m      7\u001b[0m lr_max \u001b[38;5;241m=\u001b[39m config\u001b[38;5;241m.\u001b[39mlr_max \u001b[38;5;28;01mif\u001b[39;00m config\u001b[38;5;241m.\u001b[39mlr_max \u001b[38;5;129;01mis\u001b[39;00m \u001b[38;5;129;01mnot\u001b[39;00m \u001b[38;5;28;01mNone\u001b[39;00m \u001b[38;5;28;01melse\u001b[39;00m learn\u001b[38;5;241m.\u001b[39mlr_find()\n",
      "\u001b[0;31mNameError\u001b[0m: name 'metrics' is not defined"
     ]
    }
   ],
   "source": [
    "config.convgru.norm = NormType.Batch if config.convgru.norm == 'batch' else None\n",
    "model = StackUnstack(SimpleModel(**config.convgru)).to(default_device())\n",
    "wandbc = WandbCallback(log_preds=False, log_model=False) if config.wandb.enabled else None\n",
    "cbs = L() + wandbc\n",
    "learn = Learner(dls, model, loss_func=loss_func, cbs=cbs, metrics=metrics)\n",
    "learn.splits = splits # This is needed for the evaluation notebook\n",
    "lr_max = config.lr_max if config.lr_max is not None else learn.lr_find()"
   ]
  },
  {
   "cell_type": "code",
   "execution_count": null,
   "id": "0323d6f1",
   "metadata": {
    "papermill": {},
    "tags": []
   },
   "outputs": [],
   "source": [
    "learn.fit_one_cycle(config.n_epoch, lr_max=lr_max)"
   ]
  },
  {
   "cell_type": "code",
   "execution_count": null,
   "id": "06570fc7",
   "metadata": {
    "papermill": {},
    "tags": []
   },
   "outputs": [],
   "source": [
    "p,t = learn.get_preds()\n",
    "len(p), p[0].shape"
   ]
  },
  {
   "cell_type": "code",
   "execution_count": null,
   "id": "4e3c9940",
   "metadata": {
    "papermill": {},
    "tags": []
   },
   "outputs": [],
   "source": [
    "def show_res(t, idx, figsize=(8,4)):\n",
    "    density_seq = DensitySeq.create([t[i][idx] for i in range(len(t))])\n",
    "    density_seq.show(figsize=figsize);"
   ]
  },
  {
   "cell_type": "code",
   "execution_count": null,
   "id": "5272a619",
   "metadata": {
    "papermill": {},
    "tags": []
   },
   "outputs": [],
   "source": [
    "#|hide\n",
    "k = random.randint(0, dls.valid.n)\n",
    "figsize=(12,8)\n",
    "print(k)\n",
    "show_res(t,k, figsize=figsize)\n",
    "show_res(p,k, figsize=figsize)"
   ]
  },
  {
   "cell_type": "code",
   "execution_count": null,
   "id": "b545b4d3",
   "metadata": {
    "papermill": {},
    "tags": []
   },
   "outputs": [],
   "source": [
    "# Log inference time\n",
    "k = random.randint(0, dls.valid.n)\n",
    "foo = TfmdLists([k], DensityTupleTransform(ds))\n",
    "bar = dls.valid.new(foo)\n",
    "start_time = time.time()\n",
    "learn.get_preds(dl=bar)\n",
    "wandb.log({'inference_time': time.time() - start_time})"
   ]
  },
  {
   "cell_type": "code",
   "execution_count": null,
   "id": "28131cbe",
   "metadata": {
    "papermill": {},
    "tags": []
   },
   "outputs": [],
   "source": [
    "#|hide\n",
    "# Print the validation loss and save it in case other notebooks (optuna) wants to\n",
    "# use it for hyperparameter optimization\n",
    "valid_loss = learn.validate()[0] \n",
    "print(valid_loss)\n",
    "%store valid_loss"
   ]
  },
  {
   "cell_type": "code",
   "execution_count": null,
   "id": "b495a2a5",
   "metadata": {
    "papermill": {},
    "tags": []
   },
   "outputs": [],
   "source": [
    "#|hide\n",
    "lss = learn.get_individual_losses(p, t)"
   ]
  },
  {
   "cell_type": "code",
   "execution_count": null,
   "id": "c8a89cd9",
   "metadata": {
    "papermill": {},
    "tags": []
   },
   "outputs": [],
   "source": [
    "# Remove the wandb callback to avoid errors when downloading the learner\n",
    "if config.wandb.enabled:\n",
    "    learn.remove_cb(wandbc)\n",
    "\n",
    "if config.save_learner:\n",
    "    learn.model_dir = config.tmp_folder\n",
    "    learn.export(f'{config.tmp_folder}/learner.pkl', pickle_protocol=4)\n",
    "\n",
    "# Save locally and in wandb if it's enabled\n",
    "if run is not None and config.wandb.log_learner:\n",
    "    # Save the learner (all tmp/dls, tmp/model.pth, and tmp/learner.pkl). \n",
    "    run.log_artifact(config.tmp_folder, type='learner', name='density-forecaster')"
   ]
  },
  {
   "cell_type": "code",
   "execution_count": null,
   "id": "53c9375a",
   "metadata": {
    "papermill": {},
    "tags": []
   },
   "outputs": [],
   "source": [
    "if run is not None:\n",
    "    run.finish()"
   ]
  }
 ],
 "metadata": {
  "kernelspec": {
   "display_name": "Python 3 (ipykernel)",
   "language": "python",
   "name": "python3"
  },
  "language_info": {
   "codemirror_mode": {
    "name": "ipython",
    "version": 3
   },
   "file_extension": ".py",
   "mimetype": "text/x-python",
   "name": "python",
   "nbconvert_exporter": "python",
   "pygments_lexer": "ipython3",
   "version": "3.9.15"
  },
  "papermill": {
   "default_parameters": {},
   "environment_variables": {},
   "input_path": "convgru.ipynb",
   "output_path": "pm_tmp.ipynb",
   "parameters": {
    "config.bs": 32,
    "config.device": "cuda",
    "config.horizon": 4,
    "config.lookback": 4,
    "config.lr_max": 0.001,
    "config.n_epoch": 20,
    "config.save_learner": true,
    "config.stride": 4,
    "config.wandb.enabled": true,
    "config.wandb.log_learner": false
   },
   "version": "2.4.0"
  }
 },
 "nbformat": 4,
 "nbformat_minor": 5
}