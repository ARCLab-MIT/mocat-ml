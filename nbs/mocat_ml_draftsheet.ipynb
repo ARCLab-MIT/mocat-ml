{
 "cells": [
  {
   "attachments": {},
   "cell_type": "markdown",
   "metadata": {},
   "source": [
    "# MOCAT\n",
    "\n",
    "> Orbital Capactiy and Assesment Tool. This is an initial draftsheet"
   ]
  },
  {
   "cell_type": "code",
   "execution_count": 1,
   "metadata": {},
   "outputs": [],
   "source": [
    "import scipy.io\n",
    "mat = scipy.io.loadmat('../data/SommaMult_3_x10_x10_0215_1_part_1_density.mat')"
   ]
  },
  {
   "cell_type": "code",
   "execution_count": 2,
   "metadata": {},
   "outputs": [
    {
     "name": "stdout",
     "output_type": "stream",
     "text": [
      "dict_keys(['__header__', '__version__', '__globals__', 'MCconfig', 'param', 'paramSSEM', 'time_density', 'ra_disc', 'rp_disc', 'inc_disc', 'Am_disc', 'comb_Am_rp', 'comb_Am_ra', 'comb_Am_inc', 'comb_inc_rp', 'comb_inc_ra', 'comb_ra_rp', '__function_workspace__'])\n"
     ]
    }
   ],
   "source": [
    "# Print a summary of the data contained in the mat file\n",
    "print(mat.keys())"
   ]
  },
  {
   "cell_type": "code",
   "execution_count": 3,
   "metadata": {},
   "outputs": [
    {
     "data": {
      "text/plain": [
       "dict_keys(['MCconfig', 'param', 'paramSSEM', 'time_density', 'ra_disc', 'rp_disc', 'inc_disc', 'Am_disc', 'comb_Am_rp', 'comb_Am_ra', 'comb_Am_inc', 'comb_inc_rp', 'comb_inc_ra', 'comb_ra_rp'])"
      ]
     },
     "execution_count": 3,
     "metadata": {},
     "output_type": "execute_result"
    }
   ],
   "source": [
    "# Remove every key starting with '__' from the dictionary\n",
    "mat = {k: v for k, v in mat.items() if not k.startswith('__')}\n",
    "mat.keys()"
   ]
  },
  {
   "cell_type": "code",
   "execution_count": 8,
   "metadata": {},
   "outputs": [
    {
     "name": "stdout",
     "output_type": "stream",
     "text": [
      "MCconfig <class 'numpy.ndarray'> (1, 1)\n",
      "param <class 'numpy.ndarray'> (1, 1)\n",
      "paramSSEM <class 'numpy.ndarray'> (1, 1)\n",
      "time_density <class 'numpy.ndarray'> (122, 1)\n",
      "ra_disc <class 'numpy.ndarray'> (1, 37)\n",
      "rp_disc <class 'numpy.ndarray'> (1, 37)\n",
      "inc_disc <class 'numpy.ndarray'> (1, 181)\n",
      "Am_disc <class 'numpy.ndarray'> (1, 100)\n",
      "comb_Am_rp <class 'numpy.ndarray'> (99, 36, 122)\n",
      "comb_Am_ra <class 'numpy.ndarray'> (99, 36, 122)\n",
      "comb_Am_inc <class 'numpy.ndarray'> (99, 180, 122)\n",
      "comb_inc_rp <class 'numpy.ndarray'> (180, 36, 122)\n",
      "comb_inc_ra <class 'numpy.ndarray'> (180, 36, 122)\n",
      "comb_ra_rp <class 'numpy.ndarray'> (36, 36, 122)\n"
     ]
    }
   ],
   "source": [
    "# Print the type of data in each key. In case the data is a numpy array, \n",
    "# print the shape of the array\n",
    "for k, v in mat.items():\n",
    "    print(k, type(v), v.shape)"
   ]
  },
  {
   "cell_type": "markdown",
   "metadata": {},
   "source": [
    "* time_density: tiempo en segundos desde el inicio de la simulación (intervalos de un mes, esto lo podemos ajustar)\n",
    "* ra_disc = discretización del apogeo, en km (edges), esto lo podemos ajustar\n",
    "* rp_disc = discretización del perigeo, en km (edges), esto lo podemos ajustar\n",
    "* inc_disc = discretización de la inclinación, en rad (edges), esto lo podemos ajustar\n",
    "* Am_disc = discretización del area to mass ratio, en m^2/kg (edges), esto lo podemos ajustar\n",
    "* comb_Am_rp =  Estos son los valores (**número de objetos**) para generar la \"imagen\" de A/m vs perigeo (filas con valores crecientes de A/m y columnas con valores crecientes de perigeo. La tercera dimensión es el tiempo)\n",
    "* comb_Am_ra = Lo mismo pero para A/m vs apogeo\n",
    "* comb_Am_inc = Lo mismo pero para A/m vs inclinación\n",
    "* comb_inc_rp\n",
    "* comb_inc_ra\n",
    "* comb_ra_rp\n",
    "\n",
    "Lo que te envío es solo una simulación de 10 años. Las simulaciones que tendremos serán de 100, 300 o 500 años, y unas 100 simulaciones en total para cada escenario (con la misma población inicial y launch profile). No sé cuántos escenarios tengamos en total, quizá unos 5"
   ]
  }
 ],
 "metadata": {
  "kernelspec": {
   "display_name": "Python 3.10.10 64-bit",
   "language": "python",
   "name": "python3"
  },
  "language_info": {
   "codemirror_mode": {
    "name": "ipython",
    "version": 3
   },
   "file_extension": ".py",
   "mimetype": "text/x-python",
   "name": "python",
   "nbconvert_exporter": "python",
   "pygments_lexer": "ipython3",
   "version": "3.10.10"
  },
  "orig_nbformat": 4,
  "vscode": {
   "interpreter": {
    "hash": "949777d72b0d2535278d3dc13498b2535136f6dfe0678499012e853ee9abcab1"
   }
  }
 },
 "nbformat": 4,
 "nbformat_minor": 2
}
