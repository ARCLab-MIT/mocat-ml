{
 "cells": [
  {
   "attachments": {},
   "cell_type": "markdown",
   "metadata": {},
   "source": [
    "# MOCAT\n",
    "\n",
    "> Orbital Capactiy and Assesment Tool. This is an initial draftsheet"
   ]
  },
  {
   "cell_type": "code",
   "execution_count": null,
   "metadata": {},
   "outputs": [
    {
     "ename": "",
     "evalue": "",
     "output_type": "error",
     "traceback": [
      "\u001b[1;31mRunning cells with '/usr/bin/python3' requires the ipykernel package.\n",
      "\u001b[1;31mRun the following command to install 'ipykernel' into the Python environment. \n",
      "\u001b[1;31mCommand: '/usr/bin/python3 -m pip install ipykernel -U --user --force-reinstall'"
     ]
    }
   ],
   "source": [
    "import scipy.io\n",
    "import numpy as np\n",
    "import matplotlib.pyplot as plt\n",
    "import matplotlib.animation as animation"
   ]
  },
  {
   "cell_type": "code",
   "execution_count": null,
   "metadata": {},
   "outputs": [
    {
     "ename": "",
     "evalue": "",
     "output_type": "error",
     "traceback": [
      "\u001b[1;31mRunning cells with '/usr/bin/python3' requires the ipykernel package.\n",
      "\u001b[1;31mRun the following command to install 'ipykernel' into the Python environment. \n",
      "\u001b[1;31mCommand: '/usr/bin/python3 -m pip install ipykernel -U --user --force-reinstall'"
     ]
    }
   ],
   "source": [
    "mat = scipy.io.loadmat('../data/SommaMult_3_x10_x10_0215_1_part_1_density.mat')"
   ]
  },
  {
   "cell_type": "code",
   "execution_count": null,
   "metadata": {},
   "outputs": [
    {
     "ename": "",
     "evalue": "",
     "output_type": "error",
     "traceback": [
      "\u001b[1;31mRunning cells with '/usr/bin/python3' requires the ipykernel package.\n",
      "\u001b[1;31mRun the following command to install 'ipykernel' into the Python environment. \n",
      "\u001b[1;31mCommand: '/usr/bin/python3 -m pip install ipykernel -U --user --force-reinstall'"
     ]
    }
   ],
   "source": [
    "# Print a summary of the data contained in the mat file\n",
    "print(mat.keys())"
   ]
  },
  {
   "cell_type": "code",
   "execution_count": null,
   "metadata": {},
   "outputs": [
    {
     "ename": "",
     "evalue": "",
     "output_type": "error",
     "traceback": [
      "\u001b[1;31mRunning cells with '/usr/bin/python3' requires the ipykernel package.\n",
      "\u001b[1;31mRun the following command to install 'ipykernel' into the Python environment. \n",
      "\u001b[1;31mCommand: '/usr/bin/python3 -m pip install ipykernel -U --user --force-reinstall'"
     ]
    }
   ],
   "source": [
    "# Remove every key starting with '__' from the dictionary\n",
    "mat = {k: v for k, v in mat.items() if not k.startswith('__')}\n",
    "mat.keys()"
   ]
  },
  {
   "cell_type": "code",
   "execution_count": null,
   "metadata": {},
   "outputs": [
    {
     "ename": "",
     "evalue": "",
     "output_type": "error",
     "traceback": [
      "\u001b[1;31mRunning cells with '/usr/bin/python3' requires the ipykernel package.\n",
      "\u001b[1;31mRun the following command to install 'ipykernel' into the Python environment. \n",
      "\u001b[1;31mCommand: '/usr/bin/python3 -m pip install ipykernel -U --user --force-reinstall'"
     ]
    }
   ],
   "source": [
    "# Print the type of data in each key. In case the data is a numpy array, \n",
    "# print the shape of the array\n",
    "for k, v in mat.items():\n",
    "    print(k, type(v), v.shape)"
   ]
  },
  {
   "cell_type": "markdown",
   "metadata": {},
   "source": [
    "* time_density: tiempo en segundos desde el inicio de la simulación (intervalos de un mes, esto lo podemos ajustar)\n",
    "* ra_disc = discretización del apogeo, en km (edges), esto lo podemos ajustar\n",
    "* rp_disc = discretización del perigeo, en km (edges), esto lo podemos ajustar\n",
    "* inc_disc = discretización de la inclinación, en rad (edges), esto lo podemos ajustar\n",
    "* Am_disc = discretización del area to mass ratio, en m^2/kg (edges), esto lo podemos ajustar\n",
    "* comb_Am_rp =  Estos son los valores (**número de objetos**) para generar la \"imagen\" de A/m vs perigeo (filas con valores crecientes de A/m y columnas con valores crecientes de perigeo. La tercera dimensión es el tiempo)\n",
    "* comb_Am_ra = Lo mismo pero para A/m vs apogeo\n",
    "* comb_Am_inc = Lo mismo pero para A/m vs inclinación\n",
    "* comb_inc_rp\n",
    "* comb_inc_ra\n",
    "* comb_ra_rp\n",
    "\n",
    "Lo que te envío es solo una simulación de 10 años. Las simulaciones que tendremos serán de 100, 300 o 500 años, y unas 100 simulaciones en total para cada escenario (con la misma población inicial y launch profile). No sé cuántos escenarios tengamos en total, quizá unos 5"
   ]
  },
  {
   "cell_type": "code",
   "execution_count": null,
   "metadata": {},
   "outputs": [
    {
     "ename": "",
     "evalue": "",
     "output_type": "error",
     "traceback": [
      "\u001b[1;31mRunning cells with '/usr/bin/python3' requires the ipykernel package.\n",
      "\u001b[1;31mRun the following command to install 'ipykernel' into the Python environment. \n",
      "\u001b[1;31mCommand: '/usr/bin/python3 -m pip install ipykernel -U --user --force-reinstall'"
     ]
    }
   ],
   "source": [
    "# Check if the distance between two points in the array 'time_density' is the same for all points\n",
    "np.all(np.diff(mat['time_density'][:, 0]) == np.diff(mat['time_density'][:, 0])[0])\n",
    "\n",
    "# Print the distances between two points in the array 'time_density'\n",
    "np.diff(mat['time_density'][:, 0])"
   ]
  },
  {
   "cell_type": "markdown",
   "metadata": {},
   "source": [
    "The distances are the same in every two points (1 month) except for the first data point"
   ]
  },
  {
   "cell_type": "code",
   "execution_count": null,
   "metadata": {},
   "outputs": [
    {
     "ename": "",
     "evalue": "",
     "output_type": "error",
     "traceback": [
      "\u001b[1;31mRunning cells with '/usr/bin/python3' requires the ipykernel package.\n",
      "\u001b[1;31mRun the following command to install 'ipykernel' into the Python environment. \n",
      "\u001b[1;31mCommand: '/usr/bin/python3 -m pip install ipykernel -U --user --force-reinstall'"
     ]
    }
   ],
   "source": [
    "# Do the same (prit distances) with the array 'ra_disc'\n",
    "np.diff(mat['ra_disc'])"
   ]
  },
  {
   "cell_type": "code",
   "execution_count": null,
   "metadata": {},
   "outputs": [
    {
     "ename": "",
     "evalue": "",
     "output_type": "error",
     "traceback": [
      "\u001b[1;31mRunning cells with '/usr/bin/python3' requires the ipykernel package.\n",
      "\u001b[1;31mRun the following command to install 'ipykernel' into the Python environment. \n",
      "\u001b[1;31mCommand: '/usr/bin/python3 -m pip install ipykernel -U --user --force-reinstall'"
     ]
    }
   ],
   "source": [
    "mat['comb_Am_rp'][0].shape"
   ]
  },
  {
   "cell_type": "code",
   "execution_count": null,
   "metadata": {},
   "outputs": [
    {
     "ename": "",
     "evalue": "",
     "output_type": "error",
     "traceback": [
      "\u001b[1;31mRunning cells with '/usr/bin/python3' requires the ipykernel package.\n",
      "\u001b[1;31mRun the following command to install 'ipykernel' into the Python environment. \n",
      "\u001b[1;31mCommand: '/usr/bin/python3 -m pip install ipykernel -U --user --force-reinstall'"
     ]
    }
   ],
   "source": [
    "# Get some statistics about the matrix 'comb_Am_rp'\n",
    "print(np.min(mat['comb_Am_rp']), np.max(mat['comb_Am_rp']), np.mean(mat['comb_Am_rp']), np.std(mat['comb_Am_rp']))\n",
    "\n",
    "# Plot the first epoch of that sequence of matrices as a 2D distribution (time is in the last dimension)\n",
    "# The labels of the x axis should be taken from the array 'rp_disc', whereas the \n",
    "# ones of the y axis should be taken from the array 'Am_disc'\n",
    "plt.imshow(mat['comb_Am_rp'][:,:,0], extent=[np.min(mat['rp_disc']), \n",
    "                                             np.max(mat['rp_disc']), \n",
    "                                             np.min(mat['Am_disc']), \n",
    "                                             np.max(mat['Am_disc'])], aspect='auto')"
   ]
  },
  {
   "cell_type": "code",
   "execution_count": null,
   "metadata": {},
   "outputs": [
    {
     "ename": "",
     "evalue": "",
     "output_type": "error",
     "traceback": [
      "\u001b[1;31mRunning cells with '/usr/bin/python3' requires the ipykernel package.\n",
      "\u001b[1;31mRun the following command to install 'ipykernel' into the Python environment. \n",
      "\u001b[1;31mCommand: '/usr/bin/python3 -m pip install ipykernel -U --user --force-reinstall'"
     ]
    }
   ],
   "source": [
    "import scipy.io\n",
    "import numpy as np\n",
    "import matplotlib.pyplot as plt"
   ]
  },
  {
   "cell_type": "code",
   "execution_count": null,
   "metadata": {},
   "outputs": [
    {
     "ename": "",
     "evalue": "",
     "output_type": "error",
     "traceback": [
      "\u001b[1;31mRunning cells with '/usr/bin/python3' requires the ipykernel package.\n",
      "\u001b[1;31mRun the following command to install 'ipykernel' into the Python environment. \n",
      "\u001b[1;31mCommand: '/usr/bin/python3 -m pip install ipykernel -U --user --force-reinstall'"
     ]
    }
   ],
   "source": [
    "\n",
    "\n",
    "mat = scipy.io.loadmat('../data/SommaMult_3_x10_x10_0215_1_part_1_density.mat')"
   ]
  },
  {
   "cell_type": "code",
   "execution_count": null,
   "metadata": {},
   "outputs": [
    {
     "ename": "",
     "evalue": "",
     "output_type": "error",
     "traceback": [
      "\u001b[1;31mRunning cells with '/usr/bin/python3' requires the ipykernel package.\n",
      "\u001b[1;31mRun the following command to install 'ipykernel' into the Python environment. \n",
      "\u001b[1;31mCommand: '/usr/bin/python3 -m pip install ipykernel -U --user --force-reinstall'"
     ]
    }
   ],
   "source": [
    "# Print a summary of the data contained in the mat file\n",
    "print(mat.keys())"
   ]
  },
  {
   "cell_type": "code",
   "execution_count": null,
   "metadata": {},
   "outputs": [
    {
     "ename": "",
     "evalue": "",
     "output_type": "error",
     "traceback": [
      "\u001b[1;31mRunning cells with '/usr/bin/python3' requires the ipykernel package.\n",
      "\u001b[1;31mRun the following command to install 'ipykernel' into the Python environment. \n",
      "\u001b[1;31mCommand: '/usr/bin/python3 -m pip install ipykernel -U --user --force-reinstall'"
     ]
    }
   ],
   "source": [
    "# Remove every key starting with '__' from the dictionary\n",
    "mat = {k: v for k, v in mat.items() if not k.startswith('__')}\n",
    "mat.keys()"
   ]
  },
  {
   "cell_type": "code",
   "execution_count": null,
   "metadata": {},
   "outputs": [
    {
     "ename": "",
     "evalue": "",
     "output_type": "error",
     "traceback": [
      "\u001b[1;31mRunning cells with '/usr/bin/python3' requires the ipykernel package.\n",
      "\u001b[1;31mRun the following command to install 'ipykernel' into the Python environment. \n",
      "\u001b[1;31mCommand: '/usr/bin/python3 -m pip install ipykernel -U --user --force-reinstall'"
     ]
    }
   ],
   "source": [
    "# Print the type of data in each key. In case the data is a numpy array, \n",
    "# print the shape of the array\n",
    "for k, v in mat.items():\n",
    "    print(k, type(v), v.shape)"
   ]
  },
  {
   "cell_type": "markdown",
   "metadata": {},
   "source": [
    "* time_density: tiempo en segundos desde el inicio de la simulación (intervalos de un mes, esto lo podemos ajustar)\n",
    "* ra_disc = discretización del apogeo, en km (edges), esto lo podemos ajustar\n",
    "* rp_disc = discretización del perigeo, en km (edges), esto lo podemos ajustar\n",
    "* inc_disc = discretización de la inclinación, en rad (edges), esto lo podemos ajustar\n",
    "* Am_disc = discretización del area to mass ratio, en m^2/kg (edges), esto lo podemos ajustar\n",
    "* comb_Am_rp =  Estos son los valores (**número de objetos**) para generar la \"imagen\" de A/m vs perigeo (filas con valores crecientes de A/m y columnas con valores crecientes de perigeo. La tercera dimensión es el tiempo)\n",
    "* comb_Am_ra = Lo mismo pero para A/m vs apogeo\n",
    "* comb_Am_inc = Lo mismo pero para A/m vs inclinación\n",
    "* comb_inc_rp\n",
    "* comb_inc_ra\n",
    "* comb_ra_rp\n",
    "\n",
    "Lo que te envío es solo una simulación de 10 años. Las simulaciones que tendremos serán de 100, 300 o 500 años, y unas 100 simulaciones en total para cada escenario (con la misma población inicial y launch profile). No sé cuántos escenarios tengamos en total, quizá unos 5"
   ]
  },
  {
   "cell_type": "code",
   "execution_count": null,
   "metadata": {},
   "outputs": [
    {
     "ename": "",
     "evalue": "",
     "output_type": "error",
     "traceback": [
      "\u001b[1;31mRunning cells with '/usr/bin/python3' requires the ipykernel package.\n",
      "\u001b[1;31mRun the following command to install 'ipykernel' into the Python environment. \n",
      "\u001b[1;31mCommand: '/usr/bin/python3 -m pip install ipykernel -U --user --force-reinstall'"
     ]
    }
   ],
   "source": [
    "# Check if the distance between two points in the array 'time_density' is the same for all points\n",
    "np.all(np.diff(mat['time_density'][:, 0]) == np.diff(mat['time_density'][:, 0])[0])\n",
    "\n",
    "# Print the distances between two points in the array 'time_density'\n",
    "np.diff(mat['time_density'][:, 0])"
   ]
  },
  {
   "cell_type": "markdown",
   "metadata": {},
   "source": [
    "The distances are the same in every two points (1 month) except for the first data point"
   ]
  },
  {
   "cell_type": "code",
   "execution_count": null,
   "metadata": {},
   "outputs": [
    {
     "ename": "",
     "evalue": "",
     "output_type": "error",
     "traceback": [
      "\u001b[1;31mRunning cells with '/usr/bin/python3' requires the ipykernel package.\n",
      "\u001b[1;31mRun the following command to install 'ipykernel' into the Python environment. \n",
      "\u001b[1;31mCommand: '/usr/bin/python3 -m pip install ipykernel -U --user --force-reinstall'"
     ]
    }
   ],
   "source": [
    "# Do the same (prit distances) with the array 'ra_disc'\n",
    "np.diff(mat['ra_disc'])"
   ]
  },
  {
   "cell_type": "code",
   "execution_count": null,
   "metadata": {},
   "outputs": [
    {
     "ename": "",
     "evalue": "",
     "output_type": "error",
     "traceback": [
      "\u001b[1;31mRunning cells with '/usr/bin/python3' requires the ipykernel package.\n",
      "\u001b[1;31mRun the following command to install 'ipykernel' into the Python environment. \n",
      "\u001b[1;31mCommand: '/usr/bin/python3 -m pip install ipykernel -U --user --force-reinstall'"
     ]
    }
   ],
   "source": [
    "mat['comb_Am_rp'][0].shape"
   ]
  },
  {
   "cell_type": "code",
   "execution_count": null,
   "metadata": {},
   "outputs": [
    {
     "ename": "",
     "evalue": "",
     "output_type": "error",
     "traceback": [
      "\u001b[1;31mRunning cells with '/usr/bin/python3' requires the ipykernel package.\n",
      "\u001b[1;31mRun the following command to install 'ipykernel' into the Python environment. \n",
      "\u001b[1;31mCommand: '/usr/bin/python3 -m pip install ipykernel -U --user --force-reinstall'"
     ]
    }
   ],
   "source": [
    "# Get some statistics about the matrix 'comb_Am_rp'\n",
    "print(np.min(mat['comb_Am_rp']), np.max(mat['comb_Am_rp']), np.mean(mat['comb_Am_rp']), np.std(mat['comb_Am_rp']))\n",
    "\n",
    "# Plot the first epoch of that sequence of matrices as a 2D distribution (time is in the last dimension)\n",
    "# The labels of the x axis should be taken from the array 'rp_disc', whereas the \n",
    "# ones of the y axis should be taken from the array 'Am_disc'\n",
    "# The titles of the axis should be 'rp' and 'Am', respectively\n",
    "plt.imshow(mat['comb_Am_rp'][:,:,0], extent=[np.min(mat['rp_disc']),\n",
    "                                                np.max(mat['rp_disc']),\n",
    "                                                np.min(mat['Am_disc']),\n",
    "                                                np.max(mat['Am_disc'])], aspect='auto')\n",
    "plt.xlabel('rp [km]')\n",
    "plt.ylabel('Am [m2/kg]')"
   ]
  },
  {
   "cell_type": "code",
   "execution_count": 23,
   "metadata": {},
   "outputs": [
    {
     "name": "stderr",
     "output_type": "stream",
     "text": [
      "MovieWriter imagemagick unavailable; using Pillow instead.\n"
     ]
    },
    {
     "data": {
      "image/png": "[encoded data removed]",
      "text/plain": [
       "<Figure size 640x480 with 1 Axes>"
      ]
     },
     "metadata": {},
     "output_type": "display_data"
    }
   ],
   "source": [
    "# Slow cell\n",
    "from IPython.display import HTML\n",
    "\n",
    "fig = plt.figure()\n",
    "ax = fig.add_subplot(111)\n",
    "# Plot matrix at t=0\n",
    "im = ax.imshow(mat['comb_Am_rp'][:,:,0], extent=[np.min(mat['rp_disc']),\n",
    "                                                    np.max(mat['rp_disc']),\n",
    "                                                    np.min(mat['Am_disc']),\n",
    "                                                    np.max(mat['Am_disc'])], aspect='auto')\n",
    "\n",
    "plt.xlabel('rp [km]')\n",
    "plt.ylabel('Am [m2/kg]')\n",
    "\n",
    "# Define a function that updates the data of the plot\n",
    "# Change the title of the plot to show the time of the epoch\n",
    "def animate(i, im, fig):\n",
    "    fig.suptitle(f'Epoch {i}')\n",
    "    im.set_array(mat['comb_Am_rp'][:, :, i])  # Update data\n",
    "    return im,\n",
    "\n",
    "ani = animation.FuncAnimation(fig, \n",
    "                        animate, \n",
    "                        frames=mat['comb_Am_rp'].shape[-1], \n",
    "                        fargs=(im, fig))\n",
    "\n",
    "# Save the animation as a gif file\n",
    "#ani.save('../plots/Am_rp.gif', writer='imagemagick', fps=10)\n",
    "\n",
    "# visualise the animation here"
   ]
  }
 ],
 "metadata": {
  "kernelspec": {
   "display_name": "Python 3",
   "language": "python",
   "name": "python3"
  },
  "language_info": {
   "codemirror_mode": {
    "name": "ipython",
    "version": 3
   },
   "file_extension": ".py",
   "mimetype": "text/x-python",
   "name": "python",
   "nbconvert_exporter": "python",
   "pygments_lexer": "ipython3",
   "version": "3.10.6"
  },
  "orig_nbformat": 4,
  "vscode": {
   "interpreter": {
    "hash": "31f2aee4e71d21fbe5cf8b01ff0e069b9275f58929596ceb00d14d90e3e16cd6"
   }
  }
 },
 "nbformat": 4,
 "nbformat_minor": 2
}
