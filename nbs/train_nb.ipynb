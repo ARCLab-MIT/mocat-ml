{
 "cells": [
  {
   "cell_type": "code",
   "execution_count": 1,
   "id": "eced1e80-eb89-40b9-b95d-fc25097be154",
   "metadata": {},
   "outputs": [],
   "source": [
    "import matplotlib.pyplot as plt\n",
    "import numpy as np\n",
    "import torch\n",
    "import torchvision\n",
    "from torch.utils.data import DataLoader,random_split\n",
    "from torch import nn\n",
    "import torch.nn.functional as F\n",
    "import torch.optim as optim\n",
    "import fastai\n",
    "import fastai.tabular\n",
    "from fastai.vision.all import *\n",
    "from fastai.data.core import DataLoaders\n",
    "\n",
    "import sys \n",
    "sys.path.insert(0, '/home/gridsan/ssarangerel/mocat-ml')\n",
    "\n",
    "from CNN import *\n",
    "import random, os, h5py, json"
   ]
  },
  {
   "cell_type": "code",
   "execution_count": 2,
   "id": "59c5f5ca-578f-475e-9c39-298e54990c7f",
   "metadata": {
    "tags": [
     "parameters"
    ]
   },
   "outputs": [
    {
     "name": "stdout",
     "output_type": "stream",
     "text": [
      "Selected device: cuda\n"
     ]
    }
   ],
   "source": [
    "device = torch.device(\"cuda\") if torch.cuda.is_available() else torch.device(\"cpu\")\n",
    "print(f'Selected device: {device}')\n",
    "\n",
    "path = '/home/gridsan/ssarangerel/mocat-ml/'\n",
    "with open(f'{path}data_numpy/data_config.json', \"r\") as outfile:\n",
    "    data = json.load(outfile, strict=False)\n",
    "    \n",
    "extent = list(data['extent'])\n",
    "data_numpy = np.load(f'{path}data_numpy/data.npy')\n",
    "num_sim, split, batch_size = 100, 0.90, 8192\n",
    "n_epochs = 35 #number found from lr_finder nb\n",
    "d = 32\n",
    "save_models = True\n",
    "\n",
    "indices = [i for i in range(num_sim)]\n",
    "random.shuffle(indices)\n",
    "\n",
    "train_data = CustomDataset(data_numpy, indices[:int(split * num_sim)], device)\n",
    "val_data = CustomDataset(data_numpy, indices[int(split * num_sim):], device)\n",
    "train_loader = torch.utils.data.DataLoader(train_data, batch_size=batch_size)\n",
    "valid_loader = torch.utils.data.DataLoader(val_data, batch_size=batch_size)"
   ]
  },
  {
   "cell_type": "code",
   "execution_count": 3,
   "id": "ebaaf72e-0149-4c93-8b8c-6345a95ae48b",
   "metadata": {},
   "outputs": [
    {
     "data": {
      "text/html": [
       "\n",
       "<style>\n",
       "    /* Turns off some styling */\n",
       "    progress {\n",
       "        /* gets rid of default border in Firefox and Opera. */\n",
       "        border: none;\n",
       "        /* Needs to be in here for Safari polyfill so background images work as expected. */\n",
       "        background-size: auto;\n",
       "    }\n",
       "    progress:not([value]), progress:not([value])::-webkit-progress-bar {\n",
       "        background: repeating-linear-gradient(45deg, #7e7e7e, #7e7e7e 10px, #5c5c5c 10px, #5c5c5c 20px);\n",
       "    }\n",
       "    .progress-bar-interrupted, .progress-bar-interrupted::-webkit-progress-bar {\n",
       "        background: #F44336;\n",
       "    }\n",
       "</style>\n"
      ],
      "text/plain": [
       "<IPython.core.display.HTML object>"
      ]
     },
     "metadata": {},
     "output_type": "display_data"
    },
    {
     "data": {
      "text/html": [],
      "text/plain": [
       "<IPython.core.display.HTML object>"
      ]
     },
     "metadata": {},
     "output_type": "display_data"
    },
    {
     "data": {
      "image/png": "[encoded data removed]",
      "text/plain": [
       "<Figure size 640x480 with 1 Axes>"
      ]
     },
     "metadata": {},
     "output_type": "display_data"
    }
   ],
   "source": [
    "autoenc = AutoEncoder(d).to(device)\n",
    "dls = DataLoaders.from_dsets(train_data, val_data, bs = batch_size)\n",
    "learn = Learner(dls, autoenc, loss_func = F.mse_loss)\n",
    "lr = learn.lr_find().valley"
   ]
  },
  {
   "cell_type": "code",
   "execution_count": null,
   "id": "3f753eee-daad-491d-93ce-012ae876d8be",
   "metadata": {},
   "outputs": [
    {
     "data": {
      "text/html": [
       "\n",
       "<style>\n",
       "    /* Turns off some styling */\n",
       "    progress {\n",
       "        /* gets rid of default border in Firefox and Opera. */\n",
       "        border: none;\n",
       "        /* Needs to be in here for Safari polyfill so background images work as expected. */\n",
       "        background-size: auto;\n",
       "    }\n",
       "    progress:not([value]), progress:not([value])::-webkit-progress-bar {\n",
       "        background: repeating-linear-gradient(45deg, #7e7e7e, #7e7e7e 10px, #5c5c5c 10px, #5c5c5c 20px);\n",
       "    }\n",
       "    .progress-bar-interrupted, .progress-bar-interrupted::-webkit-progress-bar {\n",
       "        background: #F44336;\n",
       "    }\n",
       "</style>\n"
      ],
      "text/plain": [
       "<IPython.core.display.HTML object>"
      ]
     },
     "metadata": {},
     "output_type": "display_data"
    },
    {
     "data": {
      "text/html": [
       "\n",
       "    <div>\n",
       "      <progress value='14' class='' max='35' style='width:300px; height:20px; vertical-align: middle;'></progress>\n",
       "      40.00% [14/35 04:40&lt;07:00]\n",
       "    </div>\n",
       "    \n",
       "<table border=\"1\" class=\"dataframe\">\n",
       "  <thead>\n",
       "    <tr style=\"text-align: left;\">\n",
       "      <th>epoch</th>\n",
       "      <th>train_loss</th>\n",
       "      <th>valid_loss</th>\n",
       "      <th>time</th>\n",
       "    </tr>\n",
       "  </thead>\n",
       "  <tbody>\n",
       "    <tr>\n",
       "      <td>0</td>\n",
       "      <td>280.997406</td>\n",
       "      <td>282.044037</td>\n",
       "      <td>00:18</td>\n",
       "    </tr>\n",
       "    <tr>\n",
       "      <td>1</td>\n",
       "      <td>279.879486</td>\n",
       "      <td>277.975159</td>\n",
       "      <td>00:18</td>\n",
       "    </tr>\n",
       "    <tr>\n",
       "      <td>2</td>\n",
       "      <td>270.365204</td>\n",
       "      <td>233.466049</td>\n",
       "      <td>00:20</td>\n",
       "    </tr>\n",
       "    <tr>\n",
       "      <td>3</td>\n",
       "      <td>225.428635</td>\n",
       "      <td>134.105911</td>\n",
       "      <td>00:19</td>\n",
       "    </tr>\n",
       "    <tr>\n",
       "      <td>4</td>\n",
       "      <td>174.849625</td>\n",
       "      <td>93.428162</td>\n",
       "      <td>00:19</td>\n",
       "    </tr>\n",
       "    <tr>\n",
       "      <td>5</td>\n",
       "      <td>133.408936</td>\n",
       "      <td>66.305725</td>\n",
       "      <td>00:20</td>\n",
       "    </tr>\n",
       "    <tr>\n",
       "      <td>6</td>\n",
       "      <td>100.259979</td>\n",
       "      <td>46.081516</td>\n",
       "      <td>00:20</td>\n",
       "    </tr>\n",
       "    <tr>\n",
       "      <td>7</td>\n",
       "      <td>75.154976</td>\n",
       "      <td>35.339020</td>\n",
       "      <td>00:20</td>\n",
       "    </tr>\n",
       "    <tr>\n",
       "      <td>8</td>\n",
       "      <td>57.564716</td>\n",
       "      <td>30.686193</td>\n",
       "      <td>00:20</td>\n",
       "    </tr>\n",
       "    <tr>\n",
       "      <td>9</td>\n",
       "      <td>46.093826</td>\n",
       "      <td>28.824787</td>\n",
       "      <td>00:19</td>\n",
       "    </tr>\n",
       "    <tr>\n",
       "      <td>10</td>\n",
       "      <td>38.742359</td>\n",
       "      <td>27.684528</td>\n",
       "      <td>00:20</td>\n",
       "    </tr>\n",
       "    <tr>\n",
       "      <td>11</td>\n",
       "      <td>33.984131</td>\n",
       "      <td>26.794569</td>\n",
       "      <td>00:19</td>\n",
       "    </tr>\n",
       "    <tr>\n",
       "      <td>12</td>\n",
       "      <td>30.792570</td>\n",
       "      <td>26.081610</td>\n",
       "      <td>00:20</td>\n",
       "    </tr>\n",
       "    <tr>\n",
       "      <td>13</td>\n",
       "      <td>28.645113</td>\n",
       "      <td>25.622770</td>\n",
       "      <td>00:20</td>\n",
       "    </tr>\n",
       "  </tbody>\n",
       "</table><p>\n",
       "\n",
       "    <div>\n",
       "      <progress value='0' class='' max='26' style='width:300px; height:20px; vertical-align: middle;'></progress>\n",
       "      0.00% [0/26 00:00&lt;?]\n",
       "    </div>\n",
       "    "
      ],
      "text/plain": [
       "<IPython.core.display.HTML object>"
      ]
     },
     "metadata": {},
     "output_type": "display_data"
    },
    {
     "data": {
      "image/png": "[encoded data removed]",
      "text/plain": [
       "<Figure size 600x400 with 1 Axes>"
      ]
     },
     "metadata": {},
     "output_type": "display_data"
    }
   ],
   "source": [
    "#Training\n",
    "learn.fit_one_cycle(n_epochs, lr, cbs=[ShowGraphCallback()])"
   ]
  },
  {
   "cell_type": "code",
   "execution_count": null,
   "id": "a1f5f90c-e3cf-4d6b-87cc-d28760d2ce4b",
   "metadata": {},
   "outputs": [],
   "source": [
    "if save_models:\n",
    "    model_name = f'd_{d}_epoch_{n_epochs}_split_{split}'\n",
    "    torch.save(learn.model, f'{path}models/{model_name}.pt')\n",
    "    file = open(f'{path}models/indices_{model_name}.txt','w')\n",
    "    file.write(str(split)+\" \")\n",
    "    for item in indices:\n",
    "        file.write(str(item)+\" \")\n",
    "    file.close()"
   ]
  },
  {
   "cell_type": "code",
   "execution_count": null,
   "id": "1a861a62-7956-442d-b602-70249d74d173",
   "metadata": {},
   "outputs": [],
   "source": [
    "for img_batch, _ in dls.train:\n",
    "    img = img_batch[0].to(device)\n",
    "    fig, axs = plt.subplots(1, 2, figsize=(10, 5))\n",
    "    axs[0].imshow(learn.decrypt(learn.encrypt(img)).cpu().detach().numpy()[0], extent = extent, aspect = 'auto')\n",
    "    axs[1].imshow(learn.decrypt(learn.encrypt(img)).cpu().detach().numpy()[0], extent = extent, aspect = 'auto')\n",
    "    plt.show()\n",
    "    plt.close(fig)\n",
    "    break"
   ]
  },
  {
   "cell_type": "code",
   "execution_count": null,
   "id": "552475d6-37ec-4a42-8a3f-f539489af835",
   "metadata": {},
   "outputs": [],
   "source": [
    "#Validation loss\n",
    "valid_loss = learn.validate()[0]\n",
    "%store valid_loss"
   ]
  }
 ],
 "metadata": {
  "kernelspec": {
   "display_name": "Python MainEnv",
   "language": "python",
   "name": "myenv"
  },
  "language_info": {
   "codemirror_mode": {
    "name": "ipython",
    "version": 3
   },
   "file_extension": ".py",
   "mimetype": "text/x-python",
   "name": "python",
   "nbconvert_exporter": "python",
   "pygments_lexer": "ipython3",
   "version": "3.11.4"
  }
 },
 "nbformat": 4,
 "nbformat_minor": 5
}
