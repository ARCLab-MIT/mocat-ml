{
 "cells": [
  {
   "attachments": {},
   "cell_type": "markdown",
   "metadata": {},
   "source": [
    "# TSF\n",
    "\n",
    "> Time series forecasting to approach the problem of predicting density distributions\n",
    "\n",
    "We start simple, just taking the beginning of one simulation from one scenario\n",
    "and trying to predict the end of the simulation. Only for one phase space.\n",
    "The 2 dimensions of the phase space can be flattened to transform the problem\n",
    "into a nominal tsf problem"
   ]
  },
  {
   "cell_type": "code",
   "execution_count": 17,
   "metadata": {},
   "outputs": [
    {
     "name": "stdout",
     "output_type": "stream",
     "text": [
      "os              : Linux-5.19.0-41-generic-x86_64-with-glibc2.31\n",
      "python          : 3.9.16\n",
      "tsai            : 0.3.7\n",
      "fastai          : 2.7.12\n",
      "fastcore        : 1.5.29\n",
      "torch           : 2.0.1+cu117\n",
      "cpu cores       : 4\n",
      "threads per cpu : 2\n",
      "RAM             : 15.32 GB\n",
      "GPU memory      : N/A\n"
     ]
    }
   ],
   "source": [
    "import sys\n",
    "sys.path.append('..')\n",
    "from mocatml.utils import *\n",
    "convert_uuids_to_indices()\n",
    "import h5py\n",
    "from tsai.basics import *\n",
    "from fastai.callback.schedule import valley, steep\n",
    "my_setup()"
   ]
  },
  {
   "cell_type": "code",
   "execution_count": 18,
   "metadata": {},
   "outputs": [
    {
     "data": {
      "text/markdown": [
       "```json\n",
       "{ 'arch': {'config_file': None, 'hps': {}, 'name': 'TSiT'},\n",
       "  'bs': 8,\n",
       "  'data': {'path': '~/data/density_data/TLE_density_all.mat'},\n",
       "  'horizon': 12,\n",
       "  'lookback': 12,\n",
       "  'lr_max': None,\n",
       "  'n_epoch': 25,\n",
       "  'seed': 42,\n",
       "  'sel_steps': 48,\n",
       "  'stride': 6,\n",
       "  'wandb': { 'enabled': False,\n",
       "             'group': None,\n",
       "             'log_learner': False,\n",
       "             'mode': 'offline',\n",
       "             'project': 'mocatml'}}\n",
       "```"
      ],
      "text/plain": [
       "{'bs': 8,\n",
       " 'data': {'path': '~/data/density_data/TLE_density_all.mat'},\n",
       " 'lr_max': None,\n",
       " 'n_epoch': 25,\n",
       " 'seed': 42,\n",
       " 'wandb': {'enabled': False,\n",
       "  'log_learner': False,\n",
       "  'mode': 'offline',\n",
       "  'group': None,\n",
       "  'project': 'mocatml'},\n",
       " 'arch': {'name': 'TSiT', 'config_file': None, 'hps': {}},\n",
       " 'lookback': 12,\n",
       " 'horizon': 12,\n",
       " 'sel_steps': 48,\n",
       " 'stride': 6}"
      ]
     },
     "execution_count": 18,
     "metadata": {},
     "output_type": "execute_result"
    }
   ],
   "source": [
    "config_base = yaml2dict('./config/base.yaml', attrdict=True)\n",
    "config_tsf = yaml2dict('./config/tsf.yaml', attrdict=True)\n",
    "config = AttrDict({**config_base, **config_tsf})\n",
    "# Add the hyperparameters to arch.hps from the file pointed by config.arch.config_file\n",
    "if config.arch.config_file is not None:\n",
    "    config.arch.config_file = Path(config.arch.config_file)\n",
    "    if config.arch.config_file.exists():\n",
    "        config.arch.hps = yaml2dict(config.arch.config_file, attrdict=True)\n",
    "    else:\n",
    "        print(f'No custom arch config found in {config.arch.config_file}')\n",
    "        config.arch.hps = AttrDict()\n",
    "else:\n",
    "    config.arch.hps = AttrDict()\n",
    "config"
   ]
  },
  {
   "cell_type": "code",
   "execution_count": 19,
   "metadata": {},
   "outputs": [
    {
     "name": "stdout",
     "output_type": "stream",
     "text": [
      "Am_disc\n",
      "MCconfig:\n",
      "  CUBE_RES\n",
      "  DAY2MIN\n",
      "  DAY2SEC\n",
      "  PMD\n",
      "  P_frag\n",
      "  P_frag_cutoff\n",
      "  YEAR2DAY\n",
      "  YEAR2MIN\n",
      "  a_all\n",
      "  aa_all\n",
      "  additional_launches\n",
      "  alph\n",
      "  alph_a\n",
      "  altitude_limit_low\n",
      "  altitude_limit_up\n",
      "  ap_all\n",
      "  collision_alt_limit\n",
      "  density_profile\n",
      "  dt_days\n",
      "  filename_save\n",
      "  fillMassRadius\n",
      "  ind_launch\n",
      "  ind_launch_add\n",
      "  j2\n",
      "  launchMC_step\n",
      "  launchMinPerShell\n",
      "  launchRepeatSmooth\n",
      "  launchRepeatYrs\n",
      "  launch_increase_per_year\n",
      "  launch_model\n",
      "  mat_sats\n",
      "  max_frag\n",
      "  missionlifetime\n",
      "  mu_const\n",
      "  n_save_checkpoint\n",
      "  n_time\n",
      "  noRBs\n",
      "  omega_earth\n",
      "  orbtol\n",
      "  paramSSEM\n",
      "  rad\n",
      "  radiusearthkm\n",
      "  repeatLaunches\n",
      "  save_100_tsteps\n",
      "  save_output_file\n",
      "  skipCollisions\n",
      "  step_control\n",
      "  time0\n",
      "  total_launch_per_year\n",
      "  tsince\n",
      "  tumin\n",
      "  use_sgp4\n",
      "  xLaunch\n",
      "  xPop\n",
      "comb_Am_inc\n",
      "comb_Am_ra\n",
      "comb_Am_rp\n",
      "comb_inc_ra\n",
      "comb_inc_rp\n",
      "comb_ra_rp\n",
      "inc_disc\n",
      "param:\n",
      "  density_profile\n",
      "  j2\n",
      "  jd\n",
      "  maxID\n",
      "  max_frag\n",
      "  mu\n",
      "  paramSSEM\n",
      "  req\n",
      "  sample_params\n",
      "paramSSEM:\n",
      "  A\n",
      "  N_shell\n",
      "  R02\n",
      "  cd\n",
      "  h_max\n",
      "  h_min\n",
      "  lam1\n",
      "  mass\n",
      "  radius\n",
      "  re\n",
      "  rho0_re\n",
      "  species\n",
      "ra_disc\n",
      "rp_disc\n",
      "time_density\n"
     ]
    }
   ],
   "source": [
    "data = h5py.File(Path(config.data.path).expanduser(), 'r')\n",
    "# Remove every key starting with '__' and '#' from the dictionary   \n",
    "data = {k: v for k, v in data.items() if not (k.startswith('__') or k.startswith('#'))}\n",
    "for k, v in data.items():\n",
    "    # If the value is a HDF5 group, recursively print the group.\n",
    "    # Otherwise, print the value\n",
    "    if isinstance(data[k], h5py.Group):\n",
    "        print(f'{k}:')\n",
    "        for k1 in data[k].keys():\n",
    "            print(f'  {k1}')\n",
    "    else:\n",
    "        print(f'{k}')"
   ]
  },
  {
   "cell_type": "code",
   "execution_count": 20,
   "metadata": {},
   "outputs": [
    {
     "data": {
      "text/plain": [
       "(100, 3564, 48)"
      ]
     },
     "execution_count": 20,
     "metadata": {},
     "output_type": "execute_result"
    }
   ],
   "source": [
    "ps_am_rp = data['comb_Am_rp'][:, :config.sel_steps] # phase space Am [m2/kg] and rp [km]\n",
    "# The original data comes in the shape (n_samples, n_time_steps, Am, rp)\n",
    "# Flatten the last two dimensions into one, so that the shape becomes \n",
    "# (n_samples, n_time_steps, Am*rp). Then, transpose the shape to \n",
    "# (n_samples, Am*rp, n_time_steps)\n",
    "ps_am_rp = ps_am_rp.reshape(ps_am_rp.shape[0], ps_am_rp.shape[1], -1).transpose(0, 2, 1)\n",
    "ps_am_rp.shape"
   ]
  },
  {
   "cell_type": "code",
   "execution_count": 21,
   "metadata": {},
   "outputs": [
    {
     "data": {
      "image/png": "[encoded data removed]",
      "text/plain": [
       "<Figure size 1600x50 with 1 Axes>"
      ]
     },
     "metadata": {},
     "output_type": "display_data"
    },
    {
     "data": {
      "text/plain": [
       "((#80) [90,43,50,35,2,26,88,36,39,28...],\n",
       " (#20) [83,34,60,49,21,41,53,94,15,19...])"
      ]
     },
     "execution_count": 21,
     "metadata": {},
     "output_type": "execute_result"
    }
   ],
   "source": [
    "# Split ps_am_rp so that different simulations are used in train and validation\n",
    "splits = get_splits(ps_am_rp)\n",
    "splits"
   ]
  },
  {
   "cell_type": "code",
   "execution_count": 23,
   "metadata": {},
   "outputs": [
    {
     "data": {
      "text/plain": [
       "((400, 3564, 12), (400, 3564, 12), (100, 3564, 12), (100, 3564, 12))"
      ]
     },
     "execution_count": 23,
     "metadata": {},
     "output_type": "execute_result"
    }
   ],
   "source": [
    "X_train, y_train = apply_sliding_window_3d(ps_am_rp[splits[0]], \n",
    "                                           window_len=config.lookback, \n",
    "                                           horizon=config.horizon, \n",
    "                                           stride=config.stride, \n",
    "                                           seq_first=False)\n",
    "X_valid, y_valid = apply_sliding_window_3d(ps_am_rp[splits[1]], \n",
    "                                           window_len=config.lookback,\n",
    "                                           horizon=config.horizon, \n",
    "                                           stride=config.stride,\n",
    "                                           seq_first=False)\n",
    "X_train.shape, y_train.shape, X_valid.shape, y_valid.shape"
   ]
  },
  {
   "cell_type": "code",
   "execution_count": 24,
   "metadata": {},
   "outputs": [
    {
     "data": {
      "text/plain": [
       "((500, 3564, 12),\n",
       " (500, 3564, 12),\n",
       " ((#400) [0,1,2,3,4,5,6,7,8,9...],\n",
       "  (#100) [400,401,402,403,404,405,406,407,408,409...]))"
      ]
     },
     "execution_count": 24,
     "metadata": {},
     "output_type": "execute_result"
    }
   ],
   "source": [
    "X, y, splits = combine_split_data([X_train, X_valid], [y_train, y_valid])\n",
    "X.shape, y.shape, splits"
   ]
  },
  {
   "cell_type": "code",
   "execution_count": 25,
   "metadata": {},
   "outputs": [
    {
     "ename": "KeyboardInterrupt",
     "evalue": "",
     "output_type": "error",
     "traceback": [
      "\u001b[0;31m---------------------------------------------------------------------------\u001b[0m",
      "\u001b[0;31mKeyboardInterrupt\u001b[0m                         Traceback (most recent call last)",
      "Cell \u001b[0;32mIn[25], line 5\u001b[0m\n\u001b[1;32m      2\u001b[0m batch_tfms\u001b[39m=\u001b[39m[]\n\u001b[1;32m      3\u001b[0m learn \u001b[39m=\u001b[39m TSForecaster(X, y, splits, bs\u001b[39m=\u001b[39m[config\u001b[39m.\u001b[39mbs, \u001b[39m2\u001b[39m\u001b[39m*\u001b[39mconfig\u001b[39m.\u001b[39mbs], batch_tfms\u001b[39m=\u001b[39mbatch_tfms,\n\u001b[1;32m      4\u001b[0m                      seed\u001b[39m=\u001b[39mconfig\u001b[39m.\u001b[39mseed, arch\u001b[39m=\u001b[39m\u001b[39m'\u001b[39m\u001b[39mTSiTPlus\u001b[39m\u001b[39m'\u001b[39m, arch_config\u001b[39m=\u001b[39m\u001b[39mdict\u001b[39m())\n\u001b[0;32m----> 5\u001b[0m lr_max \u001b[39m=\u001b[39m learn\u001b[39m.\u001b[39;49mlr_find(suggest_funcs\u001b[39m=\u001b[39;49m(valley, steep))\u001b[39m.\u001b[39msteep \u001b[39mif\u001b[39;00m config\u001b[39m.\u001b[39mlr_max \u001b[39mis\u001b[39;00m \u001b[39mNone\u001b[39;00m \u001b[39melse\u001b[39;00m config\u001b[39m.\u001b[39mmax_lr\n\u001b[1;32m      6\u001b[0m \u001b[39mprint\u001b[39m(\u001b[39mf\u001b[39m\u001b[39m\"\u001b[39m\u001b[39m#params: \u001b[39m\u001b[39m{\u001b[39;00m\u001b[39msum\u001b[39m(p\u001b[39m.\u001b[39mnumel()\u001b[39m \u001b[39m\u001b[39mfor\u001b[39;00m\u001b[39m \u001b[39mp\u001b[39m \u001b[39m\u001b[39min\u001b[39;00m\u001b[39m \u001b[39mlearn\u001b[39m.\u001b[39mmodel\u001b[39m.\u001b[39mparameters())\u001b[39m}\u001b[39;00m\u001b[39m\"\u001b[39m)\n\u001b[1;32m      7\u001b[0m learn\u001b[39m.\u001b[39mfit_one_cycle(n_epoch\u001b[39m=\u001b[39mconfig\u001b[39m.\u001b[39mn_epoch, lr_max\u001b[39m=\u001b[39mlr_max)\n",
      "File \u001b[0;32m/usr/local/pip-global/fastai/callback/schedule.py:293\u001b[0m, in \u001b[0;36mlr_find\u001b[0;34m(self, start_lr, end_lr, num_it, stop_div, show_plot, suggest_funcs)\u001b[0m\n\u001b[1;32m    291\u001b[0m n_epoch \u001b[39m=\u001b[39m num_it\u001b[39m/\u001b[39m\u001b[39m/\u001b[39m\u001b[39mlen\u001b[39m(\u001b[39mself\u001b[39m\u001b[39m.\u001b[39mdls\u001b[39m.\u001b[39mtrain) \u001b[39m+\u001b[39m \u001b[39m1\u001b[39m\n\u001b[1;32m    292\u001b[0m cb\u001b[39m=\u001b[39mLRFinder(start_lr\u001b[39m=\u001b[39mstart_lr, end_lr\u001b[39m=\u001b[39mend_lr, num_it\u001b[39m=\u001b[39mnum_it, stop_div\u001b[39m=\u001b[39mstop_div)\n\u001b[0;32m--> 293\u001b[0m \u001b[39mwith\u001b[39;00m \u001b[39mself\u001b[39m\u001b[39m.\u001b[39mno_logging(): \u001b[39mself\u001b[39;49m\u001b[39m.\u001b[39;49mfit(n_epoch, cbs\u001b[39m=\u001b[39;49mcb)\n\u001b[1;32m    294\u001b[0m \u001b[39mif\u001b[39;00m suggest_funcs \u001b[39mis\u001b[39;00m \u001b[39mnot\u001b[39;00m \u001b[39mNone\u001b[39;00m:\n\u001b[1;32m    295\u001b[0m     lrs, losses \u001b[39m=\u001b[39m tensor(\u001b[39mself\u001b[39m\u001b[39m.\u001b[39mrecorder\u001b[39m.\u001b[39mlrs[num_it\u001b[39m/\u001b[39m\u001b[39m/\u001b[39m\u001b[39m10\u001b[39m:\u001b[39m-\u001b[39m\u001b[39m5\u001b[39m]), tensor(\u001b[39mself\u001b[39m\u001b[39m.\u001b[39mrecorder\u001b[39m.\u001b[39mlosses[num_it\u001b[39m/\u001b[39m\u001b[39m/\u001b[39m\u001b[39m10\u001b[39m:\u001b[39m-\u001b[39m\u001b[39m5\u001b[39m])\n",
      "File \u001b[0;32m/usr/local/pip-global/fastai/learner.py:264\u001b[0m, in \u001b[0;36mLearner.fit\u001b[0;34m(self, n_epoch, lr, wd, cbs, reset_opt, start_epoch)\u001b[0m\n\u001b[1;32m    262\u001b[0m \u001b[39mself\u001b[39m\u001b[39m.\u001b[39mopt\u001b[39m.\u001b[39mset_hypers(lr\u001b[39m=\u001b[39m\u001b[39mself\u001b[39m\u001b[39m.\u001b[39mlr \u001b[39mif\u001b[39;00m lr \u001b[39mis\u001b[39;00m \u001b[39mNone\u001b[39;00m \u001b[39melse\u001b[39;00m lr)\n\u001b[1;32m    263\u001b[0m \u001b[39mself\u001b[39m\u001b[39m.\u001b[39mn_epoch \u001b[39m=\u001b[39m n_epoch\n\u001b[0;32m--> 264\u001b[0m \u001b[39mself\u001b[39;49m\u001b[39m.\u001b[39;49m_with_events(\u001b[39mself\u001b[39;49m\u001b[39m.\u001b[39;49m_do_fit, \u001b[39m'\u001b[39;49m\u001b[39mfit\u001b[39;49m\u001b[39m'\u001b[39;49m, CancelFitException, \u001b[39mself\u001b[39;49m\u001b[39m.\u001b[39;49m_end_cleanup)\n",
      "File \u001b[0;32m/usr/local/pip-global/fastai/learner.py:199\u001b[0m, in \u001b[0;36mLearner._with_events\u001b[0;34m(self, f, event_type, ex, final)\u001b[0m\n\u001b[1;32m    198\u001b[0m \u001b[39mdef\u001b[39;00m \u001b[39m_with_events\u001b[39m(\u001b[39mself\u001b[39m, f, event_type, ex, final\u001b[39m=\u001b[39mnoop):\n\u001b[0;32m--> 199\u001b[0m     \u001b[39mtry\u001b[39;00m: \u001b[39mself\u001b[39m(\u001b[39mf\u001b[39m\u001b[39m'\u001b[39m\u001b[39mbefore_\u001b[39m\u001b[39m{\u001b[39;00mevent_type\u001b[39m}\u001b[39;00m\u001b[39m'\u001b[39m);  f()\n\u001b[1;32m    200\u001b[0m     \u001b[39mexcept\u001b[39;00m ex: \u001b[39mself\u001b[39m(\u001b[39mf\u001b[39m\u001b[39m'\u001b[39m\u001b[39mafter_cancel_\u001b[39m\u001b[39m{\u001b[39;00mevent_type\u001b[39m}\u001b[39;00m\u001b[39m'\u001b[39m)\n\u001b[1;32m    201\u001b[0m     \u001b[39mself\u001b[39m(\u001b[39mf\u001b[39m\u001b[39m'\u001b[39m\u001b[39mafter_\u001b[39m\u001b[39m{\u001b[39;00mevent_type\u001b[39m}\u001b[39;00m\u001b[39m'\u001b[39m);  final()\n",
      "File \u001b[0;32m/usr/local/pip-global/fastai/learner.py:253\u001b[0m, in \u001b[0;36mLearner._do_fit\u001b[0;34m(self)\u001b[0m\n\u001b[1;32m    251\u001b[0m \u001b[39mfor\u001b[39;00m epoch \u001b[39min\u001b[39;00m \u001b[39mrange\u001b[39m(\u001b[39mself\u001b[39m\u001b[39m.\u001b[39mn_epoch):\n\u001b[1;32m    252\u001b[0m     \u001b[39mself\u001b[39m\u001b[39m.\u001b[39mepoch\u001b[39m=\u001b[39mepoch\n\u001b[0;32m--> 253\u001b[0m     \u001b[39mself\u001b[39;49m\u001b[39m.\u001b[39;49m_with_events(\u001b[39mself\u001b[39;49m\u001b[39m.\u001b[39;49m_do_epoch, \u001b[39m'\u001b[39;49m\u001b[39mepoch\u001b[39;49m\u001b[39m'\u001b[39;49m, CancelEpochException)\n",
      "File \u001b[0;32m/usr/local/pip-global/fastai/learner.py:199\u001b[0m, in \u001b[0;36mLearner._with_events\u001b[0;34m(self, f, event_type, ex, final)\u001b[0m\n\u001b[1;32m    198\u001b[0m \u001b[39mdef\u001b[39;00m \u001b[39m_with_events\u001b[39m(\u001b[39mself\u001b[39m, f, event_type, ex, final\u001b[39m=\u001b[39mnoop):\n\u001b[0;32m--> 199\u001b[0m     \u001b[39mtry\u001b[39;00m: \u001b[39mself\u001b[39m(\u001b[39mf\u001b[39m\u001b[39m'\u001b[39m\u001b[39mbefore_\u001b[39m\u001b[39m{\u001b[39;00mevent_type\u001b[39m}\u001b[39;00m\u001b[39m'\u001b[39m);  f()\n\u001b[1;32m    200\u001b[0m     \u001b[39mexcept\u001b[39;00m ex: \u001b[39mself\u001b[39m(\u001b[39mf\u001b[39m\u001b[39m'\u001b[39m\u001b[39mafter_cancel_\u001b[39m\u001b[39m{\u001b[39;00mevent_type\u001b[39m}\u001b[39;00m\u001b[39m'\u001b[39m)\n\u001b[1;32m    201\u001b[0m     \u001b[39mself\u001b[39m(\u001b[39mf\u001b[39m\u001b[39m'\u001b[39m\u001b[39mafter_\u001b[39m\u001b[39m{\u001b[39;00mevent_type\u001b[39m}\u001b[39;00m\u001b[39m'\u001b[39m);  final()\n",
      "File \u001b[0;32m/usr/local/pip-global/fastai/learner.py:247\u001b[0m, in \u001b[0;36mLearner._do_epoch\u001b[0;34m(self)\u001b[0m\n\u001b[1;32m    246\u001b[0m \u001b[39mdef\u001b[39;00m \u001b[39m_do_epoch\u001b[39m(\u001b[39mself\u001b[39m):\n\u001b[0;32m--> 247\u001b[0m     \u001b[39mself\u001b[39;49m\u001b[39m.\u001b[39;49m_do_epoch_train()\n\u001b[1;32m    248\u001b[0m     \u001b[39mself\u001b[39m\u001b[39m.\u001b[39m_do_epoch_validate()\n",
      "File \u001b[0;32m/usr/local/pip-global/fastai/learner.py:239\u001b[0m, in \u001b[0;36mLearner._do_epoch_train\u001b[0;34m(self)\u001b[0m\n\u001b[1;32m    237\u001b[0m \u001b[39mdef\u001b[39;00m \u001b[39m_do_epoch_train\u001b[39m(\u001b[39mself\u001b[39m):\n\u001b[1;32m    238\u001b[0m     \u001b[39mself\u001b[39m\u001b[39m.\u001b[39mdl \u001b[39m=\u001b[39m \u001b[39mself\u001b[39m\u001b[39m.\u001b[39mdls\u001b[39m.\u001b[39mtrain\n\u001b[0;32m--> 239\u001b[0m     \u001b[39mself\u001b[39;49m\u001b[39m.\u001b[39;49m_with_events(\u001b[39mself\u001b[39;49m\u001b[39m.\u001b[39;49mall_batches, \u001b[39m'\u001b[39;49m\u001b[39mtrain\u001b[39;49m\u001b[39m'\u001b[39;49m, CancelTrainException)\n",
      "File \u001b[0;32m/usr/local/pip-global/fastai/learner.py:199\u001b[0m, in \u001b[0;36mLearner._with_events\u001b[0;34m(self, f, event_type, ex, final)\u001b[0m\n\u001b[1;32m    198\u001b[0m \u001b[39mdef\u001b[39;00m \u001b[39m_with_events\u001b[39m(\u001b[39mself\u001b[39m, f, event_type, ex, final\u001b[39m=\u001b[39mnoop):\n\u001b[0;32m--> 199\u001b[0m     \u001b[39mtry\u001b[39;00m: \u001b[39mself\u001b[39m(\u001b[39mf\u001b[39m\u001b[39m'\u001b[39m\u001b[39mbefore_\u001b[39m\u001b[39m{\u001b[39;00mevent_type\u001b[39m}\u001b[39;00m\u001b[39m'\u001b[39m);  f()\n\u001b[1;32m    200\u001b[0m     \u001b[39mexcept\u001b[39;00m ex: \u001b[39mself\u001b[39m(\u001b[39mf\u001b[39m\u001b[39m'\u001b[39m\u001b[39mafter_cancel_\u001b[39m\u001b[39m{\u001b[39;00mevent_type\u001b[39m}\u001b[39;00m\u001b[39m'\u001b[39m)\n\u001b[1;32m    201\u001b[0m     \u001b[39mself\u001b[39m(\u001b[39mf\u001b[39m\u001b[39m'\u001b[39m\u001b[39mafter_\u001b[39m\u001b[39m{\u001b[39;00mevent_type\u001b[39m}\u001b[39;00m\u001b[39m'\u001b[39m);  final()\n",
      "File \u001b[0;32m/usr/local/pip-global/fastai/learner.py:205\u001b[0m, in \u001b[0;36mLearner.all_batches\u001b[0;34m(self)\u001b[0m\n\u001b[1;32m    203\u001b[0m \u001b[39mdef\u001b[39;00m \u001b[39mall_batches\u001b[39m(\u001b[39mself\u001b[39m):\n\u001b[1;32m    204\u001b[0m     \u001b[39mself\u001b[39m\u001b[39m.\u001b[39mn_iter \u001b[39m=\u001b[39m \u001b[39mlen\u001b[39m(\u001b[39mself\u001b[39m\u001b[39m.\u001b[39mdl)\n\u001b[0;32m--> 205\u001b[0m     \u001b[39mfor\u001b[39;00m o \u001b[39min\u001b[39;00m \u001b[39menumerate\u001b[39m(\u001b[39mself\u001b[39m\u001b[39m.\u001b[39mdl): \u001b[39mself\u001b[39;49m\u001b[39m.\u001b[39;49mone_batch(\u001b[39m*\u001b[39;49mo)\n",
      "File \u001b[0;32m/usr/local/pip-global/tsai/learner.py:40\u001b[0m, in \u001b[0;36mone_batch\u001b[0;34m(self, i, b)\u001b[0m\n\u001b[1;32m     38\u001b[0m b_on_device \u001b[39m=\u001b[39m to_device(b, device\u001b[39m=\u001b[39m\u001b[39mself\u001b[39m\u001b[39m.\u001b[39mdls\u001b[39m.\u001b[39mdevice) \u001b[39mif\u001b[39;00m \u001b[39mself\u001b[39m\u001b[39m.\u001b[39mdls\u001b[39m.\u001b[39mdevice \u001b[39mis\u001b[39;00m \u001b[39mnot\u001b[39;00m \u001b[39mNone\u001b[39;00m \u001b[39melse\u001b[39;00m b\n\u001b[1;32m     39\u001b[0m \u001b[39mself\u001b[39m\u001b[39m.\u001b[39m_split(b_on_device)\n\u001b[0;32m---> 40\u001b[0m \u001b[39mself\u001b[39;49m\u001b[39m.\u001b[39;49m_with_events(\u001b[39mself\u001b[39;49m\u001b[39m.\u001b[39;49m_do_one_batch, \u001b[39m'\u001b[39;49m\u001b[39mbatch\u001b[39;49m\u001b[39m'\u001b[39;49m, CancelBatchException)\n",
      "File \u001b[0;32m/usr/local/pip-global/fastai/learner.py:199\u001b[0m, in \u001b[0;36mLearner._with_events\u001b[0;34m(self, f, event_type, ex, final)\u001b[0m\n\u001b[1;32m    198\u001b[0m \u001b[39mdef\u001b[39;00m \u001b[39m_with_events\u001b[39m(\u001b[39mself\u001b[39m, f, event_type, ex, final\u001b[39m=\u001b[39mnoop):\n\u001b[0;32m--> 199\u001b[0m     \u001b[39mtry\u001b[39;00m: \u001b[39mself\u001b[39m(\u001b[39mf\u001b[39m\u001b[39m'\u001b[39m\u001b[39mbefore_\u001b[39m\u001b[39m{\u001b[39;00mevent_type\u001b[39m}\u001b[39;00m\u001b[39m'\u001b[39m);  f()\n\u001b[1;32m    200\u001b[0m     \u001b[39mexcept\u001b[39;00m ex: \u001b[39mself\u001b[39m(\u001b[39mf\u001b[39m\u001b[39m'\u001b[39m\u001b[39mafter_cancel_\u001b[39m\u001b[39m{\u001b[39;00mevent_type\u001b[39m}\u001b[39;00m\u001b[39m'\u001b[39m)\n\u001b[1;32m    201\u001b[0m     \u001b[39mself\u001b[39m(\u001b[39mf\u001b[39m\u001b[39m'\u001b[39m\u001b[39mafter_\u001b[39m\u001b[39m{\u001b[39;00mevent_type\u001b[39m}\u001b[39;00m\u001b[39m'\u001b[39m);  final()\n",
      "File \u001b[0;32m/usr/local/pip-global/fastai/learner.py:223\u001b[0m, in \u001b[0;36mLearner._do_one_batch\u001b[0;34m(self)\u001b[0m\n\u001b[1;32m    221\u001b[0m \u001b[39mself\u001b[39m(\u001b[39m'\u001b[39m\u001b[39mafter_loss\u001b[39m\u001b[39m'\u001b[39m)\n\u001b[1;32m    222\u001b[0m \u001b[39mif\u001b[39;00m \u001b[39mnot\u001b[39;00m \u001b[39mself\u001b[39m\u001b[39m.\u001b[39mtraining \u001b[39mor\u001b[39;00m \u001b[39mnot\u001b[39;00m \u001b[39mlen\u001b[39m(\u001b[39mself\u001b[39m\u001b[39m.\u001b[39myb): \u001b[39mreturn\u001b[39;00m\n\u001b[0;32m--> 223\u001b[0m \u001b[39mself\u001b[39;49m\u001b[39m.\u001b[39;49m_do_grad_opt()\n",
      "File \u001b[0;32m/usr/local/pip-global/fastai/learner.py:212\u001b[0m, in \u001b[0;36mLearner._do_grad_opt\u001b[0;34m(self)\u001b[0m\n\u001b[1;32m    210\u001b[0m \u001b[39mdef\u001b[39;00m \u001b[39m_do_grad_opt\u001b[39m(\u001b[39mself\u001b[39m):\n\u001b[1;32m    211\u001b[0m     \u001b[39mself\u001b[39m\u001b[39m.\u001b[39m_with_events(\u001b[39mself\u001b[39m\u001b[39m.\u001b[39m_backward, \u001b[39m'\u001b[39m\u001b[39mbackward\u001b[39m\u001b[39m'\u001b[39m, CancelBackwardException)\n\u001b[0;32m--> 212\u001b[0m     \u001b[39mself\u001b[39;49m\u001b[39m.\u001b[39;49m_with_events(\u001b[39mself\u001b[39;49m\u001b[39m.\u001b[39;49m_step, \u001b[39m'\u001b[39;49m\u001b[39mstep\u001b[39;49m\u001b[39m'\u001b[39;49m, CancelStepException)\n\u001b[1;32m    213\u001b[0m     \u001b[39mself\u001b[39m\u001b[39m.\u001b[39mopt\u001b[39m.\u001b[39mzero_grad()\n",
      "File \u001b[0;32m/usr/local/pip-global/fastai/learner.py:199\u001b[0m, in \u001b[0;36mLearner._with_events\u001b[0;34m(self, f, event_type, ex, final)\u001b[0m\n\u001b[1;32m    198\u001b[0m \u001b[39mdef\u001b[39;00m \u001b[39m_with_events\u001b[39m(\u001b[39mself\u001b[39m, f, event_type, ex, final\u001b[39m=\u001b[39mnoop):\n\u001b[0;32m--> 199\u001b[0m     \u001b[39mtry\u001b[39;00m: \u001b[39mself\u001b[39m(\u001b[39mf\u001b[39m\u001b[39m'\u001b[39m\u001b[39mbefore_\u001b[39m\u001b[39m{\u001b[39;00mevent_type\u001b[39m}\u001b[39;00m\u001b[39m'\u001b[39m);  f()\n\u001b[1;32m    200\u001b[0m     \u001b[39mexcept\u001b[39;00m ex: \u001b[39mself\u001b[39m(\u001b[39mf\u001b[39m\u001b[39m'\u001b[39m\u001b[39mafter_cancel_\u001b[39m\u001b[39m{\u001b[39;00mevent_type\u001b[39m}\u001b[39;00m\u001b[39m'\u001b[39m)\n\u001b[1;32m    201\u001b[0m     \u001b[39mself\u001b[39m(\u001b[39mf\u001b[39m\u001b[39m'\u001b[39m\u001b[39mafter_\u001b[39m\u001b[39m{\u001b[39;00mevent_type\u001b[39m}\u001b[39;00m\u001b[39m'\u001b[39m);  final()\n",
      "File \u001b[0;32m/usr/local/pip-global/fastai/learner.py:208\u001b[0m, in \u001b[0;36mLearner._step\u001b[0;34m(self)\u001b[0m\n\u001b[0;32m--> 208\u001b[0m \u001b[39mdef\u001b[39;00m \u001b[39m_step\u001b[39m(\u001b[39mself\u001b[39m): \u001b[39mself\u001b[39;49m\u001b[39m.\u001b[39;49mopt\u001b[39m.\u001b[39;49mstep()\n",
      "File \u001b[0;32m/usr/local/pip-global/fastai/optimizer.py:111\u001b[0m, in \u001b[0;36mOptimizer.step\u001b[0;34m(self, closure)\u001b[0m\n\u001b[1;32m    109\u001b[0m \u001b[39mif\u001b[39;00m closure \u001b[39mis\u001b[39;00m \u001b[39mnot\u001b[39;00m \u001b[39mNone\u001b[39;00m: \u001b[39mraise\u001b[39;00m \u001b[39mNotImplementedError\u001b[39;00m(\u001b[39m\"\u001b[39m\u001b[39mfastai optimizers currently do not support closure\u001b[39m\u001b[39m\"\u001b[39m)\n\u001b[1;32m    110\u001b[0m \u001b[39mfor\u001b[39;00m p,pg,state,hyper \u001b[39min\u001b[39;00m \u001b[39mself\u001b[39m\u001b[39m.\u001b[39mall_params(with_grad\u001b[39m=\u001b[39m\u001b[39mTrue\u001b[39;00m):\n\u001b[0;32m--> 111\u001b[0m     \u001b[39mfor\u001b[39;00m cb \u001b[39min\u001b[39;00m \u001b[39mself\u001b[39m\u001b[39m.\u001b[39mcbs: state \u001b[39m=\u001b[39m _update(state, cb(p, \u001b[39m*\u001b[39;49m\u001b[39m*\u001b[39;49m{\u001b[39m*\u001b[39;49m\u001b[39m*\u001b[39;49mstate, \u001b[39m*\u001b[39;49m\u001b[39m*\u001b[39;49mhyper}))\n\u001b[1;32m    112\u001b[0m     \u001b[39mself\u001b[39m\u001b[39m.\u001b[39mstate[p] \u001b[39m=\u001b[39m state\n",
      "File \u001b[0;32m/usr/local/pip-global/fastai/optimizer.py:224\u001b[0m, in \u001b[0;36madam_step\u001b[0;34m(p, lr, mom, step, sqr_mom, grad_avg, sqr_avg, eps, **kwargs)\u001b[0m\n\u001b[1;32m    222\u001b[0m debias1 \u001b[39m=\u001b[39m debias(mom,     \u001b[39m1\u001b[39m\u001b[39m-\u001b[39mmom,     step)\n\u001b[1;32m    223\u001b[0m debias2 \u001b[39m=\u001b[39m debias(sqr_mom, \u001b[39m1\u001b[39m\u001b[39m-\u001b[39msqr_mom, step)\n\u001b[0;32m--> 224\u001b[0m p\u001b[39m.\u001b[39mdata\u001b[39m.\u001b[39maddcdiv_(grad_avg, (sqr_avg\u001b[39m/\u001b[39;49mdebias2)\u001b[39m.\u001b[39;49msqrt() \u001b[39m+\u001b[39m eps, value \u001b[39m=\u001b[39m \u001b[39m-\u001b[39mlr \u001b[39m/\u001b[39m debias1)\n\u001b[1;32m    225\u001b[0m \u001b[39mreturn\u001b[39;00m p\n",
      "\u001b[0;31mKeyboardInterrupt\u001b[0m: "
     ]
    }
   ],
   "source": [
    "#batch_tfms=[TSStandardize()]\n",
    "batch_tfms=[]\n",
    "learn = TSForecaster(X, y, splits, bs=[config.bs, 2*config.bs], batch_tfms=batch_tfms,\n",
    "                     seed=config.seed, arch='TSiTPlus', arch_config=dict())\n",
    "lr_max = learn.lr_find(suggest_funcs=(valley, steep)).steep if config.lr_max is None else config.max_lr\n",
    "print(f\"#params: {sum(p.numel() for p in learn.model.parameters())}\")\n",
    "learn.fit_one_cycle(n_epoch=config.n_epoch, lr_max=lr_max)\n",
    "learn.plot_metrics()"
   ]
  }
 ],
 "metadata": {
  "kernelspec": {
   "display_name": "Python 3 (ipykernel)",
   "language": "python",
   "name": "python3"
  },
  "language_info": {
   "codemirror_mode": {
    "name": "ipython",
    "version": 3
   },
   "file_extension": ".py",
   "mimetype": "text/x-python",
   "name": "python",
   "nbconvert_exporter": "python",
   "pygments_lexer": "ipython3",
   "version": "3.9.16"
  }
 },
 "nbformat": 4,
 "nbformat_minor": 4
}
