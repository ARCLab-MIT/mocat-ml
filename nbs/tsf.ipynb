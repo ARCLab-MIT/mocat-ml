{
 "cells": [
  {
   "attachments": {},
   "cell_type": "markdown",
   "metadata": {},
   "source": [
    "# TSF\n",
    "\n",
    "> Time series forecasting to approach the problem of predicting density distributions\n",
    "\n",
    "We start simple, just taking the beginning of one simulation from one scenario\n",
    "and trying to predict the end of the simulation. Only for one phase space.\n",
    "The 2 dimensions of the phase space can be flattened to transform the problem\n",
    "into a nominal tsf problem"
   ]
  },
  {
   "cell_type": "code",
   "execution_count": 1,
   "metadata": {},
   "outputs": [],
   "source": [
    "from tsai.basics import *\n",
    "import scipy.io\n"
   ]
  },
  {
   "cell_type": "code",
   "execution_count": 2,
   "metadata": {},
   "outputs": [],
   "source": [
    "config = AttrDict(\n",
    "    bs=64, # batch size\n",
    "    epochs=100, # max number of epochs\n",
    "    lookback=10, # number of previous steps to consider\n",
    "    horizon=1, # number of steps into the future\n",
    "    max_lr=None, # If None, lr_find will be called\n",
    "    seed=42, # random seed\n",
    "    stride=1, # number of steps between two consecutive windows\n",
    "    wd=0., # weight decay\n",
    ")"
   ]
  },
  {
   "cell_type": "code",
   "execution_count": 3,
   "metadata": {},
   "outputs": [
    {
     "name": "stdout",
     "output_type": "stream",
     "text": [
      "MCconfig <class 'numpy.ndarray'> (1, 1)\n",
      "param <class 'numpy.ndarray'> (1, 1)\n",
      "paramSSEM <class 'numpy.ndarray'> (1, 1)\n",
      "time_density <class 'numpy.ndarray'> (122, 1)\n",
      "ra_disc <class 'numpy.ndarray'> (1, 37)\n",
      "rp_disc <class 'numpy.ndarray'> (1, 37)\n",
      "inc_disc <class 'numpy.ndarray'> (1, 181)\n",
      "Am_disc <class 'numpy.ndarray'> (1, 100)\n",
      "comb_Am_rp <class 'numpy.ndarray'> (99, 36, 122)\n",
      "comb_Am_ra <class 'numpy.ndarray'> (99, 36, 122)\n",
      "comb_Am_inc <class 'numpy.ndarray'> (99, 180, 122)\n",
      "comb_inc_rp <class 'numpy.ndarray'> (180, 36, 122)\n",
      "comb_inc_ra <class 'numpy.ndarray'> (180, 36, 122)\n",
      "comb_ra_rp <class 'numpy.ndarray'> (36, 36, 122)\n"
     ]
    }
   ],
   "source": [
    "data = scipy.io.loadmat('../data/SommaMult_3_x10_x10_0215_1_part_1_density.mat')\n",
    "# Remove every key starting with '__' from the dictionary\n",
    "data = {k: v for k, v in data.items() if not k.startswith('__')}\n",
    "for k, v in data.items():\n",
    "    print(k, type(v), v.shape)"
   ]
  },
  {
   "cell_type": "code",
   "execution_count": 4,
   "metadata": {},
   "outputs": [],
   "source": [
    "ps_am_rp = data['comb_Am_rp'] # phase space Am [m2/kg] and rp [km]\n",
    "# Flatten the array except for the last dimension (time)\n",
    "ps_am_rp = ps_am_rp.reshape(-1, ps_am_rp.shape[-1]).astype(np.float32)"
   ]
  },
  {
   "cell_type": "code",
   "execution_count": 5,
   "metadata": {},
   "outputs": [
    {
     "data": {
      "text/plain": [
       "((112, 3564, 10), (112, 3564))"
      ]
     },
     "execution_count": 5,
     "metadata": {},
     "output_type": "execute_result"
    }
   ],
   "source": [
    "sw = SlidingWindow(window_len=config.lookback, stride=1, horizon=config.horizon, \n",
    "                   seq_first=False)\n",
    "X, y = sw(ps_am_rp)\n",
    "X.shape, y.shape"
   ]
  },
  {
   "cell_type": "code",
   "execution_count": 6,
   "metadata": {},
   "outputs": [
    {
     "data": {
      "image/png": "[encoded data removed]",
      "text/plain": [
       "<Figure size 1600x50 with 1 Axes>"
      ]
     },
     "metadata": {},
     "output_type": "display_data"
    },
    {
     "data": {
      "text/plain": [
       "((#90) [0,1,2,3,4,5,6,7,8,9...], (#22) [90,91,92,93,94,95,96,97,98,99...])"
      ]
     },
     "execution_count": 6,
     "metadata": {},
     "output_type": "execute_result"
    }
   ],
   "source": [
    "splits = TimeSplitter(fcst_horizon=1)(y)\n",
    "splits"
   ]
  },
  {
   "cell_type": "code",
   "execution_count": 7,
   "metadata": {},
   "outputs": [
    {
     "ename": "",
     "evalue": "",
     "output_type": "error",
     "traceback": [
      "\u001b[1;31mCanceled future for execute_request message before replies were done"
     ]
    },
    {
     "ename": "",
     "evalue": "",
     "output_type": "error",
     "traceback": [
      "\u001b[1;31mThe Kernel crashed while executing code in the the current cell or a previous cell. Please review the code in the cell(s) to identify a possible cause of the failure. Click <a href='https://aka.ms/vscodeJupyterKernelCrash'>here</a> for more info. View Jupyter <a href='command:jupyter.viewOutput'>log</a> for further details."
     ]
    }
   ],
   "source": [
    "learn = TSForecaster(X, y, splits, bs=[config.bs, 2*config.bs], batch_tfms=[],\n",
    "                     seed=config.seed, arch='PatchTST', arch_config=dict())\n",
    "max_lr = learn.lr_find().valley if config.max_lr is None else config.max_lr"
   ]
  },
  {
   "cell_type": "code",
   "execution_count": null,
   "metadata": {},
   "outputs": [],
   "source": []
  }
 ],
 "metadata": {
  "kernelspec": {
   "display_name": "Python 3",
   "language": "python",
   "name": "python3"
  },
  "language_info": {
   "codemirror_mode": {
    "name": "ipython",
    "version": 3
   },
   "file_extension": ".py",
   "mimetype": "text/x-python",
   "name": "python",
   "nbconvert_exporter": "python",
   "pygments_lexer": "ipython3",
   "version": "3.9.16"
  },
  "orig_nbformat": 4
 },
 "nbformat": 4,
 "nbformat_minor": 2
}
