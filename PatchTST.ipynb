{
 "cells": [
  {
   "cell_type": "code",
   "execution_count": 20,
   "id": "e953c3c3-e556-41c3-a8d0-223d11f55274",
   "metadata": {},
   "outputs": [],
   "source": [
    "from tsai.basics import *\n",
    "import json\n",
    "import numpy as np\n",
    "import fastai\n",
    "import fastai.tabular\n",
    "\n",
    "from fastai.vision.all import *\n",
    "from CNN import *\n",
    "import matplotlib.pyplot as plt\n",
    "from mocatml.utils import *\n",
    "from mocatml.data import *"
   ]
  },
  {
   "cell_type": "code",
   "execution_count": null,
   "id": "47cfe07a-441d-489a-afe2-b6687556804d",
   "metadata": {},
   "outputs": [],
   "source": [
    "with open(\"data_config.json\", \"r\") as outfile:\n",
    "    data = json.load(outfile, strict=False)\n",
    "extent = list(data['extent'])\n",
    "data_numpy = np.load('data.npy')\n",
    "\n",
    "d, n_epochs, window_size, batch_size = 32, 35, 60, 64\n",
    "num_sim = 100\n",
    "model = AutoEncoder(d)\n",
    "load_model(f'model/d_{d}_epoch_{n_epochs}.pkl', model, None)"
   ]
  },
  {
   "cell_type": "code",
   "execution_count": null,
   "id": "a8136143-f9e8-46c9-9fe5-c0a487846ee2",
   "metadata": {},
   "outputs": [],
   "source": [
    "with open(f'model/indices_d_{d}_epoch_{n_epochs}.txt', \"r\") as f:\n",
    "    indices = f.read().split()\n",
    "    \n",
    "split = float(indices[0])\n",
    "indices = [int(i) for i in indices[1:]]\n",
    "\n",
    "train_indices = indices[:int(split * num_sim)]\n",
    "val_indices = indices[int(split * num_sim):]"
   ]
  },
  {
   "cell_type": "code",
   "execution_count": null,
   "id": "ced6060b-38a9-4dc3-8b79-ca0d9b40d1f2",
   "metadata": {},
   "outputs": [],
   "source": [
    "data_enc = []\n",
    "for i in range(num_sim):\n",
    "    encoded = model.encrypt(torch.tensor(data_numpy[i], dtype=torch.float32).unsqueeze(0).transpose(0, 1))\n",
    "    data_enc.append(encoded.detach().numpy())\n",
    "data_enc = np.array(data_enc)\n",
    "data_enc.shape"
   ]
  },
  {
   "cell_type": "code",
   "execution_count": null,
   "id": "8db54be8-8dd1-4f88-9921-49e14ca7d8b7",
   "metadata": {},
   "outputs": [],
   "source": [
    "sh = data_enc.shape\n",
    "data_enc_reshaped = data_enc.reshape((sh[0], sh[-1], sh[1]))\n",
    "X_train, y_train = apply_sliding_window_3d(data_enc_reshaped[train_indices], \n",
    "                                           window_len=10,\n",
    "                                           stride=1,\n",
    "                                           seq_first=False,\n",
    "                                           horizon=1)\n",
    "X_valid, y_valid = apply_sliding_window_3d(data_enc_reshaped[val_indices], \n",
    "                                           window_len=10,\n",
    "                                           stride=1,\n",
    "                                           seq_first=False,\n",
    "                                           horizon=1)\n",
    "X_train.shape, y_train.shape, X_valid.shape, y_valid.shape"
   ]
  },
  {
   "cell_type": "code",
   "execution_count": null,
   "id": "97d5567f-d7e3-411d-b675-b82096e985fb",
   "metadata": {},
   "outputs": [],
   "source": [
    "X, y, splits = combine_split_data([X_train, X_valid], [y_train, y_valid])\n",
    "X.shape, y.shape, splits"
   ]
  },
  {
   "cell_type": "code",
   "execution_count": null,
   "id": "512e50fd-9209-48e3-8ab4-e2bd838f43e9",
   "metadata": {},
   "outputs": [],
   "source": [
    "torch.backends.cudnn.benchmark = True"
   ]
  },
  {
   "cell_type": "code",
   "execution_count": null,
   "id": "d3a7aa61-0a10-4732-bfab-efb3b2573a34",
   "metadata": {},
   "outputs": [],
   "source": [
    "model_name = \"PatchTST\"\n",
    "learn = TSForecaster(X, y, splits, bs=batch_size, batch_tfms=[], arch=model_name, arch_config=dict())\n",
    "lr = learn.lr_find().valley"
   ]
  },
  {
   "cell_type": "code",
   "execution_count": null,
   "id": "2fcf6f6f-5f36-4c99-bb3f-edfe28208b24",
   "metadata": {},
   "outputs": [],
   "source": [
    "epochs = 60\n",
    "learn.fit_one_cycle(epochs, lr, cbs=[ShowGraphCallback()])"
   ]
  }
 ],
 "metadata": {
  "kernelspec": {
   "display_name": "Python MainEnv",
   "language": "python",
   "name": "myenv"
  },
  "language_info": {
   "codemirror_mode": {
    "name": "ipython",
    "version": 3
   },
   "file_extension": ".py",
   "mimetype": "text/x-python",
   "name": "python",
   "nbconvert_exporter": "python",
   "pygments_lexer": "ipython3",
   "version": "3.11.4"
  }
 },
 "nbformat": 4,
 "nbformat_minor": 5
}
